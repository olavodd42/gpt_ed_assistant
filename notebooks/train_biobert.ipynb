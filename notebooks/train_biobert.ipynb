{
  "nbformat": 4,
  "nbformat_minor": 0,
  "metadata": {
    "colab": {
      "provenance": [],
      "gpuType": "T4",
      "authorship_tag": "ABX9TyNexZfONuPc1RupEyOkiock",
      "include_colab_link": true
    },
    "kernelspec": {
      "name": "python3",
      "display_name": "Python 3"
    },
    "language_info": {
      "name": "python"
    },
    "accelerator": "GPU",
    "widgets": {
      "application/vnd.jupyter.widget-state+json": {
        "d573f9bbaf7b432bbd949ddf32c2a0ce": {
          "model_module": "@jupyter-widgets/controls",
          "model_name": "HBoxModel",
          "model_module_version": "1.5.0",
          "state": {
            "_dom_classes": [],
            "_model_module": "@jupyter-widgets/controls",
            "_model_module_version": "1.5.0",
            "_model_name": "HBoxModel",
            "_view_count": null,
            "_view_module": "@jupyter-widgets/controls",
            "_view_module_version": "1.5.0",
            "_view_name": "HBoxView",
            "box_style": "",
            "children": [
              "IPY_MODEL_3a178b6c7a9b4ccfa3ba1b596a5d971d",
              "IPY_MODEL_8efe4af94f6b44248e66d5d5a2033ce9",
              "IPY_MODEL_e5bd26052335470fbc5e032085aa4e40"
            ],
            "layout": "IPY_MODEL_77e957be5b7443b4879969b9949b6b47"
          }
        },
        "3a178b6c7a9b4ccfa3ba1b596a5d971d": {
          "model_module": "@jupyter-widgets/controls",
          "model_name": "HTMLModel",
          "model_module_version": "1.5.0",
          "state": {
            "_dom_classes": [],
            "_model_module": "@jupyter-widgets/controls",
            "_model_module_version": "1.5.0",
            "_model_name": "HTMLModel",
            "_view_count": null,
            "_view_module": "@jupyter-widgets/controls",
            "_view_module_version": "1.5.0",
            "_view_name": "HTMLView",
            "description": "",
            "description_tooltip": null,
            "layout": "IPY_MODEL_8175f83fd633466f83f2965a0b3916be",
            "placeholder": "​",
            "style": "IPY_MODEL_fd0c1865f3fa40fd9ad40ead6a151fbe",
            "value": "Map: 100%"
          }
        },
        "8efe4af94f6b44248e66d5d5a2033ce9": {
          "model_module": "@jupyter-widgets/controls",
          "model_name": "FloatProgressModel",
          "model_module_version": "1.5.0",
          "state": {
            "_dom_classes": [],
            "_model_module": "@jupyter-widgets/controls",
            "_model_module_version": "1.5.0",
            "_model_name": "FloatProgressModel",
            "_view_count": null,
            "_view_module": "@jupyter-widgets/controls",
            "_view_module_version": "1.5.0",
            "_view_name": "ProgressView",
            "bar_style": "success",
            "description": "",
            "description_tooltip": null,
            "layout": "IPY_MODEL_e5e013090a61413ca56bb42e7f607df4",
            "max": 33894,
            "min": 0,
            "orientation": "horizontal",
            "style": "IPY_MODEL_0aeacefb278b41f18f639eb8b0dd32b0",
            "value": 33894
          }
        },
        "e5bd26052335470fbc5e032085aa4e40": {
          "model_module": "@jupyter-widgets/controls",
          "model_name": "HTMLModel",
          "model_module_version": "1.5.0",
          "state": {
            "_dom_classes": [],
            "_model_module": "@jupyter-widgets/controls",
            "_model_module_version": "1.5.0",
            "_model_name": "HTMLModel",
            "_view_count": null,
            "_view_module": "@jupyter-widgets/controls",
            "_view_module_version": "1.5.0",
            "_view_name": "HTMLView",
            "description": "",
            "description_tooltip": null,
            "layout": "IPY_MODEL_ac067d6bb4f64202904f77fca2eb8e54",
            "placeholder": "​",
            "style": "IPY_MODEL_2f1b29f809a84d249aaf51e4da871a56",
            "value": " 33894/33894 [00:14&lt;00:00, 2620.91 examples/s]"
          }
        },
        "77e957be5b7443b4879969b9949b6b47": {
          "model_module": "@jupyter-widgets/base",
          "model_name": "LayoutModel",
          "model_module_version": "1.2.0",
          "state": {
            "_model_module": "@jupyter-widgets/base",
            "_model_module_version": "1.2.0",
            "_model_name": "LayoutModel",
            "_view_count": null,
            "_view_module": "@jupyter-widgets/base",
            "_view_module_version": "1.2.0",
            "_view_name": "LayoutView",
            "align_content": null,
            "align_items": null,
            "align_self": null,
            "border": null,
            "bottom": null,
            "display": null,
            "flex": null,
            "flex_flow": null,
            "grid_area": null,
            "grid_auto_columns": null,
            "grid_auto_flow": null,
            "grid_auto_rows": null,
            "grid_column": null,
            "grid_gap": null,
            "grid_row": null,
            "grid_template_areas": null,
            "grid_template_columns": null,
            "grid_template_rows": null,
            "height": null,
            "justify_content": null,
            "justify_items": null,
            "left": null,
            "margin": null,
            "max_height": null,
            "max_width": null,
            "min_height": null,
            "min_width": null,
            "object_fit": null,
            "object_position": null,
            "order": null,
            "overflow": null,
            "overflow_x": null,
            "overflow_y": null,
            "padding": null,
            "right": null,
            "top": null,
            "visibility": null,
            "width": null
          }
        },
        "8175f83fd633466f83f2965a0b3916be": {
          "model_module": "@jupyter-widgets/base",
          "model_name": "LayoutModel",
          "model_module_version": "1.2.0",
          "state": {
            "_model_module": "@jupyter-widgets/base",
            "_model_module_version": "1.2.0",
            "_model_name": "LayoutModel",
            "_view_count": null,
            "_view_module": "@jupyter-widgets/base",
            "_view_module_version": "1.2.0",
            "_view_name": "LayoutView",
            "align_content": null,
            "align_items": null,
            "align_self": null,
            "border": null,
            "bottom": null,
            "display": null,
            "flex": null,
            "flex_flow": null,
            "grid_area": null,
            "grid_auto_columns": null,
            "grid_auto_flow": null,
            "grid_auto_rows": null,
            "grid_column": null,
            "grid_gap": null,
            "grid_row": null,
            "grid_template_areas": null,
            "grid_template_columns": null,
            "grid_template_rows": null,
            "height": null,
            "justify_content": null,
            "justify_items": null,
            "left": null,
            "margin": null,
            "max_height": null,
            "max_width": null,
            "min_height": null,
            "min_width": null,
            "object_fit": null,
            "object_position": null,
            "order": null,
            "overflow": null,
            "overflow_x": null,
            "overflow_y": null,
            "padding": null,
            "right": null,
            "top": null,
            "visibility": null,
            "width": null
          }
        },
        "fd0c1865f3fa40fd9ad40ead6a151fbe": {
          "model_module": "@jupyter-widgets/controls",
          "model_name": "DescriptionStyleModel",
          "model_module_version": "1.5.0",
          "state": {
            "_model_module": "@jupyter-widgets/controls",
            "_model_module_version": "1.5.0",
            "_model_name": "DescriptionStyleModel",
            "_view_count": null,
            "_view_module": "@jupyter-widgets/base",
            "_view_module_version": "1.2.0",
            "_view_name": "StyleView",
            "description_width": ""
          }
        },
        "e5e013090a61413ca56bb42e7f607df4": {
          "model_module": "@jupyter-widgets/base",
          "model_name": "LayoutModel",
          "model_module_version": "1.2.0",
          "state": {
            "_model_module": "@jupyter-widgets/base",
            "_model_module_version": "1.2.0",
            "_model_name": "LayoutModel",
            "_view_count": null,
            "_view_module": "@jupyter-widgets/base",
            "_view_module_version": "1.2.0",
            "_view_name": "LayoutView",
            "align_content": null,
            "align_items": null,
            "align_self": null,
            "border": null,
            "bottom": null,
            "display": null,
            "flex": null,
            "flex_flow": null,
            "grid_area": null,
            "grid_auto_columns": null,
            "grid_auto_flow": null,
            "grid_auto_rows": null,
            "grid_column": null,
            "grid_gap": null,
            "grid_row": null,
            "grid_template_areas": null,
            "grid_template_columns": null,
            "grid_template_rows": null,
            "height": null,
            "justify_content": null,
            "justify_items": null,
            "left": null,
            "margin": null,
            "max_height": null,
            "max_width": null,
            "min_height": null,
            "min_width": null,
            "object_fit": null,
            "object_position": null,
            "order": null,
            "overflow": null,
            "overflow_x": null,
            "overflow_y": null,
            "padding": null,
            "right": null,
            "top": null,
            "visibility": null,
            "width": null
          }
        },
        "0aeacefb278b41f18f639eb8b0dd32b0": {
          "model_module": "@jupyter-widgets/controls",
          "model_name": "ProgressStyleModel",
          "model_module_version": "1.5.0",
          "state": {
            "_model_module": "@jupyter-widgets/controls",
            "_model_module_version": "1.5.0",
            "_model_name": "ProgressStyleModel",
            "_view_count": null,
            "_view_module": "@jupyter-widgets/base",
            "_view_module_version": "1.2.0",
            "_view_name": "StyleView",
            "bar_color": null,
            "description_width": ""
          }
        },
        "ac067d6bb4f64202904f77fca2eb8e54": {
          "model_module": "@jupyter-widgets/base",
          "model_name": "LayoutModel",
          "model_module_version": "1.2.0",
          "state": {
            "_model_module": "@jupyter-widgets/base",
            "_model_module_version": "1.2.0",
            "_model_name": "LayoutModel",
            "_view_count": null,
            "_view_module": "@jupyter-widgets/base",
            "_view_module_version": "1.2.0",
            "_view_name": "LayoutView",
            "align_content": null,
            "align_items": null,
            "align_self": null,
            "border": null,
            "bottom": null,
            "display": null,
            "flex": null,
            "flex_flow": null,
            "grid_area": null,
            "grid_auto_columns": null,
            "grid_auto_flow": null,
            "grid_auto_rows": null,
            "grid_column": null,
            "grid_gap": null,
            "grid_row": null,
            "grid_template_areas": null,
            "grid_template_columns": null,
            "grid_template_rows": null,
            "height": null,
            "justify_content": null,
            "justify_items": null,
            "left": null,
            "margin": null,
            "max_height": null,
            "max_width": null,
            "min_height": null,
            "min_width": null,
            "object_fit": null,
            "object_position": null,
            "order": null,
            "overflow": null,
            "overflow_x": null,
            "overflow_y": null,
            "padding": null,
            "right": null,
            "top": null,
            "visibility": null,
            "width": null
          }
        },
        "2f1b29f809a84d249aaf51e4da871a56": {
          "model_module": "@jupyter-widgets/controls",
          "model_name": "DescriptionStyleModel",
          "model_module_version": "1.5.0",
          "state": {
            "_model_module": "@jupyter-widgets/controls",
            "_model_module_version": "1.5.0",
            "_model_name": "DescriptionStyleModel",
            "_view_count": null,
            "_view_module": "@jupyter-widgets/base",
            "_view_module_version": "1.2.0",
            "_view_name": "StyleView",
            "description_width": ""
          }
        },
        "09d05a0b4d8d44538a49f5ccf91e366e": {
          "model_module": "@jupyter-widgets/controls",
          "model_name": "HBoxModel",
          "model_module_version": "1.5.0",
          "state": {
            "_dom_classes": [],
            "_model_module": "@jupyter-widgets/controls",
            "_model_module_version": "1.5.0",
            "_model_name": "HBoxModel",
            "_view_count": null,
            "_view_module": "@jupyter-widgets/controls",
            "_view_module_version": "1.5.0",
            "_view_name": "HBoxView",
            "box_style": "",
            "children": [
              "IPY_MODEL_def48697414a4bbe8caf6814594c38e3",
              "IPY_MODEL_7a0312bc480e4a19b471d8719342611c",
              "IPY_MODEL_f4de41ca0c934848adf44862de4f73be"
            ],
            "layout": "IPY_MODEL_1ea98d4402e64fd8a1236f571cfc1f5b"
          }
        },
        "def48697414a4bbe8caf6814594c38e3": {
          "model_module": "@jupyter-widgets/controls",
          "model_name": "HTMLModel",
          "model_module_version": "1.5.0",
          "state": {
            "_dom_classes": [],
            "_model_module": "@jupyter-widgets/controls",
            "_model_module_version": "1.5.0",
            "_model_name": "HTMLModel",
            "_view_count": null,
            "_view_module": "@jupyter-widgets/controls",
            "_view_module_version": "1.5.0",
            "_view_name": "HTMLView",
            "description": "",
            "description_tooltip": null,
            "layout": "IPY_MODEL_2c2ec043c8d34e19ad925d8cf8e037e4",
            "placeholder": "​",
            "style": "IPY_MODEL_2fa9d85bf74342329e784f64ff6335d5",
            "value": "Map: 100%"
          }
        },
        "7a0312bc480e4a19b471d8719342611c": {
          "model_module": "@jupyter-widgets/controls",
          "model_name": "FloatProgressModel",
          "model_module_version": "1.5.0",
          "state": {
            "_dom_classes": [],
            "_model_module": "@jupyter-widgets/controls",
            "_model_module_version": "1.5.0",
            "_model_name": "FloatProgressModel",
            "_view_count": null,
            "_view_module": "@jupyter-widgets/controls",
            "_view_module_version": "1.5.0",
            "_view_name": "ProgressView",
            "bar_style": "success",
            "description": "",
            "description_tooltip": null,
            "layout": "IPY_MODEL_0ca0672fa150427981cafdbda9e063b3",
            "max": 3500,
            "min": 0,
            "orientation": "horizontal",
            "style": "IPY_MODEL_cdca961182f344fc93177e5a99c8192b",
            "value": 3500
          }
        },
        "f4de41ca0c934848adf44862de4f73be": {
          "model_module": "@jupyter-widgets/controls",
          "model_name": "HTMLModel",
          "model_module_version": "1.5.0",
          "state": {
            "_dom_classes": [],
            "_model_module": "@jupyter-widgets/controls",
            "_model_module_version": "1.5.0",
            "_model_name": "HTMLModel",
            "_view_count": null,
            "_view_module": "@jupyter-widgets/controls",
            "_view_module_version": "1.5.0",
            "_view_name": "HTMLView",
            "description": "",
            "description_tooltip": null,
            "layout": "IPY_MODEL_fd230003317e4e518764a715f6df4fac",
            "placeholder": "​",
            "style": "IPY_MODEL_00c6ee82ccdc41a4a0a6a00e1bc2c47c",
            "value": " 3500/3500 [00:01&lt;00:00, 2798.40 examples/s]"
          }
        },
        "1ea98d4402e64fd8a1236f571cfc1f5b": {
          "model_module": "@jupyter-widgets/base",
          "model_name": "LayoutModel",
          "model_module_version": "1.2.0",
          "state": {
            "_model_module": "@jupyter-widgets/base",
            "_model_module_version": "1.2.0",
            "_model_name": "LayoutModel",
            "_view_count": null,
            "_view_module": "@jupyter-widgets/base",
            "_view_module_version": "1.2.0",
            "_view_name": "LayoutView",
            "align_content": null,
            "align_items": null,
            "align_self": null,
            "border": null,
            "bottom": null,
            "display": null,
            "flex": null,
            "flex_flow": null,
            "grid_area": null,
            "grid_auto_columns": null,
            "grid_auto_flow": null,
            "grid_auto_rows": null,
            "grid_column": null,
            "grid_gap": null,
            "grid_row": null,
            "grid_template_areas": null,
            "grid_template_columns": null,
            "grid_template_rows": null,
            "height": null,
            "justify_content": null,
            "justify_items": null,
            "left": null,
            "margin": null,
            "max_height": null,
            "max_width": null,
            "min_height": null,
            "min_width": null,
            "object_fit": null,
            "object_position": null,
            "order": null,
            "overflow": null,
            "overflow_x": null,
            "overflow_y": null,
            "padding": null,
            "right": null,
            "top": null,
            "visibility": null,
            "width": null
          }
        },
        "2c2ec043c8d34e19ad925d8cf8e037e4": {
          "model_module": "@jupyter-widgets/base",
          "model_name": "LayoutModel",
          "model_module_version": "1.2.0",
          "state": {
            "_model_module": "@jupyter-widgets/base",
            "_model_module_version": "1.2.0",
            "_model_name": "LayoutModel",
            "_view_count": null,
            "_view_module": "@jupyter-widgets/base",
            "_view_module_version": "1.2.0",
            "_view_name": "LayoutView",
            "align_content": null,
            "align_items": null,
            "align_self": null,
            "border": null,
            "bottom": null,
            "display": null,
            "flex": null,
            "flex_flow": null,
            "grid_area": null,
            "grid_auto_columns": null,
            "grid_auto_flow": null,
            "grid_auto_rows": null,
            "grid_column": null,
            "grid_gap": null,
            "grid_row": null,
            "grid_template_areas": null,
            "grid_template_columns": null,
            "grid_template_rows": null,
            "height": null,
            "justify_content": null,
            "justify_items": null,
            "left": null,
            "margin": null,
            "max_height": null,
            "max_width": null,
            "min_height": null,
            "min_width": null,
            "object_fit": null,
            "object_position": null,
            "order": null,
            "overflow": null,
            "overflow_x": null,
            "overflow_y": null,
            "padding": null,
            "right": null,
            "top": null,
            "visibility": null,
            "width": null
          }
        },
        "2fa9d85bf74342329e784f64ff6335d5": {
          "model_module": "@jupyter-widgets/controls",
          "model_name": "DescriptionStyleModel",
          "model_module_version": "1.5.0",
          "state": {
            "_model_module": "@jupyter-widgets/controls",
            "_model_module_version": "1.5.0",
            "_model_name": "DescriptionStyleModel",
            "_view_count": null,
            "_view_module": "@jupyter-widgets/base",
            "_view_module_version": "1.2.0",
            "_view_name": "StyleView",
            "description_width": ""
          }
        },
        "0ca0672fa150427981cafdbda9e063b3": {
          "model_module": "@jupyter-widgets/base",
          "model_name": "LayoutModel",
          "model_module_version": "1.2.0",
          "state": {
            "_model_module": "@jupyter-widgets/base",
            "_model_module_version": "1.2.0",
            "_model_name": "LayoutModel",
            "_view_count": null,
            "_view_module": "@jupyter-widgets/base",
            "_view_module_version": "1.2.0",
            "_view_name": "LayoutView",
            "align_content": null,
            "align_items": null,
            "align_self": null,
            "border": null,
            "bottom": null,
            "display": null,
            "flex": null,
            "flex_flow": null,
            "grid_area": null,
            "grid_auto_columns": null,
            "grid_auto_flow": null,
            "grid_auto_rows": null,
            "grid_column": null,
            "grid_gap": null,
            "grid_row": null,
            "grid_template_areas": null,
            "grid_template_columns": null,
            "grid_template_rows": null,
            "height": null,
            "justify_content": null,
            "justify_items": null,
            "left": null,
            "margin": null,
            "max_height": null,
            "max_width": null,
            "min_height": null,
            "min_width": null,
            "object_fit": null,
            "object_position": null,
            "order": null,
            "overflow": null,
            "overflow_x": null,
            "overflow_y": null,
            "padding": null,
            "right": null,
            "top": null,
            "visibility": null,
            "width": null
          }
        },
        "cdca961182f344fc93177e5a99c8192b": {
          "model_module": "@jupyter-widgets/controls",
          "model_name": "ProgressStyleModel",
          "model_module_version": "1.5.0",
          "state": {
            "_model_module": "@jupyter-widgets/controls",
            "_model_module_version": "1.5.0",
            "_model_name": "ProgressStyleModel",
            "_view_count": null,
            "_view_module": "@jupyter-widgets/base",
            "_view_module_version": "1.2.0",
            "_view_name": "StyleView",
            "bar_color": null,
            "description_width": ""
          }
        },
        "fd230003317e4e518764a715f6df4fac": {
          "model_module": "@jupyter-widgets/base",
          "model_name": "LayoutModel",
          "model_module_version": "1.2.0",
          "state": {
            "_model_module": "@jupyter-widgets/base",
            "_model_module_version": "1.2.0",
            "_model_name": "LayoutModel",
            "_view_count": null,
            "_view_module": "@jupyter-widgets/base",
            "_view_module_version": "1.2.0",
            "_view_name": "LayoutView",
            "align_content": null,
            "align_items": null,
            "align_self": null,
            "border": null,
            "bottom": null,
            "display": null,
            "flex": null,
            "flex_flow": null,
            "grid_area": null,
            "grid_auto_columns": null,
            "grid_auto_flow": null,
            "grid_auto_rows": null,
            "grid_column": null,
            "grid_gap": null,
            "grid_row": null,
            "grid_template_areas": null,
            "grid_template_columns": null,
            "grid_template_rows": null,
            "height": null,
            "justify_content": null,
            "justify_items": null,
            "left": null,
            "margin": null,
            "max_height": null,
            "max_width": null,
            "min_height": null,
            "min_width": null,
            "object_fit": null,
            "object_position": null,
            "order": null,
            "overflow": null,
            "overflow_x": null,
            "overflow_y": null,
            "padding": null,
            "right": null,
            "top": null,
            "visibility": null,
            "width": null
          }
        },
        "00c6ee82ccdc41a4a0a6a00e1bc2c47c": {
          "model_module": "@jupyter-widgets/controls",
          "model_name": "DescriptionStyleModel",
          "model_module_version": "1.5.0",
          "state": {
            "_model_module": "@jupyter-widgets/controls",
            "_model_module_version": "1.5.0",
            "_model_name": "DescriptionStyleModel",
            "_view_count": null,
            "_view_module": "@jupyter-widgets/base",
            "_view_module_version": "1.2.0",
            "_view_name": "StyleView",
            "description_width": ""
          }
        },
        "1783c6e80e93428e9a67dedc5113bd88": {
          "model_module": "@jupyter-widgets/controls",
          "model_name": "HBoxModel",
          "model_module_version": "1.5.0",
          "state": {
            "_dom_classes": [],
            "_model_module": "@jupyter-widgets/controls",
            "_model_module_version": "1.5.0",
            "_model_name": "HBoxModel",
            "_view_count": null,
            "_view_module": "@jupyter-widgets/controls",
            "_view_module_version": "1.5.0",
            "_view_name": "HBoxView",
            "box_style": "",
            "children": [
              "IPY_MODEL_b830e86f26914c5a9c4be4f06b931158",
              "IPY_MODEL_4ebd01987eaf42f5bb360f4e26d4fb23",
              "IPY_MODEL_2eba413cdc2f4f9487a335b71c2294c1"
            ],
            "layout": "IPY_MODEL_4fde511d39cd4f6d86818a648a9d46df"
          }
        },
        "b830e86f26914c5a9c4be4f06b931158": {
          "model_module": "@jupyter-widgets/controls",
          "model_name": "HTMLModel",
          "model_module_version": "1.5.0",
          "state": {
            "_dom_classes": [],
            "_model_module": "@jupyter-widgets/controls",
            "_model_module_version": "1.5.0",
            "_model_name": "HTMLModel",
            "_view_count": null,
            "_view_module": "@jupyter-widgets/controls",
            "_view_module_version": "1.5.0",
            "_view_name": "HTMLView",
            "description": "",
            "description_tooltip": null,
            "layout": "IPY_MODEL_99821619a2824c89ac8e480883e96523",
            "placeholder": "​",
            "style": "IPY_MODEL_26675b41b30c4461a14a70cb97255d68",
            "value": "Map: 100%"
          }
        },
        "4ebd01987eaf42f5bb360f4e26d4fb23": {
          "model_module": "@jupyter-widgets/controls",
          "model_name": "FloatProgressModel",
          "model_module_version": "1.5.0",
          "state": {
            "_dom_classes": [],
            "_model_module": "@jupyter-widgets/controls",
            "_model_module_version": "1.5.0",
            "_model_name": "FloatProgressModel",
            "_view_count": null,
            "_view_module": "@jupyter-widgets/controls",
            "_view_module_version": "1.5.0",
            "_view_name": "ProgressView",
            "bar_style": "success",
            "description": "",
            "description_tooltip": null,
            "layout": "IPY_MODEL_cd6fda3fd4794f8fbb236b02716ab991",
            "max": 3500,
            "min": 0,
            "orientation": "horizontal",
            "style": "IPY_MODEL_15e7b7dbc184446284f49894fca2f061",
            "value": 3500
          }
        },
        "2eba413cdc2f4f9487a335b71c2294c1": {
          "model_module": "@jupyter-widgets/controls",
          "model_name": "HTMLModel",
          "model_module_version": "1.5.0",
          "state": {
            "_dom_classes": [],
            "_model_module": "@jupyter-widgets/controls",
            "_model_module_version": "1.5.0",
            "_model_name": "HTMLModel",
            "_view_count": null,
            "_view_module": "@jupyter-widgets/controls",
            "_view_module_version": "1.5.0",
            "_view_name": "HTMLView",
            "description": "",
            "description_tooltip": null,
            "layout": "IPY_MODEL_1a7588d9cc2e4e6f91ae31e86d569eff",
            "placeholder": "​",
            "style": "IPY_MODEL_02d6dce2902a4d059f834f0b07aa1824",
            "value": " 3500/3500 [00:01&lt;00:00, 2818.50 examples/s]"
          }
        },
        "4fde511d39cd4f6d86818a648a9d46df": {
          "model_module": "@jupyter-widgets/base",
          "model_name": "LayoutModel",
          "model_module_version": "1.2.0",
          "state": {
            "_model_module": "@jupyter-widgets/base",
            "_model_module_version": "1.2.0",
            "_model_name": "LayoutModel",
            "_view_count": null,
            "_view_module": "@jupyter-widgets/base",
            "_view_module_version": "1.2.0",
            "_view_name": "LayoutView",
            "align_content": null,
            "align_items": null,
            "align_self": null,
            "border": null,
            "bottom": null,
            "display": null,
            "flex": null,
            "flex_flow": null,
            "grid_area": null,
            "grid_auto_columns": null,
            "grid_auto_flow": null,
            "grid_auto_rows": null,
            "grid_column": null,
            "grid_gap": null,
            "grid_row": null,
            "grid_template_areas": null,
            "grid_template_columns": null,
            "grid_template_rows": null,
            "height": null,
            "justify_content": null,
            "justify_items": null,
            "left": null,
            "margin": null,
            "max_height": null,
            "max_width": null,
            "min_height": null,
            "min_width": null,
            "object_fit": null,
            "object_position": null,
            "order": null,
            "overflow": null,
            "overflow_x": null,
            "overflow_y": null,
            "padding": null,
            "right": null,
            "top": null,
            "visibility": null,
            "width": null
          }
        },
        "99821619a2824c89ac8e480883e96523": {
          "model_module": "@jupyter-widgets/base",
          "model_name": "LayoutModel",
          "model_module_version": "1.2.0",
          "state": {
            "_model_module": "@jupyter-widgets/base",
            "_model_module_version": "1.2.0",
            "_model_name": "LayoutModel",
            "_view_count": null,
            "_view_module": "@jupyter-widgets/base",
            "_view_module_version": "1.2.0",
            "_view_name": "LayoutView",
            "align_content": null,
            "align_items": null,
            "align_self": null,
            "border": null,
            "bottom": null,
            "display": null,
            "flex": null,
            "flex_flow": null,
            "grid_area": null,
            "grid_auto_columns": null,
            "grid_auto_flow": null,
            "grid_auto_rows": null,
            "grid_column": null,
            "grid_gap": null,
            "grid_row": null,
            "grid_template_areas": null,
            "grid_template_columns": null,
            "grid_template_rows": null,
            "height": null,
            "justify_content": null,
            "justify_items": null,
            "left": null,
            "margin": null,
            "max_height": null,
            "max_width": null,
            "min_height": null,
            "min_width": null,
            "object_fit": null,
            "object_position": null,
            "order": null,
            "overflow": null,
            "overflow_x": null,
            "overflow_y": null,
            "padding": null,
            "right": null,
            "top": null,
            "visibility": null,
            "width": null
          }
        },
        "26675b41b30c4461a14a70cb97255d68": {
          "model_module": "@jupyter-widgets/controls",
          "model_name": "DescriptionStyleModel",
          "model_module_version": "1.5.0",
          "state": {
            "_model_module": "@jupyter-widgets/controls",
            "_model_module_version": "1.5.0",
            "_model_name": "DescriptionStyleModel",
            "_view_count": null,
            "_view_module": "@jupyter-widgets/base",
            "_view_module_version": "1.2.0",
            "_view_name": "StyleView",
            "description_width": ""
          }
        },
        "cd6fda3fd4794f8fbb236b02716ab991": {
          "model_module": "@jupyter-widgets/base",
          "model_name": "LayoutModel",
          "model_module_version": "1.2.0",
          "state": {
            "_model_module": "@jupyter-widgets/base",
            "_model_module_version": "1.2.0",
            "_model_name": "LayoutModel",
            "_view_count": null,
            "_view_module": "@jupyter-widgets/base",
            "_view_module_version": "1.2.0",
            "_view_name": "LayoutView",
            "align_content": null,
            "align_items": null,
            "align_self": null,
            "border": null,
            "bottom": null,
            "display": null,
            "flex": null,
            "flex_flow": null,
            "grid_area": null,
            "grid_auto_columns": null,
            "grid_auto_flow": null,
            "grid_auto_rows": null,
            "grid_column": null,
            "grid_gap": null,
            "grid_row": null,
            "grid_template_areas": null,
            "grid_template_columns": null,
            "grid_template_rows": null,
            "height": null,
            "justify_content": null,
            "justify_items": null,
            "left": null,
            "margin": null,
            "max_height": null,
            "max_width": null,
            "min_height": null,
            "min_width": null,
            "object_fit": null,
            "object_position": null,
            "order": null,
            "overflow": null,
            "overflow_x": null,
            "overflow_y": null,
            "padding": null,
            "right": null,
            "top": null,
            "visibility": null,
            "width": null
          }
        },
        "15e7b7dbc184446284f49894fca2f061": {
          "model_module": "@jupyter-widgets/controls",
          "model_name": "ProgressStyleModel",
          "model_module_version": "1.5.0",
          "state": {
            "_model_module": "@jupyter-widgets/controls",
            "_model_module_version": "1.5.0",
            "_model_name": "ProgressStyleModel",
            "_view_count": null,
            "_view_module": "@jupyter-widgets/base",
            "_view_module_version": "1.2.0",
            "_view_name": "StyleView",
            "bar_color": null,
            "description_width": ""
          }
        },
        "1a7588d9cc2e4e6f91ae31e86d569eff": {
          "model_module": "@jupyter-widgets/base",
          "model_name": "LayoutModel",
          "model_module_version": "1.2.0",
          "state": {
            "_model_module": "@jupyter-widgets/base",
            "_model_module_version": "1.2.0",
            "_model_name": "LayoutModel",
            "_view_count": null,
            "_view_module": "@jupyter-widgets/base",
            "_view_module_version": "1.2.0",
            "_view_name": "LayoutView",
            "align_content": null,
            "align_items": null,
            "align_self": null,
            "border": null,
            "bottom": null,
            "display": null,
            "flex": null,
            "flex_flow": null,
            "grid_area": null,
            "grid_auto_columns": null,
            "grid_auto_flow": null,
            "grid_auto_rows": null,
            "grid_column": null,
            "grid_gap": null,
            "grid_row": null,
            "grid_template_areas": null,
            "grid_template_columns": null,
            "grid_template_rows": null,
            "height": null,
            "justify_content": null,
            "justify_items": null,
            "left": null,
            "margin": null,
            "max_height": null,
            "max_width": null,
            "min_height": null,
            "min_width": null,
            "object_fit": null,
            "object_position": null,
            "order": null,
            "overflow": null,
            "overflow_x": null,
            "overflow_y": null,
            "padding": null,
            "right": null,
            "top": null,
            "visibility": null,
            "width": null
          }
        },
        "02d6dce2902a4d059f834f0b07aa1824": {
          "model_module": "@jupyter-widgets/controls",
          "model_name": "DescriptionStyleModel",
          "model_module_version": "1.5.0",
          "state": {
            "_model_module": "@jupyter-widgets/controls",
            "_model_module_version": "1.5.0",
            "_model_name": "DescriptionStyleModel",
            "_view_count": null,
            "_view_module": "@jupyter-widgets/base",
            "_view_module_version": "1.2.0",
            "_view_name": "StyleView",
            "description_width": ""
          }
        }
      }
    }
  },
  "cells": [
    {
      "cell_type": "markdown",
      "metadata": {
        "id": "view-in-github",
        "colab_type": "text"
      },
      "source": [
        "<a href=\"https://colab.research.google.com/github/olavodd42/gpt_ed_assistant/blob/main/notebooks/train_biobert.ipynb\" target=\"_parent\"><img src=\"https://colab.research.google.com/assets/colab-badge.svg\" alt=\"Open In Colab\"/></a>"
      ]
    },
    {
      "cell_type": "code",
      "execution_count": null,
      "metadata": {
        "colab": {
          "base_uri": "https://localhost:8080/"
        },
        "id": "SjIPgMkGYCG1",
        "outputId": "b7721348-68f0-44c2-a859-9520b6f1a7a2"
      },
      "outputs": [
        {
          "output_type": "execute_result",
          "data": {
            "text/plain": [
              "(28002, 2)"
            ]
          },
          "metadata": {},
          "execution_count": 21
        }
      ],
      "source": [
        "#!/usr/bin/env python3\n",
        "from datasets import Dataset, DatasetDict\n",
        "from transformers import (AutoTokenizer, AutoModelForSequenceClassification,\n",
        "                          TrainingArguments, Trainer, DataCollatorWithPadding)\n",
        "from sklearn.metrics import roc_auc_score, average_precision_score, accuracy_score, f1_score\n",
        "from sklearn.metrics import roc_curve, auc, precision_recall_curve, average_precision_score\n",
        "import matplotlib.pyplot as plt\n",
        "from torch.nn import CrossEntropyLoss\n",
        "\n",
        "# from datasets import DatasetDict, Dataset\n",
        "# from transformers import AutoTokenizer, AutoModelForSequenceClassification, Trainer, TrainingArguments\n",
        "# from sklearn.metrics import roc_auc_score, average_precision_score, accuracy_score, f1_score\n",
        "import numpy as np\n",
        "import pandas as pd\n",
        "import torch\n",
        "import wandb\n",
        "import os\n",
        "%matplotlib inline\n",
        "\n",
        "MODEL_NAME = \"emilyalsentzer/Bio_ClinicalBERT\"   # seguro p/ T4. (BioGPT-Large costuma estourar VRAM)\n",
        "TEXT_COL   = \"text_labs\"                         # ou \"text_full\"\n",
        "TARGET     = \"outcome_critical\"                  # ou \"outcome_ed_los\"\n",
        "MAX_LEN    = 256                                 # pode testar 320/384 se couber\n",
        "EPOCHS     = 6                                   # 5–8 p/ convergir melhor\n",
        "LR         = 2e-5\n",
        "WARMUP     = 0.1                                 # 10% dos steps\n",
        "WEIGHT_DEC = 0.01\n",
        "SEED       = 42\n",
        "\n",
        "# --- 0) paths ---\n",
        "TR = \"train_linearized.csv\"\n",
        "VA = \"valid_linearized.csv\"\n",
        "TE = \"test_linearized.csv\"\n",
        "\n",
        "TEXT_COL = \"text_labs\"            # ou \"text_full\"\n",
        "TARGET   = \"outcome_critical\"     # ou \"outcome_ed_los\"\n",
        "\n",
        "# --- 1) carregar CSVs e selecionar colunas ---\n",
        "train_df = pd.read_csv(TR)[[TEXT_COL, TARGET]].rename(columns={TARGET: \"labels\"})\n",
        "valid_df = pd.read_csv(VA)[[TEXT_COL, TARGET]].rename(columns={TARGET: \"labels\"})\n",
        "test_df  = pd.read_csv(TE)[[TEXT_COL, TARGET]].rename(columns={TARGET: \"labels\"})\n",
        "\n",
        "torch.backends.cuda.matmul.allow_tf32 = True\n",
        "if hasattr(torch, \"set_float32_matmul_precision\"):\n",
        "    torch.set_float32_matmul_precision(\"high\")  # usa TF32 quando possível\n",
        "\n",
        "os.environ[\"WANDB_PROJECT\"] = \"mimic-ed-nlp\"\n",
        "os.environ[\"WANDB_RUN_GROUP\"] = \"bioclinicalbert_t4\"\n",
        "os.environ[\"WANDB_LOG_MODEL\"] = \"false\"\n",
        "\n",
        "train_df.shape"
      ]
    },
    {
      "cell_type": "code",
      "source": [
        "# garantir tipo int para labels\n",
        "for df in (train_df, valid_df, test_df):\n",
        "    df[\"labels\"] = df[\"labels\"].astype(int)\n",
        "# antes de criar o Dataset, duplique positivos no train_df\n",
        "pos = train_df[train_df[\"labels\"]==1]\n",
        "k = max(1, int((len(train_df)-len(pos))/max(1,len(pos)) // 3))  # ~triplica positivos\n",
        "train_df_bal = pd.concat([train_df, *([pos]*k)], ignore_index=True).sample(frac=1, random_state=42)\n",
        "\n",
        "ds = DatasetDict({\n",
        "    \"train\": Dataset.from_pandas(train_df_bal, preserve_index=False),\n",
        "    \"validation\": Dataset.from_pandas(valid_df, preserve_index=False),\n",
        "    \"test\": Dataset.from_pandas(test_df, preserve_index=False),\n",
        "})"
      ],
      "metadata": {
        "id": "oKbqsKkfYYhb"
      },
      "execution_count": null,
      "outputs": []
    },
    {
      "cell_type": "code",
      "source": [
        "# --- 2) tokenizer/model ---\n",
        "model_ckpt = \"emilyalsentzer/Bio_ClinicalBERT\"  # pode trocar por \"microsoft/BioGPT-Large\" (exige GPU maior)\n",
        "tokenizer = AutoTokenizer.from_pretrained(model_ckpt, use_fast=True)\n",
        "\n",
        "def tok(batch):\n",
        "    return tokenizer(batch[TEXT_COL], truncation=True, max_length=MAX_LEN)\n",
        "\n",
        "collator = DataCollatorWithPadding(tokenizer=tokenizer, pad_to_multiple_of=8)\n",
        "\n",
        "ds_tok = ds.map(tok, batched=True, remove_columns=[TEXT_COL])\n",
        "\n",
        "# remover coluna de texto para não confundir o Trainer|\n",
        "# setar formato PyTorch\n",
        "ds_tok = ds_tok.with_format(\"torch\")"
      ],
      "metadata": {
        "colab": {
          "base_uri": "https://localhost:8080/",
          "height": 113,
          "referenced_widgets": [
            "d573f9bbaf7b432bbd949ddf32c2a0ce",
            "3a178b6c7a9b4ccfa3ba1b596a5d971d",
            "8efe4af94f6b44248e66d5d5a2033ce9",
            "e5bd26052335470fbc5e032085aa4e40",
            "77e957be5b7443b4879969b9949b6b47",
            "8175f83fd633466f83f2965a0b3916be",
            "fd0c1865f3fa40fd9ad40ead6a151fbe",
            "e5e013090a61413ca56bb42e7f607df4",
            "0aeacefb278b41f18f639eb8b0dd32b0",
            "ac067d6bb4f64202904f77fca2eb8e54",
            "2f1b29f809a84d249aaf51e4da871a56",
            "09d05a0b4d8d44538a49f5ccf91e366e",
            "def48697414a4bbe8caf6814594c38e3",
            "7a0312bc480e4a19b471d8719342611c",
            "f4de41ca0c934848adf44862de4f73be",
            "1ea98d4402e64fd8a1236f571cfc1f5b",
            "2c2ec043c8d34e19ad925d8cf8e037e4",
            "2fa9d85bf74342329e784f64ff6335d5",
            "0ca0672fa150427981cafdbda9e063b3",
            "cdca961182f344fc93177e5a99c8192b",
            "fd230003317e4e518764a715f6df4fac",
            "00c6ee82ccdc41a4a0a6a00e1bc2c47c",
            "1783c6e80e93428e9a67dedc5113bd88",
            "b830e86f26914c5a9c4be4f06b931158",
            "4ebd01987eaf42f5bb360f4e26d4fb23",
            "2eba413cdc2f4f9487a335b71c2294c1",
            "4fde511d39cd4f6d86818a648a9d46df",
            "99821619a2824c89ac8e480883e96523",
            "26675b41b30c4461a14a70cb97255d68",
            "cd6fda3fd4794f8fbb236b02716ab991",
            "15e7b7dbc184446284f49894fca2f061",
            "1a7588d9cc2e4e6f91ae31e86d569eff",
            "02d6dce2902a4d059f834f0b07aa1824"
          ]
        },
        "id": "dlnqhK30Yhx8",
        "outputId": "c86eda97-f1ad-44ce-a534-d4de003a272a"
      },
      "execution_count": null,
      "outputs": [
        {
          "output_type": "display_data",
          "data": {
            "text/plain": [
              "Map:   0%|          | 0/33894 [00:00<?, ? examples/s]"
            ],
            "application/vnd.jupyter.widget-view+json": {
              "version_major": 2,
              "version_minor": 0,
              "model_id": "d573f9bbaf7b432bbd949ddf32c2a0ce"
            }
          },
          "metadata": {}
        },
        {
          "output_type": "display_data",
          "data": {
            "text/plain": [
              "Map:   0%|          | 0/3500 [00:00<?, ? examples/s]"
            ],
            "application/vnd.jupyter.widget-view+json": {
              "version_major": 2,
              "version_minor": 0,
              "model_id": "09d05a0b4d8d44538a49f5ccf91e366e"
            }
          },
          "metadata": {}
        },
        {
          "output_type": "display_data",
          "data": {
            "text/plain": [
              "Map:   0%|          | 0/3500 [00:00<?, ? examples/s]"
            ],
            "application/vnd.jupyter.widget-view+json": {
              "version_major": 2,
              "version_minor": 0,
              "model_id": "1783c6e80e93428e9a67dedc5113bd88"
            }
          },
          "metadata": {}
        }
      ]
    },
    {
      "cell_type": "code",
      "source": [
        "\n",
        "# --- 3) modelo ---\n",
        "model = AutoModelForSequenceClassification.from_pretrained(MODEL_NAME, num_labels=2)\n",
        "\n",
        "pos = int((ds_tok[\"train\"][\"labels\"] == 1).sum().item() if hasattr(ds_tok[\"train\"][\"labels\"], \"sum\") else (train_df[\"labels\"]==1).sum())\n",
        "neg = int((ds_tok[\"train\"][\"labels\"] == 0).sum().item() if hasattr(ds_tok[\"train\"][\"labels\"], \"sum\") else (train_df[\"labels\"]==0).sum())\n",
        "w_pos = float(neg / max(1, pos))   # peso da classe positiva\n",
        "\n",
        "class WeightedTrainer(Trainer):\n",
        "    def compute_loss(\n",
        "        self,\n",
        "        model,\n",
        "        inputs,\n",
        "        return_outputs: bool = False,\n",
        "        num_items_in_batch: int | None = None,   # <-- aceita o novo argumento\n",
        "        **kwargs,                                 # <-- proteção futura\n",
        "    ):\n",
        "        labels = inputs.get(\"labels\")\n",
        "        # forward (retorna logits)\n",
        "        outputs = model(**{k: v for k, v in inputs.items() if k != \"labels\"})\n",
        "        logits = outputs.logits  # [B, 2]\n",
        "\n",
        "        # pesos de classe no device correto\n",
        "        weight = torch.tensor([1.0, w_pos], device=logits.device, dtype=logits.dtype)\n",
        "        loss_fct = CrossEntropyLoss(weight=weight)\n",
        "        loss = loss_fct(logits.view(-1, 2), labels.view(-1))\n",
        "        return (loss, outputs) if return_outputs else loss"
      ],
      "metadata": {
        "colab": {
          "base_uri": "https://localhost:8080/"
        },
        "id": "_LHpa6aOYmRa",
        "outputId": "1f4d60af-94bc-496b-9bef-32fb5f55bf63"
      },
      "execution_count": null,
      "outputs": [
        {
          "output_type": "stream",
          "name": "stderr",
          "text": [
            "Some weights of BertForSequenceClassification were not initialized from the model checkpoint at emilyalsentzer/Bio_ClinicalBERT and are newly initialized: ['classifier.bias', 'classifier.weight']\n",
            "You should probably TRAIN this model on a down-stream task to be able to use it for predictions and inference.\n"
          ]
        }
      ]
    },
    {
      "cell_type": "code",
      "source": [
        "# --- 4) métricas ---\n",
        "def compute_metrics(p):\n",
        "    logits, labels = p\n",
        "    if not isinstance(logits, np.ndarray):\n",
        "        logits = logits.astype(np.float32)\n",
        "    probs = logits[:, 1]\n",
        "    preds = (probs >= 0.5).astype(int)\n",
        "    out = {\n",
        "        \"accuracy\": accuracy_score(labels, preds),\n",
        "        \"f1\": f1_score(labels, preds),\n",
        "    }\n",
        "    # Protege quando só tem uma classe no batch/val\n",
        "    if len(np.unique(labels)) == 2:\n",
        "        out[\"roc_auc\"] = roc_auc_score(labels, probs)\n",
        "        out[\"auprc\"] = average_precision_score(labels, probs)\n",
        "    else:\n",
        "        out[\"roc_auc\"] = float(\"nan\")\n",
        "        out[\"auprc\"] = float(\"nan\")\n",
        "    return out"
      ],
      "metadata": {
        "id": "cGbA95ZVZkHJ"
      },
      "execution_count": null,
      "outputs": []
    },
    {
      "cell_type": "code",
      "source": [
        "PER_DEV_TRAIN_BS = 16\n",
        "PER_DEV_EVAL_BS  = 64\n",
        "GRAD_ACCUM_STEPS = 2\n",
        "\n",
        "# --- 5) treino ---\n",
        "args = TrainingArguments(\n",
        "    output_dir=\"./results\",\n",
        "    eval_strategy=\"steps\",\n",
        "    eval_steps=500,\n",
        "    save_strategy=\"steps\",\n",
        "    save_steps=500,\n",
        "    save_total_limit=2,\n",
        "    logging_steps=50,\n",
        "    learning_rate=LR,\n",
        "    num_train_epochs=EPOCHS,\n",
        "    weight_decay=WEIGHT_DEC,\n",
        "    warmup_ratio=WARMUP,\n",
        "    per_device_train_batch_size=PER_DEV_TRAIN_BS,\n",
        "    per_device_eval_batch_size=PER_DEV_EVAL_BS,\n",
        "    gradient_accumulation_steps=GRAD_ACCUM_STEPS,\n",
        "    fp16=True,\n",
        "    gradient_checkpointing=True,\n",
        "    lr_scheduler_type=\"linear\",\n",
        "    report_to=\"wandb\",\n",
        "    run_name=\"bioclinicalbert_ed\",\n",
        "    load_best_model_at_end=True,\n",
        "    metric_for_best_model=\"roc_auc\",\n",
        "    greater_is_better=True,\n",
        "    dataloader_num_workers=2,\n",
        "    dataloader_pin_memory=True,\n",
        "    seed=SEED,\n",
        ")\n",
        "\n",
        "trainer = WeightedTrainer(\n",
        "    model=model,\n",
        "    args=args,\n",
        "    train_dataset=ds_tok[\"train\"],\n",
        "    eval_dataset=ds_tok[\"validation\"],\n",
        "    processing_class=tokenizer,\n",
        "    data_collator=collator,\n",
        "    compute_metrics=compute_metrics,\n",
        ")\n",
        "\n",
        "trainer.train()\n",
        "print(\"\\n=== VALID ===\")\n",
        "print(trainer.evaluate(ds_tok[\"validation\"]))\n",
        "print(\"\\n=== TEST ===\")\n",
        "print(trainer.evaluate(ds_tok[\"test\"]))\n"
      ],
      "metadata": {
        "colab": {
          "base_uri": "https://localhost:8080/",
          "height": 596
        },
        "id": "J55gVLnyZlbF",
        "outputId": "e3a9efaf-e4eb-419f-c0c0-a2fc3136987a"
      },
      "execution_count": null,
      "outputs": [
        {
          "output_type": "display_data",
          "data": {
            "text/plain": [
              "<IPython.core.display.HTML object>"
            ],
            "text/html": [
              "\n",
              "    <div>\n",
              "      \n",
              "      <progress value='6360' max='6360' style='width:300px; height:20px; vertical-align: middle;'></progress>\n",
              "      [6360/6360 1:01:05, Epoch 6/6]\n",
              "    </div>\n",
              "    <table border=\"1\" class=\"dataframe\">\n",
              "  <thead>\n",
              " <tr style=\"text-align: left;\">\n",
              "      <th>Step</th>\n",
              "      <th>Training Loss</th>\n",
              "      <th>Validation Loss</th>\n",
              "      <th>Accuracy</th>\n",
              "      <th>F1</th>\n",
              "      <th>Roc Auc</th>\n",
              "      <th>Auprc</th>\n",
              "    </tr>\n",
              "  </thead>\n",
              "  <tbody>\n",
              "    <tr>\n",
              "      <td>500</td>\n",
              "      <td>0.532400</td>\n",
              "      <td>0.715113</td>\n",
              "      <td>0.681429</td>\n",
              "      <td>0.300940</td>\n",
              "      <td>0.693323</td>\n",
              "      <td>0.253750</td>\n",
              "    </tr>\n",
              "    <tr>\n",
              "      <td>1000</td>\n",
              "      <td>0.512700</td>\n",
              "      <td>0.665245</td>\n",
              "      <td>0.789714</td>\n",
              "      <td>0.353251</td>\n",
              "      <td>0.727959</td>\n",
              "      <td>0.294776</td>\n",
              "    </tr>\n",
              "    <tr>\n",
              "      <td>1500</td>\n",
              "      <td>0.524300</td>\n",
              "      <td>0.633507</td>\n",
              "      <td>0.812000</td>\n",
              "      <td>0.351085</td>\n",
              "      <td>0.739675</td>\n",
              "      <td>0.315819</td>\n",
              "    </tr>\n",
              "    <tr>\n",
              "      <td>2000</td>\n",
              "      <td>0.498400</td>\n",
              "      <td>0.643409</td>\n",
              "      <td>0.829429</td>\n",
              "      <td>0.372240</td>\n",
              "      <td>0.738552</td>\n",
              "      <td>0.327347</td>\n",
              "    </tr>\n",
              "    <tr>\n",
              "      <td>2500</td>\n",
              "      <td>0.478400</td>\n",
              "      <td>0.625285</td>\n",
              "      <td>0.830286</td>\n",
              "      <td>0.358531</td>\n",
              "      <td>0.744484</td>\n",
              "      <td>0.334310</td>\n",
              "    </tr>\n",
              "    <tr>\n",
              "      <td>3000</td>\n",
              "      <td>0.475600</td>\n",
              "      <td>0.663818</td>\n",
              "      <td>0.787429</td>\n",
              "      <td>0.356401</td>\n",
              "      <td>0.745098</td>\n",
              "      <td>0.336901</td>\n",
              "    </tr>\n",
              "    <tr>\n",
              "      <td>3500</td>\n",
              "      <td>0.411500</td>\n",
              "      <td>0.703018</td>\n",
              "      <td>0.818857</td>\n",
              "      <td>0.350410</td>\n",
              "      <td>0.731880</td>\n",
              "      <td>0.318989</td>\n",
              "    </tr>\n",
              "    <tr>\n",
              "      <td>4000</td>\n",
              "      <td>0.376000</td>\n",
              "      <td>0.767083</td>\n",
              "      <td>0.801714</td>\n",
              "      <td>0.353818</td>\n",
              "      <td>0.722235</td>\n",
              "      <td>0.311257</td>\n",
              "    </tr>\n",
              "    <tr>\n",
              "      <td>4500</td>\n",
              "      <td>0.327000</td>\n",
              "      <td>0.847303</td>\n",
              "      <td>0.774571</td>\n",
              "      <td>0.339749</td>\n",
              "      <td>0.719919</td>\n",
              "      <td>0.303967</td>\n",
              "    </tr>\n",
              "    <tr>\n",
              "      <td>5000</td>\n",
              "      <td>0.333100</td>\n",
              "      <td>0.927015</td>\n",
              "      <td>0.784000</td>\n",
              "      <td>0.327402</td>\n",
              "      <td>0.713688</td>\n",
              "      <td>0.291018</td>\n",
              "    </tr>\n",
              "    <tr>\n",
              "      <td>5500</td>\n",
              "      <td>0.281300</td>\n",
              "      <td>1.055164</td>\n",
              "      <td>0.812286</td>\n",
              "      <td>0.326154</td>\n",
              "      <td>0.710454</td>\n",
              "      <td>0.287841</td>\n",
              "    </tr>\n",
              "    <tr>\n",
              "      <td>6000</td>\n",
              "      <td>0.276000</td>\n",
              "      <td>1.055075</td>\n",
              "      <td>0.801714</td>\n",
              "      <td>0.332692</td>\n",
              "      <td>0.707760</td>\n",
              "      <td>0.291164</td>\n",
              "    </tr>\n",
              "  </tbody>\n",
              "</table><p>"
            ]
          },
          "metadata": {}
        },
        {
          "output_type": "stream",
          "name": "stdout",
          "text": [
            "\n",
            "=== VALID ===\n"
          ]
        },
        {
          "output_type": "display_data",
          "data": {
            "text/plain": [
              "<IPython.core.display.HTML object>"
            ],
            "text/html": [
              "\n",
              "    <div>\n",
              "      \n",
              "      <progress value='110' max='55' style='width:300px; height:20px; vertical-align: middle;'></progress>\n",
              "      [55/55 00:23]\n",
              "    </div>\n",
              "    "
            ]
          },
          "metadata": {}
        },
        {
          "output_type": "stream",
          "name": "stdout",
          "text": [
            "{'eval_loss': 0.6638182997703552, 'eval_accuracy': 0.7874285714285715, 'eval_f1': 0.356401384083045, 'eval_roc_auc': 0.7450981000965632, 'eval_auprc': 0.336900702242521, 'eval_runtime': 11.4929, 'eval_samples_per_second': 304.535, 'eval_steps_per_second': 4.786, 'epoch': 6.0}\n",
            "\n",
            "=== TEST ===\n",
            "{'eval_loss': 0.6487222909927368, 'eval_accuracy': 0.8114285714285714, 'eval_f1': 0.3761814744801512, 'eval_roc_auc': 0.7665826918709685, 'eval_auprc': 0.3559354992323588, 'eval_runtime': 11.9628, 'eval_samples_per_second': 292.574, 'eval_steps_per_second': 4.598, 'epoch': 6.0}\n"
          ]
        }
      ]
    },
    {
      "cell_type": "code",
      "source": [
        "import numpy as np\n",
        "from sklearn.metrics import f1_score, precision_recall_curve, classification_report, confusion_matrix\n",
        "\n",
        "# probs e rótulos na validação\n",
        "pred_val = trainer.predict(ds_tok[\"validation\"])\n",
        "probs_val = pred_val.predictions[:, 1]\n",
        "y_val = pred_val.label_ids\n",
        "\n",
        "# varre thresholds e pega o melhor F1\n",
        "ths = np.linspace(0.01, 0.99, 99)\n",
        "f1s = []\n",
        "for th in ths:\n",
        "    f1s.append(f1_score(y_val, (probs_val >= th).astype(int)))\n",
        "best_idx = int(np.argmax(f1s))\n",
        "best_th = ths[best_idx]\n",
        "print(f\"Melhor threshold (valid) p/ F1: {best_th:.2f} | F1={f1s[best_idx]:.3f}\")\n",
        "\n",
        "# Curva PR (guarde p/ relatório)\n",
        "prec, rec, pr_ths = precision_recall_curve(y_val, probs_val)\n",
        "print(f\"PR | AP (AUPRC)≈{np.trapz(prec, rec):.3f}\")\n",
        "\n",
        "# aplica no TEST\n",
        "pred_test = trainer.predict(ds_tok[\"test\"])\n",
        "probs_test = pred_test.predictions[:, 1]\n",
        "y_test = pred_test.label_ids\n",
        "y_pred = (probs_test >= best_th).astype(int)\n",
        "\n",
        "print(classification_report(y_test, y_pred, digits=3))\n",
        "print(\"Matriz de confusão (test):\\n\", confusion_matrix(y_test, y_pred))\n"
      ],
      "metadata": {
        "colab": {
          "base_uri": "https://localhost:8080/",
          "height": 295
        },
        "id": "CAii0OakZqJ3",
        "outputId": "a699f205-b831-4a26-dd80-4d1b2dae138d"
      },
      "execution_count": null,
      "outputs": [
        {
          "output_type": "display_data",
          "data": {
            "text/plain": [
              "<IPython.core.display.HTML object>"
            ],
            "text/html": []
          },
          "metadata": {}
        },
        {
          "output_type": "stream",
          "name": "stdout",
          "text": [
            "Melhor threshold (valid) p/ F1: 0.76 | F1=0.375\n",
            "PR | AP (AUPRC)≈-0.336\n"
          ]
        },
        {
          "output_type": "stream",
          "name": "stderr",
          "text": [
            "/tmp/ipython-input-1011232525.py:20: DeprecationWarning: `trapz` is deprecated. Use `trapezoid` instead, or one of the numerical integration functions in `scipy.integrate`.\n",
            "  print(f\"PR | AP (AUPRC)≈{np.trapz(prec, rec):.3f}\")\n"
          ]
        },
        {
          "output_type": "display_data",
          "data": {
            "text/plain": [
              "<IPython.core.display.HTML object>"
            ],
            "text/html": []
          },
          "metadata": {}
        },
        {
          "output_type": "stream",
          "name": "stdout",
          "text": [
            "              precision    recall  f1-score   support\n",
            "\n",
            "           0      0.930     0.887     0.908      3122\n",
            "           1      0.323     0.444     0.374       378\n",
            "\n",
            "    accuracy                          0.839      3500\n",
            "   macro avg      0.626     0.666     0.641      3500\n",
            "weighted avg      0.864     0.839     0.850      3500\n",
            "\n",
            "Matriz de confusão (test):\n",
            " [[2770  352]\n",
            " [ 210  168]]\n"
          ]
        }
      ]
    },
    {
      "cell_type": "code",
      "source": [
        "from google.colab import drive\n",
        "drive.mount('/content/drive')\n",
        "!cp -r results /content/drive/MyDrive/results"
      ],
      "metadata": {
        "colab": {
          "base_uri": "https://localhost:8080/"
        },
        "id": "lnQv4RX4ozz0",
        "outputId": "001fd7f3-7ed1-41bf-cd2a-127ecbda1ee5"
      },
      "execution_count": null,
      "outputs": [
        {
          "output_type": "stream",
          "name": "stdout",
          "text": [
            "Drive already mounted at /content/drive; to attempt to forcibly remount, call drive.mount(\"/content/drive\", force_remount=True).\n"
          ]
        }
      ]
    },
    {
      "cell_type": "code",
      "source": [
        "def plot_roc_pr(y_true, probs, title_prefix):\n",
        "    fpr, tpr, _ = roc_curve(y_true, probs); roc_auc = auc(fpr, tpr)\n",
        "    prec, rec, _ = precision_recall_curve(y_true, probs); ap = average_precision_score(y_true, probs)\n",
        "\n",
        "    plt.figure(); plt.plot(fpr, tpr); plt.plot([0,1],[0,1],'--')\n",
        "    plt.xlabel(\"FPR\"); plt.ylabel(\"TPR\"); plt.title(f\"{title_prefix} ROC AUC={roc_auc:.3f}\"); plt.savefig(f\"{title_prefix}_ROC.jpg\"); plt.show()\n",
        "\n",
        "    plt.figure(); plt.plot(rec, prec)\n",
        "    plt.xlabel(\"Recall\"); plt.ylabel(\"Precision\"); plt.title(f\"{title_prefix} PR AUPRC={ap:.3f}\"); plt.savefig(f\"{title_prefix}_AP.jpg\"); plt.show()\n",
        "\n",
        "\n",
        "plot_roc_pr(y_val, probs_val, \"Validation\")\n",
        "plot_roc_pr(y_test, probs_test, \"Test\")"
      ],
      "metadata": {
        "colab": {
          "base_uri": "https://localhost:8080/",
          "height": 1000
        },
        "id": "LdUvHW_Gp3cD",
        "outputId": "b2b503dc-cd54-40b8-d7c7-7565dbaaa145"
      },
      "execution_count": null,
      "outputs": [
        {
          "output_type": "display_data",
          "data": {
            "text/plain": [
              "<Figure size 640x480 with 1 Axes>"
            ],
            "image/png": "[encoded data removed]"
          },
          "metadata": {}
        },
        {
          "output_type": "display_data",
          "data": {
            "text/plain": [
              "<Figure size 640x480 with 1 Axes>"
            ],
            "image/png": "[encoded data removed]"
          },
          "metadata": {}
        },
        {
          "output_type": "display_data",
          "data": {
            "text/plain": [
              "<Figure size 640x480 with 1 Axes>"
            ],
            "image/png": "[encoded data removed]"
          },
          "metadata": {}
        },
        {
          "output_type": "display_data",
          "data": {
            "text/plain": [
              "<Figure size 640x480 with 1 Axes>"
            ],
            "image/png": "[encoded data removed]"
          },
          "metadata": {}
        }
      ]
    },
    {
      "cell_type": "code",
      "source": [
        "!cp -r Validation_AP.jpg Validation_ROC.jpg Test_ROC.jpg Test_AP.jpg /content/drive/MyDrive/results"
      ],
      "metadata": {
        "id": "nlJ-O9TZ6uR6"
      },
      "execution_count": null,
      "outputs": []
    },
    {
      "cell_type": "code",
      "source": [],
      "metadata": {
        "id": "M6lkvKiL73SP"
      },
      "execution_count": null,
      "outputs": []
    }
  ]
}
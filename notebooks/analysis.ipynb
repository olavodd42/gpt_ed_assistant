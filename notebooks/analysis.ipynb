{
 "cells": [
  {
   "cell_type": "code",
   "execution_count": 1,
   "id": "b990ed52",
   "metadata": {},
   "outputs": [
    {
     "name": "stdout",
     "output_type": "stream",
     "text": [
      "(186138, 5)\n",
      "(331793, 8)\n",
      "(6046121, 5)\n",
      "(2321355, 8)\n"
     ]
    }
   ],
   "source": [
    "import pandas as pd\n",
    "import os\n",
    "\n",
    "DATA_DIR = \"../data/raw\"\n",
    "discharge_detail = pd.read_csv(os.path.join(DATA_DIR, \"discharge_detail.csv\"))\n",
    "discharge = pd.read_csv(os.path.join(DATA_DIR, \"discharge.csv\"))\n",
    "radiology_detail = pd.read_csv(os.path.join(DATA_DIR, \"radiology_detail.csv\"))\n",
    "radiology = pd.read_csv(os.path.join(DATA_DIR, \"radiology.csv\"))\n",
    "\n",
    "print(discharge_detail.shape)\n",
    "print(discharge.shape)\n",
    "print(radiology_detail.shape)\n",
    "print(radiology.shape)"
   ]
  },
  {
   "cell_type": "code",
   "execution_count": 5,
   "id": "2c8da044",
   "metadata": {},
   "outputs": [
    {
     "data": {
      "text/plain": [
       "(633731, 6)"
      ]
     },
     "execution_count": 5,
     "metadata": {},
     "output_type": "execute_result"
    }
   ],
   "source": [
    "import pandas as pd\n",
    "\n",
    "df = pd.read_csv(\"../data/corpus_mlm.csv\")\n",
    "df.shape"
   ]
  },
  {
   "cell_type": "code",
   "execution_count": 6,
   "id": "b5434dae",
   "metadata": {},
   "outputs": [
    {
     "data": {
      "text/plain": [
       "159098"
      ]
     },
     "execution_count": 6,
     "metadata": {},
     "output_type": "execute_result"
    }
   ],
   "source": [
    "df.subject_id.nunique()"
   ]
  },
  {
   "cell_type": "code",
   "execution_count": 4,
   "id": "1855b0c1",
   "metadata": {},
   "outputs": [
    {
     "data": {
      "text/plain": [
       "(152797, 3119, 3182)"
      ]
     },
     "execution_count": 4,
     "metadata": {},
     "output_type": "execute_result"
    }
   ],
   "source": [
    "import json\n",
    "\n",
    "with open(\"../data/splits/subjects_split.json\") as f:\n",
    "    splits = json.load(f)\n",
    "len(splits[\"train\"]), len(splits[\"val\"]), len(splits[\"test\"])"
   ]
  },
  {
   "cell_type": "code",
   "execution_count": null,
   "id": "6a39bb50",
   "metadata": {},
   "outputs": [],
   "source": [
    "splits[\"t\"]"
   ]
  },
  {
   "cell_type": "code",
   "execution_count": 2,
   "id": "b521aedf",
   "metadata": {},
   "outputs": [
    {
     "data": {
      "text/plain": [
       "Index(['note_id', 'subject_id', 'hadm_id', 'note_type', 'note_seq',\n",
       "       'charttime', 'storetime', 'text'],\n",
       "      dtype='object')"
      ]
     },
     "execution_count": 2,
     "metadata": {},
     "output_type": "execute_result"
    }
   ],
   "source": [
    "discharge.columns"
   ]
  },
  {
   "cell_type": "code",
   "execution_count": 3,
   "id": "53dbb0e0",
   "metadata": {},
   "outputs": [
    {
     "data": {
      "text/plain": [
       "Index(['note_id', 'subject_id', 'hadm_id', 'note_type', 'note_seq',\n",
       "       'charttime', 'storetime', 'text'],\n",
       "      dtype='object')"
      ]
     },
     "execution_count": 3,
     "metadata": {},
     "output_type": "execute_result"
    }
   ],
   "source": [
    "radiology.columns"
   ]
  },
  {
   "cell_type": "code",
   "execution_count": 4,
   "id": "ade33c32",
   "metadata": {},
   "outputs": [
    {
     "name": "stderr",
     "output_type": "stream",
     "text": [
      "/tmp/ipykernel_18520/3495415517.py:1: DtypeWarning: Columns (33) have mixed types. Specify dtype option on import or set low_memory=False.\n",
      "  master = pd.read_csv(os.path.join(DATA_DIR, 'master.csv'))\n"
     ]
    },
    {
     "data": {
      "application/vnd.microsoft.datawrangler.viewer.v0+json": {
       "columns": [
        {
         "name": "index",
         "rawType": "int64",
         "type": "integer"
        },
        {
         "name": "subject_id",
         "rawType": "int64",
         "type": "integer"
        },
        {
         "name": "hadm_id",
         "rawType": "float64",
         "type": "float"
        },
        {
         "name": "stay_id",
         "rawType": "int64",
         "type": "integer"
        },
        {
         "name": "intime",
         "rawType": "object",
         "type": "string"
        },
        {
         "name": "outtime",
         "rawType": "object",
         "type": "string"
        },
        {
         "name": "gender",
         "rawType": "object",
         "type": "string"
        },
        {
         "name": "race",
         "rawType": "object",
         "type": "string"
        },
        {
         "name": "arrival_transport",
         "rawType": "object",
         "type": "string"
        },
        {
         "name": "disposition",
         "rawType": "object",
         "type": "string"
        },
        {
         "name": "anchor_age",
         "rawType": "int64",
         "type": "integer"
        },
        {
         "name": "anchor_year",
         "rawType": "int64",
         "type": "integer"
        },
        {
         "name": "dod",
         "rawType": "object",
         "type": "unknown"
        },
        {
         "name": "admittime",
         "rawType": "object",
         "type": "string"
        },
        {
         "name": "dischtime",
         "rawType": "object",
         "type": "string"
        },
        {
         "name": "deathtime",
         "rawType": "object",
         "type": "unknown"
        },
        {
         "name": "ethnicity",
         "rawType": "object",
         "type": "string"
        },
        {
         "name": "edregtime",
         "rawType": "object",
         "type": "string"
        },
        {
         "name": "edouttime",
         "rawType": "object",
         "type": "string"
        },
        {
         "name": "insurance",
         "rawType": "object",
         "type": "string"
        },
        {
         "name": "in_year",
         "rawType": "int64",
         "type": "integer"
        },
        {
         "name": "age",
         "rawType": "int64",
         "type": "integer"
        },
        {
         "name": "outcome_inhospital_mortality",
         "rawType": "bool",
         "type": "boolean"
        },
        {
         "name": "ed_los",
         "rawType": "object",
         "type": "string"
        },
        {
         "name": "intime_icu",
         "rawType": "object",
         "type": "unknown"
        },
        {
         "name": "time_to_icu_transfer",
         "rawType": "object",
         "type": "unknown"
        },
        {
         "name": "outcome_icu_transfer_12h",
         "rawType": "bool",
         "type": "boolean"
        },
        {
         "name": "outcome_hospitalization",
         "rawType": "bool",
         "type": "boolean"
        },
        {
         "name": "outcome_critical",
         "rawType": "bool",
         "type": "boolean"
        },
        {
         "name": "n_ed_30d",
         "rawType": "int64",
         "type": "integer"
        },
        {
         "name": "n_ed_90d",
         "rawType": "int64",
         "type": "integer"
        },
        {
         "name": "n_ed_365d",
         "rawType": "int64",
         "type": "integer"
        },
        {
         "name": "next_ed_visit_time",
         "rawType": "object",
         "type": "unknown"
        },
        {
         "name": "next_ed_visit_time_diff",
         "rawType": "object",
         "type": "unknown"
        },
        {
         "name": "outcome_ed_revisit_3d",
         "rawType": "object",
         "type": "string"
        },
        {
         "name": "n_hosp_30d",
         "rawType": "int64",
         "type": "integer"
        },
        {
         "name": "n_hosp_90d",
         "rawType": "int64",
         "type": "integer"
        },
        {
         "name": "n_hosp_365d",
         "rawType": "int64",
         "type": "integer"
        },
        {
         "name": "n_icu_30d",
         "rawType": "int64",
         "type": "integer"
        },
        {
         "name": "n_icu_90d",
         "rawType": "int64",
         "type": "integer"
        },
        {
         "name": "n_icu_365d",
         "rawType": "int64",
         "type": "integer"
        },
        {
         "name": "ed_los_hours",
         "rawType": "float64",
         "type": "float"
        },
        {
         "name": "time_to_icu_transfer_hours",
         "rawType": "float64",
         "type": "float"
        },
        {
         "name": "next_ed_visit_time_diff_days",
         "rawType": "float64",
         "type": "float"
        },
        {
         "name": "triage_temperature",
         "rawType": "float64",
         "type": "float"
        },
        {
         "name": "triage_heartrate",
         "rawType": "float64",
         "type": "float"
        },
        {
         "name": "triage_resprate",
         "rawType": "float64",
         "type": "float"
        },
        {
         "name": "triage_o2sat",
         "rawType": "float64",
         "type": "float"
        },
        {
         "name": "triage_sbp",
         "rawType": "float64",
         "type": "float"
        },
        {
         "name": "triage_dbp",
         "rawType": "float64",
         "type": "float"
        },
        {
         "name": "triage_pain",
         "rawType": "float64",
         "type": "float"
        },
        {
         "name": "triage_acuity",
         "rawType": "float64",
         "type": "float"
        },
        {
         "name": "chiefcomplaint",
         "rawType": "object",
         "type": "string"
        },
        {
         "name": "chiefcom_chest_pain",
         "rawType": "float64",
         "type": "float"
        },
        {
         "name": "chiefcom_abdominal_pain",
         "rawType": "float64",
         "type": "float"
        },
        {
         "name": "chiefcom_headache",
         "rawType": "bool",
         "type": "boolean"
        },
        {
         "name": "chiefcom_shortness_of_breath",
         "rawType": "bool",
         "type": "boolean"
        },
        {
         "name": "chiefcom_back_pain",
         "rawType": "float64",
         "type": "float"
        },
        {
         "name": "chiefcom_cough",
         "rawType": "bool",
         "type": "boolean"
        },
        {
         "name": "chiefcom_nausea_vomiting",
         "rawType": "bool",
         "type": "boolean"
        },
        {
         "name": "chiefcom_fever_chills",
         "rawType": "bool",
         "type": "boolean"
        },
        {
         "name": "chiefcom_syncope",
         "rawType": "bool",
         "type": "boolean"
        },
        {
         "name": "chiefcom_dizziness",
         "rawType": "bool",
         "type": "boolean"
        },
        {
         "name": "ed_temperature_last",
         "rawType": "float64",
         "type": "float"
        },
        {
         "name": "ed_heartrate_last",
         "rawType": "float64",
         "type": "float"
        },
        {
         "name": "ed_resprate_last",
         "rawType": "float64",
         "type": "float"
        },
        {
         "name": "ed_o2sat_last",
         "rawType": "float64",
         "type": "float"
        },
        {
         "name": "ed_sbp_last",
         "rawType": "float64",
         "type": "float"
        },
        {
         "name": "ed_dbp_last",
         "rawType": "float64",
         "type": "float"
        },
        {
         "name": "ed_pain_last",
         "rawType": "float64",
         "type": "float"
        },
        {
         "name": "cci_MI",
         "rawType": "int64",
         "type": "integer"
        },
        {
         "name": "cci_CHF",
         "rawType": "int64",
         "type": "integer"
        },
        {
         "name": "cci_PVD",
         "rawType": "int64",
         "type": "integer"
        },
        {
         "name": "cci_Stroke",
         "rawType": "int64",
         "type": "integer"
        },
        {
         "name": "cci_Dementia",
         "rawType": "int64",
         "type": "integer"
        },
        {
         "name": "cci_Pulmonary",
         "rawType": "int64",
         "type": "integer"
        },
        {
         "name": "cci_Rheumatic",
         "rawType": "int64",
         "type": "integer"
        },
        {
         "name": "cci_PUD",
         "rawType": "int64",
         "type": "integer"
        },
        {
         "name": "cci_Liver1",
         "rawType": "int64",
         "type": "integer"
        },
        {
         "name": "cci_DM1",
         "rawType": "int64",
         "type": "integer"
        },
        {
         "name": "cci_DM2",
         "rawType": "int64",
         "type": "integer"
        },
        {
         "name": "cci_Paralysis",
         "rawType": "int64",
         "type": "integer"
        },
        {
         "name": "cci_Renal",
         "rawType": "int64",
         "type": "integer"
        },
        {
         "name": "cci_Cancer1",
         "rawType": "int64",
         "type": "integer"
        },
        {
         "name": "cci_Liver2",
         "rawType": "int64",
         "type": "integer"
        },
        {
         "name": "cci_Cancer2",
         "rawType": "int64",
         "type": "integer"
        },
        {
         "name": "cci_HIV",
         "rawType": "int64",
         "type": "integer"
        },
        {
         "name": "eci_CHF",
         "rawType": "int64",
         "type": "integer"
        },
        {
         "name": "eci_Arrhythmia",
         "rawType": "int64",
         "type": "integer"
        },
        {
         "name": "eci_Valvular",
         "rawType": "int64",
         "type": "integer"
        },
        {
         "name": "eci_PHTN",
         "rawType": "int64",
         "type": "integer"
        },
        {
         "name": "eci_PVD",
         "rawType": "int64",
         "type": "integer"
        },
        {
         "name": "eci_HTN1",
         "rawType": "int64",
         "type": "integer"
        },
        {
         "name": "eci_HTN2",
         "rawType": "int64",
         "type": "integer"
        },
        {
         "name": "eci_Paralysis",
         "rawType": "int64",
         "type": "integer"
        },
        {
         "name": "eci_NeuroOther",
         "rawType": "int64",
         "type": "integer"
        },
        {
         "name": "eci_Pulmonary",
         "rawType": "int64",
         "type": "integer"
        },
        {
         "name": "eci_DM1",
         "rawType": "int64",
         "type": "integer"
        },
        {
         "name": "eci_DM2",
         "rawType": "int64",
         "type": "integer"
        },
        {
         "name": "eci_Hypothyroid",
         "rawType": "int64",
         "type": "integer"
        },
        {
         "name": "eci_Renal",
         "rawType": "int64",
         "type": "integer"
        },
        {
         "name": "eci_Liver",
         "rawType": "int64",
         "type": "integer"
        },
        {
         "name": "eci_PUD",
         "rawType": "int64",
         "type": "integer"
        },
        {
         "name": "eci_HIV",
         "rawType": "int64",
         "type": "integer"
        },
        {
         "name": "eci_Lymphoma",
         "rawType": "int64",
         "type": "integer"
        },
        {
         "name": "eci_Tumor2",
         "rawType": "int64",
         "type": "integer"
        },
        {
         "name": "eci_Tumor1",
         "rawType": "int64",
         "type": "integer"
        },
        {
         "name": "eci_Rheumatic",
         "rawType": "int64",
         "type": "integer"
        },
        {
         "name": "eci_Coagulopathy",
         "rawType": "int64",
         "type": "integer"
        },
        {
         "name": "eci_Obesity",
         "rawType": "int64",
         "type": "integer"
        },
        {
         "name": "eci_WeightLoss",
         "rawType": "int64",
         "type": "integer"
        },
        {
         "name": "eci_FluidsLytes",
         "rawType": "int64",
         "type": "integer"
        },
        {
         "name": "eci_BloodLoss",
         "rawType": "int64",
         "type": "integer"
        },
        {
         "name": "eci_Anemia",
         "rawType": "int64",
         "type": "integer"
        },
        {
         "name": "eci_Alcohol",
         "rawType": "int64",
         "type": "integer"
        },
        {
         "name": "eci_Drugs",
         "rawType": "int64",
         "type": "integer"
        },
        {
         "name": "eci_Psychoses",
         "rawType": "int64",
         "type": "integer"
        },
        {
         "name": "eci_Depression",
         "rawType": "int64",
         "type": "integer"
        },
        {
         "name": "lab_50802",
         "rawType": "float64",
         "type": "float"
        },
        {
         "name": "lab_50803",
         "rawType": "float64",
         "type": "float"
        },
        {
         "name": "lab_50804",
         "rawType": "float64",
         "type": "float"
        },
        {
         "name": "lab_50806",
         "rawType": "float64",
         "type": "float"
        },
        {
         "name": "lab_50808",
         "rawType": "float64",
         "type": "float"
        },
        {
         "name": "lab_50809",
         "rawType": "float64",
         "type": "float"
        },
        {
         "name": "lab_50810",
         "rawType": "float64",
         "type": "float"
        },
        {
         "name": "lab_50811",
         "rawType": "float64",
         "type": "float"
        },
        {
         "name": "lab_50813",
         "rawType": "float64",
         "type": "float"
        },
        {
         "name": "lab_50818",
         "rawType": "float64",
         "type": "float"
        },
        {
         "name": "lab_50821",
         "rawType": "float64",
         "type": "float"
        },
        {
         "name": "lab_50822",
         "rawType": "float64",
         "type": "float"
        },
        {
         "name": "lab_50824",
         "rawType": "float64",
         "type": "float"
        },
        {
         "name": "lab_50835",
         "rawType": "float64",
         "type": "float"
        },
        {
         "name": "lab_50838",
         "rawType": "float64",
         "type": "float"
        },
        {
         "name": "lab_50841",
         "rawType": "float64",
         "type": "float"
        },
        {
         "name": "lab_50842",
         "rawType": "float64",
         "type": "float"
        },
        {
         "name": "lab_50843",
         "rawType": "float64",
         "type": "float"
        },
        {
         "name": "lab_50849",
         "rawType": "float64",
         "type": "float"
        },
        {
         "name": "lab_50852",
         "rawType": "float64",
         "type": "float"
        },
        {
         "name": "lab_50861",
         "rawType": "float64",
         "type": "float"
        },
        {
         "name": "lab_50862",
         "rawType": "float64",
         "type": "float"
        },
        {
         "name": "lab_50863",
         "rawType": "float64",
         "type": "float"
        },
        {
         "name": "lab_50878",
         "rawType": "float64",
         "type": "float"
        },
        {
         "name": "lab_50882",
         "rawType": "float64",
         "type": "float"
        },
        {
         "name": "lab_50883",
         "rawType": "float64",
         "type": "float"
        },
        {
         "name": "lab_50884",
         "rawType": "float64",
         "type": "float"
        },
        {
         "name": "lab_50885",
         "rawType": "float64",
         "type": "float"
        },
        {
         "name": "lab_50893",
         "rawType": "float64",
         "type": "float"
        },
        {
         "name": "lab_50902",
         "rawType": "float64",
         "type": "float"
        },
        {
         "name": "lab_50908",
         "rawType": "float64",
         "type": "float"
        },
        {
         "name": "lab_50912",
         "rawType": "float64",
         "type": "float"
        },
        {
         "name": "lab_50931",
         "rawType": "float64",
         "type": "float"
        },
        {
         "name": "lab_50954",
         "rawType": "float64",
         "type": "float"
        },
        {
         "name": "lab_50960",
         "rawType": "float64",
         "type": "float"
        },
        {
         "name": "lab_50963",
         "rawType": "float64",
         "type": "float"
        },
        {
         "name": "lab_50970",
         "rawType": "float64",
         "type": "float"
        },
        {
         "name": "lab_50971",
         "rawType": "float64",
         "type": "float"
        },
        {
         "name": "lab_50983",
         "rawType": "float64",
         "type": "float"
        },
        {
         "name": "lab_51003",
         "rawType": "float64",
         "type": "float"
        },
        {
         "name": "lab_51006",
         "rawType": "float64",
         "type": "float"
        },
        {
         "name": "lab_51022",
         "rawType": "float64",
         "type": "float"
        },
        {
         "name": "lab_51024",
         "rawType": "float64",
         "type": "float"
        },
        {
         "name": "lab_51028",
         "rawType": "float64",
         "type": "float"
        },
        {
         "name": "lab_51032",
         "rawType": "float64",
         "type": "float"
        },
        {
         "name": "lab_51034",
         "rawType": "float64",
         "type": "float"
        },
        {
         "name": "lab_51043",
         "rawType": "float64",
         "type": "float"
        },
        {
         "name": "lab_51046",
         "rawType": "float64",
         "type": "float"
        },
        {
         "name": "lab_51052",
         "rawType": "float64",
         "type": "float"
        },
        {
         "name": "lab_51053",
         "rawType": "float64",
         "type": "float"
        },
        {
         "name": "lab_51054",
         "rawType": "float64",
         "type": "float"
        },
        {
         "name": "lab_51059",
         "rawType": "float64",
         "type": "float"
        },
        {
         "name": "lab_51069",
         "rawType": "float64",
         "type": "float"
        },
        {
         "name": "lab_51076",
         "rawType": "float64",
         "type": "float"
        },
        {
         "name": "lab_51077",
         "rawType": "float64",
         "type": "float"
        },
        {
         "name": "lab_51078",
         "rawType": "float64",
         "type": "float"
        },
        {
         "name": "lab_51082",
         "rawType": "float64",
         "type": "float"
        },
        {
         "name": "lab_51088",
         "rawType": "float64",
         "type": "float"
        },
        {
         "name": "lab_51095",
         "rawType": "float64",
         "type": "float"
        },
        {
         "name": "lab_51097",
         "rawType": "float64",
         "type": "float"
        },
        {
         "name": "lab_51100",
         "rawType": "float64",
         "type": "float"
        },
        {
         "name": "lab_51102",
         "rawType": "float64",
         "type": "float"
        },
        {
         "name": "lab_51104",
         "rawType": "float64",
         "type": "float"
        },
        {
         "name": "lab_51115",
         "rawType": "float64",
         "type": "float"
        },
        {
         "name": "lab_51122",
         "rawType": "float64",
         "type": "float"
        },
        {
         "name": "lab_51127",
         "rawType": "float64",
         "type": "float"
        },
        {
         "name": "lab_51221",
         "rawType": "float64",
         "type": "float"
        },
        {
         "name": "lab_51222",
         "rawType": "float64",
         "type": "float"
        },
        {
         "name": "lab_51248",
         "rawType": "float64",
         "type": "float"
        },
        {
         "name": "lab_51249",
         "rawType": "float64",
         "type": "float"
        },
        {
         "name": "lab_51250",
         "rawType": "float64",
         "type": "float"
        },
        {
         "name": "lab_51265",
         "rawType": "float64",
         "type": "float"
        },
        {
         "name": "lab_51274",
         "rawType": "float64",
         "type": "float"
        },
        {
         "name": "lab_51275",
         "rawType": "float64",
         "type": "float"
        },
        {
         "name": "lab_51277",
         "rawType": "float64",
         "type": "float"
        },
        {
         "name": "lab_51300",
         "rawType": "float64",
         "type": "float"
        },
        {
         "name": "lab_51301",
         "rawType": "float64",
         "type": "float"
        },
        {
         "name": "lab_51369",
         "rawType": "float64",
         "type": "float"
        },
        {
         "name": "lab_51383",
         "rawType": "float64",
         "type": "float"
        },
        {
         "name": "lab_51422",
         "rawType": "float64",
         "type": "float"
        },
        {
         "name": "lab_51438",
         "rawType": "float64",
         "type": "float"
        },
        {
         "name": "lab_51445",
         "rawType": "float64",
         "type": "float"
        },
        {
         "name": "lab_51457",
         "rawType": "float64",
         "type": "float"
        },
        {
         "name": "lab_51478",
         "rawType": "float64",
         "type": "float"
        },
        {
         "name": "lab_51493",
         "rawType": "float64",
         "type": "float"
        },
        {
         "name": "lab_51494",
         "rawType": "float64",
         "type": "float"
        },
        {
         "name": "lab_51516",
         "rawType": "float64",
         "type": "float"
        },
        {
         "name": "lab_51517",
         "rawType": "float64",
         "type": "float"
        },
        {
         "name": "lab_51652",
         "rawType": "float64",
         "type": "float"
        },
        {
         "name": "lab_51790",
         "rawType": "float64",
         "type": "float"
        },
        {
         "name": "lab_51795",
         "rawType": "float64",
         "type": "float"
        },
        {
         "name": "lab_51802",
         "rawType": "float64",
         "type": "float"
        },
        {
         "name": "lab_52024",
         "rawType": "float64",
         "type": "float"
        },
        {
         "name": "lab_52257",
         "rawType": "float64",
         "type": "float"
        },
        {
         "name": "lab_52285",
         "rawType": "float64",
         "type": "float"
        },
        {
         "name": "lab_group_idx",
         "rawType": "object",
         "type": "string"
        },
        {
         "name": "outcome_ed_los",
         "rawType": "bool",
         "type": "boolean"
        }
       ],
       "ref": "2d3be653-963b-4662-9c6b-ec70fab34662",
       "rows": [
        [
         "0",
         "10000084",
         "23052089.0",
         "35203156",
         "2160-11-20 20:36:00",
         "2160-11-21 03:20:00",
         "M",
         "WHITE",
         "WALK IN",
         "ADMITTED",
         "72",
         "2160",
         "2161-02-13",
         "2160-11-21 01:56:00",
         "2160-11-25 14:52:00",
         null,
         "WHITE",
         "2160-11-20 20:36:00",
         "2160-11-21 03:20:00",
         "Medicare",
         "2160",
         "72",
         "False",
         "0 days 06:44:00",
         null,
         null,
         "False",
         "True",
         "False",
         "0",
         "0",
         "0",
         "2160-12-27 18:32:00",
         "36 days 15:12:00",
         "False",
         "0",
         "0",
         "0",
         "0",
         "0",
         "0",
         "6.73",
         null,
         "36.63",
         "36.38888888888889",
         "78.0",
         "16.0",
         "100.0",
         "114.0",
         "71.0",
         "0.0",
         "2.0",
         "Confusion, Hallucinations",
         "0.0",
         "0.0",
         "False",
         "False",
         "0.0",
         "False",
         "False",
         "False",
         "False",
         "False",
         "98.0",
         "68.0",
         "16.0",
         "96.0",
         "103.0",
         "74.0",
         "0.0",
         "0",
         "0",
         "0",
         "0",
         "0",
         "0",
         "0",
         "0",
         "0",
         "0",
         "0",
         "0",
         "0",
         "0",
         "0",
         "0",
         "0",
         "0",
         "0",
         "0",
         "0",
         "0",
         "0",
         "0",
         "0",
         "0",
         "0",
         "0",
         "0",
         "0",
         "0",
         "0",
         "0",
         "0",
         "0",
         "0",
         "0",
         "0",
         "0",
         "0",
         "0",
         "0",
         "0",
         "0",
         "0",
         "0",
         "0",
         "0",
         null,
         null,
         null,
         null,
         null,
         null,
         null,
         null,
         null,
         null,
         null,
         null,
         null,
         null,
         null,
         null,
         null,
         null,
         null,
         null,
         "18.0",
         "4.0",
         "39.0",
         "38.0",
         "19.0",
         null,
         null,
         "0.4",
         "9.9",
         "98.0",
         null,
         "0.8",
         "100.0",
         null,
         "2.0",
         null,
         "3.7",
         "5.8",
         "132.0",
         null,
         "17.0",
         null,
         null,
         null,
         null,
         null,
         null,
         null,
         null,
         null,
         null,
         null,
         null,
         null,
         null,
         null,
         null,
         null,
         null,
         null,
         null,
         null,
         null,
         null,
         null,
         null,
         "38.2",
         "12.8",
         "31.8",
         "33.5",
         "95.0",
         "263.0",
         "11.1",
         "23.4",
         "13.0",
         null,
         "8.6",
         null,
         null,
         null,
         null,
         null,
         null,
         null,
         null,
         null,
         null,
         null,
         null,
         null,
         null,
         null,
         null,
         null,
         null,
         "[0, 1, 2]",
         "False"
        ],
        [
         "1",
         "10000084",
         "29888819.0",
         "36954971",
         "2160-12-27 18:32:00",
         "2160-12-28 16:07:00",
         "M",
         "WHITE",
         "AMBULANCE",
         "HOME",
         "72",
         "2160",
         "2161-02-13",
         "2160-12-28 05:11:00",
         "2160-12-28 16:07:00",
         null,
         "WHITE",
         "2160-12-27 18:32:00",
         "2160-12-28 16:07:00",
         "Medicare",
         "2160",
         "72",
         "False",
         "0 days 21:35:00",
         null,
         null,
         "False",
         "True",
         "False",
         "0",
         "1",
         "1",
         null,
         null,
         "False",
         "0",
         "1",
         "1",
         "0",
         "0",
         "0",
         "21.58",
         null,
         null,
         "37.05555555555556",
         "80.0",
         "16.0",
         "95.0",
         "111.0",
         "72.0",
         "0.0",
         "2.0",
         "Altered mental status, B Pedal edema",
         "0.0",
         "0.0",
         "False",
         "False",
         "0.0",
         "False",
         "False",
         "False",
         "False",
         "False",
         "98.7",
         "80.0",
         "16.0",
         "100.0",
         "119.0",
         "84.0",
         "0.0",
         "0",
         "0",
         "0",
         "0",
         "1",
         "0",
         "0",
         "0",
         "0",
         "0",
         "0",
         "0",
         "0",
         "0",
         "0",
         "0",
         "0",
         "0",
         "0",
         "0",
         "0",
         "0",
         "0",
         "0",
         "0",
         "1",
         "0",
         "0",
         "0",
         "0",
         "0",
         "0",
         "0",
         "0",
         "0",
         "0",
         "0",
         "0",
         "0",
         "0",
         "0",
         "0",
         "0",
         "0",
         "0",
         "0",
         "0",
         "0",
         null,
         null,
         null,
         null,
         null,
         null,
         null,
         null,
         null,
         null,
         null,
         null,
         null,
         null,
         null,
         null,
         null,
         null,
         null,
         null,
         "21.0",
         "3.9",
         "49.0",
         "45.0",
         "24.0",
         null,
         null,
         "0.6",
         "9.6",
         "104.0",
         null,
         "0.8",
         "108.0",
         null,
         "1.9",
         null,
         "3.1",
         "4.1",
         "141.0",
         null,
         "18.0",
         null,
         null,
         null,
         null,
         null,
         null,
         null,
         null,
         null,
         null,
         null,
         null,
         null,
         null,
         null,
         null,
         null,
         null,
         null,
         null,
         null,
         null,
         null,
         null,
         null,
         "39.6",
         "13.0",
         "31.8",
         "32.8",
         "97.0",
         "257.0",
         null,
         null,
         "13.1",
         null,
         "8.7",
         null,
         null,
         null,
         null,
         null,
         null,
         null,
         null,
         null,
         null,
         null,
         null,
         null,
         null,
         null,
         null,
         null,
         null,
         "[0, 1]",
         "False"
        ],
        [
         "2",
         "10000248",
         "20600184.0",
         "35106839",
         "2192-11-29 18:44:00",
         "2192-11-30 03:32:00",
         "M",
         "WHITE",
         "WALK IN",
         "ADMITTED",
         "34",
         "2192",
         null,
         "2192-11-30 01:25:00",
         "2192-11-30 19:20:00",
         null,
         "WHITE",
         "2192-11-29 18:44:00",
         "2192-11-30 03:32:00",
         "Other",
         "2192",
         "34",
         "False",
         "0 days 08:48:00",
         null,
         null,
         "False",
         "True",
         "False",
         "0",
         "0",
         "0",
         null,
         null,
         "False",
         "0",
         "0",
         "0",
         "0",
         "0",
         "0",
         "8.8",
         null,
         null,
         "37.333333333333336",
         "87.0",
         "18.0",
         "100.0",
         "124.0",
         "75.0",
         "1.0",
         "3.0",
         "ANEMIA S/P FALL",
         "0.0",
         "0.0",
         "False",
         "False",
         "0.0",
         "False",
         "False",
         "False",
         "False",
         "False",
         "98.1",
         "67.0",
         "16.0",
         "100.0",
         "111.0",
         "46.0",
         "0.0",
         "0",
         "0",
         "0",
         "0",
         "0",
         "0",
         "0",
         "0",
         "0",
         "0",
         "0",
         "0",
         "0",
         "0",
         "0",
         "0",
         "0",
         "0",
         "0",
         "0",
         "0",
         "0",
         "0",
         "0",
         "0",
         "0",
         "0",
         "0",
         "0",
         "0",
         "0",
         "0",
         "0",
         "0",
         "0",
         "0",
         "0",
         "0",
         "0",
         "0",
         "0",
         "0",
         "0",
         "0",
         "0",
         "0",
         "0",
         "0",
         null,
         null,
         null,
         null,
         null,
         null,
         null,
         null,
         null,
         null,
         null,
         null,
         null,
         null,
         null,
         null,
         null,
         null,
         null,
         null,
         null,
         null,
         null,
         null,
         "28.0",
         null,
         null,
         null,
         null,
         "101.0",
         null,
         "0.8",
         "93.0",
         null,
         null,
         null,
         null,
         "4.1",
         "139.0",
         null,
         "15.0",
         null,
         null,
         null,
         null,
         null,
         null,
         null,
         null,
         null,
         null,
         null,
         null,
         null,
         null,
         null,
         null,
         null,
         null,
         null,
         null,
         null,
         null,
         null,
         null,
         null,
         "29.8",
         "10.6",
         "29.6",
         "35.6",
         "83.0",
         "286.0",
         "10.8",
         "35.2",
         "14.7",
         null,
         "6.6",
         null,
         null,
         null,
         null,
         null,
         null,
         null,
         null,
         null,
         "1.0",
         null,
         null,
         null,
         null,
         null,
         null,
         null,
         null,
         "[0, 1, 2]",
         "False"
        ],
        [
         "3",
         "10000980",
         "25911675.0",
         "39129310",
         "2191-05-22 16:06:00",
         "2191-05-23 17:56:00",
         "F",
         "BLACK/AFRICAN AMERICAN",
         "AMBULANCE",
         "ADMITTED",
         "73",
         "2186",
         "2193-08-26",
         "2191-05-23 15:33:00",
         "2191-05-24 17:14:00",
         null,
         "BLACK/AFRICAN AMERICAN",
         "2191-05-22 16:06:00",
         "2191-05-23 17:56:00",
         "Medicare",
         "2191",
         "78",
         "False",
         "1 days 01:50:00",
         null,
         null,
         "False",
         "True",
         "False",
         "0",
         "1",
         "3",
         "2191-05-30 10:46:00",
         "6 days 16:50:00",
         "Falseh",
         "0",
         "1",
         "2",
         "0",
         "0",
         "0",
         "25.83",
         null,
         "6.7",
         "36.38888888888889",
         "60.0",
         "16.0",
         "100.0",
         "156.0",
         "76.0",
         "0.0",
         "3.0",
         "Anemia",
         "0.0",
         "0.0",
         "False",
         "False",
         "0.0",
         "False",
         "False",
         "False",
         "False",
         "False",
         "98.0",
         "70.0",
         "18.0",
         "100.0",
         "142.0",
         "73.0",
         "0.0",
         "1",
         "1",
         "1",
         "0",
         "0",
         "1",
         "0",
         "0",
         "0",
         "1",
         "1",
         "0",
         "1",
         "0",
         "0",
         "0",
         "0",
         "1",
         "0",
         "1",
         "0",
         "1",
         "1",
         "0",
         "0",
         "0",
         "1",
         "1",
         "1",
         "0",
         "1",
         "0",
         "0",
         "0",
         "0",
         "0",
         "0",
         "0",
         "1",
         "1",
         "0",
         "0",
         "0",
         "0",
         "0",
         "0",
         "0",
         "0",
         null,
         null,
         null,
         null,
         null,
         null,
         null,
         null,
         null,
         null,
         null,
         null,
         null,
         null,
         null,
         null,
         null,
         null,
         null,
         null,
         null,
         null,
         null,
         null,
         "21.0",
         null,
         null,
         "0.2",
         null,
         "109.0",
         null,
         "2.2",
         "124.0",
         "247.0",
         null,
         null,
         null,
         "4.7",
         "143.0",
         null,
         "42.0",
         null,
         null,
         null,
         null,
         null,
         null,
         null,
         null,
         null,
         null,
         null,
         null,
         null,
         null,
         null,
         null,
         null,
         null,
         null,
         null,
         null,
         null,
         null,
         null,
         null,
         "21.7",
         "6.6",
         "31.0",
         "30.4",
         "102.0",
         "214.0",
         null,
         null,
         "16.3",
         null,
         "4.4",
         null,
         null,
         null,
         null,
         null,
         null,
         null,
         null,
         null,
         null,
         null,
         null,
         null,
         null,
         null,
         null,
         null,
         null,
         "[0, 1]",
         "True"
        ],
        [
         "4",
         "10000980",
         "20897796.0",
         "31236252",
         "2193-08-14 21:25:00",
         "2193-08-15 02:22:00",
         "F",
         "BLACK/AFRICAN AMERICAN",
         "WALK IN",
         "ADMITTED",
         "73",
         "2186",
         "2193-08-26",
         "2193-08-15 01:01:00",
         "2193-08-17 15:07:00",
         null,
         "BLACK/AFRICAN AMERICAN",
         "2193-08-14 21:25:00",
         "2193-08-15 02:22:00",
         "Other",
         "2193",
         "80",
         "False",
         "0 days 04:57:00",
         null,
         null,
         "False",
         "True",
         "False",
         "0",
         "0",
         "0",
         null,
         null,
         "False",
         "0",
         "0",
         "0",
         "0",
         "0",
         "0",
         "4.95",
         null,
         null,
         "36.22222222222223",
         "86.0",
         "22.0",
         "68.0",
         "100.0",
         "76.0",
         "0.0",
         "1.0",
         "Dyspnea",
         "0.0",
         "0.0",
         "False",
         "False",
         "0.0",
         "False",
         "False",
         "False",
         "False",
         "False",
         "98.2",
         "77.0",
         "18.0",
         "100.0",
         "141.0",
         "76.0",
         "0.0",
         "1",
         "1",
         "1",
         "0",
         "0",
         "0",
         "0",
         "1",
         "0",
         "1",
         "1",
         "0",
         "1",
         "0",
         "0",
         "0",
         "0",
         "1",
         "0",
         "1",
         "0",
         "1",
         "1",
         "0",
         "0",
         "0",
         "0",
         "1",
         "1",
         "0",
         "1",
         "0",
         "1",
         "0",
         "0",
         "0",
         "0",
         "0",
         "1",
         "1",
         "0",
         "0",
         "1",
         "0",
         "0",
         "0",
         "0",
         "0",
         "-5.0",
         null,
         "22.0",
         null,
         null,
         null,
         null,
         null,
         null,
         "40.0",
         "30.0",
         null,
         null,
         null,
         null,
         null,
         null,
         null,
         null,
         null,
         null,
         null,
         null,
         null,
         "20.0",
         null,
         null,
         null,
         "9.4",
         "105.0",
         null,
         "2.4",
         "189.0",
         null,
         "2.3",
         "4512.0",
         "4.1",
         "4.8",
         "142.0",
         null,
         "38.0",
         null,
         null,
         null,
         null,
         null,
         null,
         null,
         null,
         null,
         null,
         null,
         null,
         null,
         null,
         null,
         null,
         null,
         null,
         null,
         null,
         null,
         null,
         null,
         null,
         null,
         "27.8",
         "9.0",
         "31.3",
         "32.4",
         "97.0",
         "176.0",
         null,
         null,
         "15.1",
         null,
         "6.0",
         null,
         null,
         null,
         null,
         null,
         null,
         null,
         null,
         null,
         null,
         null,
         null,
         null,
         null,
         null,
         null,
         null,
         null,
         "[0, 1]",
         "False"
        ]
       ],
       "shape": {
        "columns": 214,
        "rows": 5
       }
      },
      "text/html": [
       "<div>\n",
       "<style scoped>\n",
       "    .dataframe tbody tr th:only-of-type {\n",
       "        vertical-align: middle;\n",
       "    }\n",
       "\n",
       "    .dataframe tbody tr th {\n",
       "        vertical-align: top;\n",
       "    }\n",
       "\n",
       "    .dataframe thead th {\n",
       "        text-align: right;\n",
       "    }\n",
       "</style>\n",
       "<table border=\"1\" class=\"dataframe\">\n",
       "  <thead>\n",
       "    <tr style=\"text-align: right;\">\n",
       "      <th></th>\n",
       "      <th>subject_id</th>\n",
       "      <th>hadm_id</th>\n",
       "      <th>stay_id</th>\n",
       "      <th>intime</th>\n",
       "      <th>outtime</th>\n",
       "      <th>gender</th>\n",
       "      <th>race</th>\n",
       "      <th>arrival_transport</th>\n",
       "      <th>disposition</th>\n",
       "      <th>anchor_age</th>\n",
       "      <th>...</th>\n",
       "      <th>lab_51517</th>\n",
       "      <th>lab_51652</th>\n",
       "      <th>lab_51790</th>\n",
       "      <th>lab_51795</th>\n",
       "      <th>lab_51802</th>\n",
       "      <th>lab_52024</th>\n",
       "      <th>lab_52257</th>\n",
       "      <th>lab_52285</th>\n",
       "      <th>lab_group_idx</th>\n",
       "      <th>outcome_ed_los</th>\n",
       "    </tr>\n",
       "  </thead>\n",
       "  <tbody>\n",
       "    <tr>\n",
       "      <th>0</th>\n",
       "      <td>10000084</td>\n",
       "      <td>23052089.0</td>\n",
       "      <td>35203156</td>\n",
       "      <td>2160-11-20 20:36:00</td>\n",
       "      <td>2160-11-21 03:20:00</td>\n",
       "      <td>M</td>\n",
       "      <td>WHITE</td>\n",
       "      <td>WALK IN</td>\n",
       "      <td>ADMITTED</td>\n",
       "      <td>72</td>\n",
       "      <td>...</td>\n",
       "      <td>NaN</td>\n",
       "      <td>NaN</td>\n",
       "      <td>NaN</td>\n",
       "      <td>NaN</td>\n",
       "      <td>NaN</td>\n",
       "      <td>NaN</td>\n",
       "      <td>NaN</td>\n",
       "      <td>NaN</td>\n",
       "      <td>[0, 1, 2]</td>\n",
       "      <td>False</td>\n",
       "    </tr>\n",
       "    <tr>\n",
       "      <th>1</th>\n",
       "      <td>10000084</td>\n",
       "      <td>29888819.0</td>\n",
       "      <td>36954971</td>\n",
       "      <td>2160-12-27 18:32:00</td>\n",
       "      <td>2160-12-28 16:07:00</td>\n",
       "      <td>M</td>\n",
       "      <td>WHITE</td>\n",
       "      <td>AMBULANCE</td>\n",
       "      <td>HOME</td>\n",
       "      <td>72</td>\n",
       "      <td>...</td>\n",
       "      <td>NaN</td>\n",
       "      <td>NaN</td>\n",
       "      <td>NaN</td>\n",
       "      <td>NaN</td>\n",
       "      <td>NaN</td>\n",
       "      <td>NaN</td>\n",
       "      <td>NaN</td>\n",
       "      <td>NaN</td>\n",
       "      <td>[0, 1]</td>\n",
       "      <td>False</td>\n",
       "    </tr>\n",
       "    <tr>\n",
       "      <th>2</th>\n",
       "      <td>10000248</td>\n",
       "      <td>20600184.0</td>\n",
       "      <td>35106839</td>\n",
       "      <td>2192-11-29 18:44:00</td>\n",
       "      <td>2192-11-30 03:32:00</td>\n",
       "      <td>M</td>\n",
       "      <td>WHITE</td>\n",
       "      <td>WALK IN</td>\n",
       "      <td>ADMITTED</td>\n",
       "      <td>34</td>\n",
       "      <td>...</td>\n",
       "      <td>NaN</td>\n",
       "      <td>NaN</td>\n",
       "      <td>NaN</td>\n",
       "      <td>NaN</td>\n",
       "      <td>NaN</td>\n",
       "      <td>NaN</td>\n",
       "      <td>NaN</td>\n",
       "      <td>NaN</td>\n",
       "      <td>[0, 1, 2]</td>\n",
       "      <td>False</td>\n",
       "    </tr>\n",
       "    <tr>\n",
       "      <th>3</th>\n",
       "      <td>10000980</td>\n",
       "      <td>25911675.0</td>\n",
       "      <td>39129310</td>\n",
       "      <td>2191-05-22 16:06:00</td>\n",
       "      <td>2191-05-23 17:56:00</td>\n",
       "      <td>F</td>\n",
       "      <td>BLACK/AFRICAN AMERICAN</td>\n",
       "      <td>AMBULANCE</td>\n",
       "      <td>ADMITTED</td>\n",
       "      <td>73</td>\n",
       "      <td>...</td>\n",
       "      <td>NaN</td>\n",
       "      <td>NaN</td>\n",
       "      <td>NaN</td>\n",
       "      <td>NaN</td>\n",
       "      <td>NaN</td>\n",
       "      <td>NaN</td>\n",
       "      <td>NaN</td>\n",
       "      <td>NaN</td>\n",
       "      <td>[0, 1]</td>\n",
       "      <td>True</td>\n",
       "    </tr>\n",
       "    <tr>\n",
       "      <th>4</th>\n",
       "      <td>10000980</td>\n",
       "      <td>20897796.0</td>\n",
       "      <td>31236252</td>\n",
       "      <td>2193-08-14 21:25:00</td>\n",
       "      <td>2193-08-15 02:22:00</td>\n",
       "      <td>F</td>\n",
       "      <td>BLACK/AFRICAN AMERICAN</td>\n",
       "      <td>WALK IN</td>\n",
       "      <td>ADMITTED</td>\n",
       "      <td>73</td>\n",
       "      <td>...</td>\n",
       "      <td>NaN</td>\n",
       "      <td>NaN</td>\n",
       "      <td>NaN</td>\n",
       "      <td>NaN</td>\n",
       "      <td>NaN</td>\n",
       "      <td>NaN</td>\n",
       "      <td>NaN</td>\n",
       "      <td>NaN</td>\n",
       "      <td>[0, 1]</td>\n",
       "      <td>False</td>\n",
       "    </tr>\n",
       "  </tbody>\n",
       "</table>\n",
       "<p>5 rows × 214 columns</p>\n",
       "</div>"
      ],
      "text/plain": [
       "   subject_id     hadm_id   stay_id               intime              outtime  \\\n",
       "0    10000084  23052089.0  35203156  2160-11-20 20:36:00  2160-11-21 03:20:00   \n",
       "1    10000084  29888819.0  36954971  2160-12-27 18:32:00  2160-12-28 16:07:00   \n",
       "2    10000248  20600184.0  35106839  2192-11-29 18:44:00  2192-11-30 03:32:00   \n",
       "3    10000980  25911675.0  39129310  2191-05-22 16:06:00  2191-05-23 17:56:00   \n",
       "4    10000980  20897796.0  31236252  2193-08-14 21:25:00  2193-08-15 02:22:00   \n",
       "\n",
       "  gender                    race arrival_transport disposition  anchor_age  \\\n",
       "0      M                   WHITE           WALK IN    ADMITTED          72   \n",
       "1      M                   WHITE         AMBULANCE        HOME          72   \n",
       "2      M                   WHITE           WALK IN    ADMITTED          34   \n",
       "3      F  BLACK/AFRICAN AMERICAN         AMBULANCE    ADMITTED          73   \n",
       "4      F  BLACK/AFRICAN AMERICAN           WALK IN    ADMITTED          73   \n",
       "\n",
       "   ...  lab_51517 lab_51652 lab_51790 lab_51795 lab_51802 lab_52024 lab_52257  \\\n",
       "0  ...        NaN       NaN       NaN       NaN       NaN       NaN       NaN   \n",
       "1  ...        NaN       NaN       NaN       NaN       NaN       NaN       NaN   \n",
       "2  ...        NaN       NaN       NaN       NaN       NaN       NaN       NaN   \n",
       "3  ...        NaN       NaN       NaN       NaN       NaN       NaN       NaN   \n",
       "4  ...        NaN       NaN       NaN       NaN       NaN       NaN       NaN   \n",
       "\n",
       "  lab_52285 lab_group_idx  outcome_ed_los  \n",
       "0       NaN     [0, 1, 2]           False  \n",
       "1       NaN        [0, 1]           False  \n",
       "2       NaN     [0, 1, 2]           False  \n",
       "3       NaN        [0, 1]            True  \n",
       "4       NaN        [0, 1]           False  \n",
       "\n",
       "[5 rows x 214 columns]"
      ]
     },
     "execution_count": 4,
     "metadata": {},
     "output_type": "execute_result"
    }
   ],
   "source": [
    "master = pd.read_csv(os.path.join(DATA_DIR, 'master.csv'))\n",
    "master.head()"
   ]
  },
  {
   "cell_type": "code",
   "execution_count": 5,
   "id": "c2c68474",
   "metadata": {},
   "outputs": [
    {
     "data": {
      "text/plain": [
       "35002"
      ]
     },
     "execution_count": 5,
     "metadata": {},
     "output_type": "execute_result"
    }
   ],
   "source": [
    "len(master)"
   ]
  },
  {
   "cell_type": "code",
   "execution_count": 8,
   "id": "ccd7c619",
   "metadata": {},
   "outputs": [
    {
     "name": "stdout",
     "output_type": "stream",
     "text": [
      "subject_id\n",
      "hadm_id\n",
      "stay_id\n",
      "intime\n",
      "outtime\n",
      "gender\n",
      "race\n",
      "arrival_transport\n",
      "disposition\n",
      "anchor_age\n",
      "anchor_year\n",
      "dod\n",
      "admittime\n",
      "dischtime\n",
      "deathtime\n",
      "ethnicity\n",
      "edregtime\n",
      "edouttime\n",
      "insurance\n",
      "in_year\n",
      "age\n",
      "outcome_inhospital_mortality\n",
      "ed_los\n",
      "intime_icu\n",
      "time_to_icu_transfer\n",
      "outcome_icu_transfer_12h\n",
      "outcome_hospitalization\n",
      "outcome_critical\n",
      "n_ed_30d\n",
      "n_ed_90d\n",
      "n_ed_365d\n",
      "next_ed_visit_time\n",
      "next_ed_visit_time_diff\n",
      "outcome_ed_revisit_3d\n",
      "n_hosp_30d\n",
      "n_hosp_90d\n",
      "n_hosp_365d\n",
      "n_icu_30d\n",
      "n_icu_90d\n",
      "n_icu_365d\n",
      "ed_los_hours\n",
      "time_to_icu_transfer_hours\n",
      "next_ed_visit_time_diff_days\n",
      "triage_temperature\n",
      "triage_heartrate\n",
      "triage_resprate\n",
      "triage_o2sat\n",
      "triage_sbp\n",
      "triage_dbp\n",
      "triage_pain\n",
      "triage_acuity\n",
      "chiefcomplaint\n",
      "chiefcom_chest_pain\n",
      "chiefcom_abdominal_pain\n",
      "chiefcom_headache\n",
      "chiefcom_shortness_of_breath\n",
      "chiefcom_back_pain\n",
      "chiefcom_cough\n",
      "chiefcom_nausea_vomiting\n",
      "chiefcom_fever_chills\n",
      "chiefcom_syncope\n",
      "chiefcom_dizziness\n",
      "ed_temperature_last\n",
      "ed_heartrate_last\n",
      "ed_resprate_last\n",
      "ed_o2sat_last\n",
      "ed_sbp_last\n",
      "ed_dbp_last\n",
      "ed_pain_last\n",
      "cci_MI\n",
      "cci_CHF\n",
      "cci_PVD\n",
      "cci_Stroke\n",
      "cci_Dementia\n",
      "cci_Pulmonary\n",
      "cci_Rheumatic\n",
      "cci_PUD\n",
      "cci_Liver1\n",
      "cci_DM1\n",
      "cci_DM2\n",
      "cci_Paralysis\n",
      "cci_Renal\n",
      "cci_Cancer1\n",
      "cci_Liver2\n",
      "cci_Cancer2\n",
      "cci_HIV\n",
      "eci_CHF\n",
      "eci_Arrhythmia\n",
      "eci_Valvular\n",
      "eci_PHTN\n",
      "eci_PVD\n",
      "eci_HTN1\n",
      "eci_HTN2\n",
      "eci_Paralysis\n",
      "eci_NeuroOther\n",
      "eci_Pulmonary\n",
      "eci_DM1\n",
      "eci_DM2\n",
      "eci_Hypothyroid\n",
      "eci_Renal\n",
      "eci_Liver\n",
      "eci_PUD\n",
      "eci_HIV\n",
      "eci_Lymphoma\n",
      "eci_Tumor2\n",
      "eci_Tumor1\n",
      "eci_Rheumatic\n",
      "eci_Coagulopathy\n",
      "eci_Obesity\n",
      "eci_WeightLoss\n",
      "eci_FluidsLytes\n",
      "eci_BloodLoss\n",
      "eci_Anemia\n",
      "eci_Alcohol\n",
      "eci_Drugs\n",
      "eci_Psychoses\n",
      "eci_Depression\n",
      "lab_50802\n",
      "lab_50803\n",
      "lab_50804\n",
      "lab_50806\n",
      "lab_50808\n",
      "lab_50809\n",
      "lab_50810\n",
      "lab_50811\n",
      "lab_50813\n",
      "lab_50818\n",
      "lab_50821\n",
      "lab_50822\n",
      "lab_50824\n",
      "lab_50835\n",
      "lab_50838\n",
      "lab_50841\n",
      "lab_50842\n",
      "lab_50843\n",
      "lab_50849\n",
      "lab_50852\n",
      "lab_50861\n",
      "lab_50862\n",
      "lab_50863\n",
      "lab_50878\n",
      "lab_50882\n",
      "lab_50883\n",
      "lab_50884\n",
      "lab_50885\n",
      "lab_50893\n",
      "lab_50902\n",
      "lab_50908\n",
      "lab_50912\n",
      "lab_50931\n",
      "lab_50954\n",
      "lab_50960\n",
      "lab_50963\n",
      "lab_50970\n",
      "lab_50971\n",
      "lab_50983\n",
      "lab_51003\n",
      "lab_51006\n",
      "lab_51022\n",
      "lab_51024\n",
      "lab_51028\n",
      "lab_51032\n",
      "lab_51034\n",
      "lab_51043\n",
      "lab_51046\n",
      "lab_51052\n",
      "lab_51053\n",
      "lab_51054\n",
      "lab_51059\n",
      "lab_51069\n",
      "lab_51076\n",
      "lab_51077\n",
      "lab_51078\n",
      "lab_51082\n",
      "lab_51088\n",
      "lab_51095\n",
      "lab_51097\n",
      "lab_51100\n",
      "lab_51102\n",
      "lab_51104\n",
      "lab_51115\n",
      "lab_51122\n",
      "lab_51127\n",
      "lab_51221\n",
      "lab_51222\n",
      "lab_51248\n",
      "lab_51249\n",
      "lab_51250\n",
      "lab_51265\n",
      "lab_51274\n",
      "lab_51275\n",
      "lab_51277\n",
      "lab_51300\n",
      "lab_51301\n",
      "lab_51369\n",
      "lab_51383\n",
      "lab_51422\n",
      "lab_51438\n",
      "lab_51445\n",
      "lab_51457\n",
      "lab_51478\n",
      "lab_51493\n",
      "lab_51494\n",
      "lab_51516\n",
      "lab_51517\n",
      "lab_51652\n",
      "lab_51790\n",
      "lab_51795\n",
      "lab_51802\n",
      "lab_52024\n",
      "lab_52257\n",
      "lab_52285\n",
      "lab_group_idx\n",
      "outcome_ed_los\n"
     ]
    }
   ],
   "source": [
    "for col in master.columns:\n",
    "    print(col)"
   ]
  },
  {
   "cell_type": "code",
   "execution_count": 4,
   "id": "65dd4898",
   "metadata": {},
   "outputs": [
    {
     "data": {
      "application/vnd.microsoft.datawrangler.viewer.v0+json": {
       "columns": [
        {
         "name": "index",
         "rawType": "int64",
         "type": "integer"
        },
        {
         "name": "note_id",
         "rawType": "object",
         "type": "string"
        },
        {
         "name": "subject_id",
         "rawType": "int64",
         "type": "integer"
        },
        {
         "name": "field_name",
         "rawType": "object",
         "type": "string"
        },
        {
         "name": "field_value",
         "rawType": "object",
         "type": "string"
        },
        {
         "name": "field_ordinal",
         "rawType": "int64",
         "type": "integer"
        }
       ],
       "ref": "fcab5371-0796-4e89-920d-c9509c39cac2",
       "rows": [
        [
         "0",
         "10000032-DS-21",
         "10000032",
         "author",
         "___",
         "1"
        ],
        [
         "1",
         "10000032-DS-22",
         "10000032",
         "author",
         "___",
         "1"
        ],
        [
         "2",
         "10000032-DS-23",
         "10000032",
         "author",
         "___",
         "1"
        ],
        [
         "3",
         "10000032-DS-24",
         "10000032",
         "author",
         "___",
         "1"
        ],
        [
         "4",
         "10000084-DS-17",
         "10000084",
         "author",
         "___",
         "1"
        ]
       ],
       "shape": {
        "columns": 5,
        "rows": 5
       }
      },
      "text/html": [
       "<div>\n",
       "<style scoped>\n",
       "    .dataframe tbody tr th:only-of-type {\n",
       "        vertical-align: middle;\n",
       "    }\n",
       "\n",
       "    .dataframe tbody tr th {\n",
       "        vertical-align: top;\n",
       "    }\n",
       "\n",
       "    .dataframe thead th {\n",
       "        text-align: right;\n",
       "    }\n",
       "</style>\n",
       "<table border=\"1\" class=\"dataframe\">\n",
       "  <thead>\n",
       "    <tr style=\"text-align: right;\">\n",
       "      <th></th>\n",
       "      <th>note_id</th>\n",
       "      <th>subject_id</th>\n",
       "      <th>field_name</th>\n",
       "      <th>field_value</th>\n",
       "      <th>field_ordinal</th>\n",
       "    </tr>\n",
       "  </thead>\n",
       "  <tbody>\n",
       "    <tr>\n",
       "      <th>0</th>\n",
       "      <td>10000032-DS-21</td>\n",
       "      <td>10000032</td>\n",
       "      <td>author</td>\n",
       "      <td>___</td>\n",
       "      <td>1</td>\n",
       "    </tr>\n",
       "    <tr>\n",
       "      <th>1</th>\n",
       "      <td>10000032-DS-22</td>\n",
       "      <td>10000032</td>\n",
       "      <td>author</td>\n",
       "      <td>___</td>\n",
       "      <td>1</td>\n",
       "    </tr>\n",
       "    <tr>\n",
       "      <th>2</th>\n",
       "      <td>10000032-DS-23</td>\n",
       "      <td>10000032</td>\n",
       "      <td>author</td>\n",
       "      <td>___</td>\n",
       "      <td>1</td>\n",
       "    </tr>\n",
       "    <tr>\n",
       "      <th>3</th>\n",
       "      <td>10000032-DS-24</td>\n",
       "      <td>10000032</td>\n",
       "      <td>author</td>\n",
       "      <td>___</td>\n",
       "      <td>1</td>\n",
       "    </tr>\n",
       "    <tr>\n",
       "      <th>4</th>\n",
       "      <td>10000084-DS-17</td>\n",
       "      <td>10000084</td>\n",
       "      <td>author</td>\n",
       "      <td>___</td>\n",
       "      <td>1</td>\n",
       "    </tr>\n",
       "  </tbody>\n",
       "</table>\n",
       "</div>"
      ],
      "text/plain": [
       "          note_id  subject_id field_name field_value  field_ordinal\n",
       "0  10000032-DS-21    10000032     author         ___              1\n",
       "1  10000032-DS-22    10000032     author         ___              1\n",
       "2  10000032-DS-23    10000032     author         ___              1\n",
       "3  10000032-DS-24    10000032     author         ___              1\n",
       "4  10000084-DS-17    10000084     author         ___              1"
      ]
     },
     "execution_count": 4,
     "metadata": {},
     "output_type": "execute_result"
    }
   ],
   "source": [
    "discharge_detail.head()"
   ]
  },
  {
   "cell_type": "code",
   "execution_count": 5,
   "id": "c68a3788",
   "metadata": {},
   "outputs": [
    {
     "data": {
      "application/vnd.microsoft.datawrangler.viewer.v0+json": {
       "columns": [
        {
         "name": "index",
         "rawType": "int64",
         "type": "integer"
        },
        {
         "name": "note_id",
         "rawType": "object",
         "type": "string"
        },
        {
         "name": "subject_id",
         "rawType": "int64",
         "type": "integer"
        },
        {
         "name": "hadm_id",
         "rawType": "int64",
         "type": "integer"
        },
        {
         "name": "note_type",
         "rawType": "object",
         "type": "string"
        },
        {
         "name": "note_seq",
         "rawType": "int64",
         "type": "integer"
        },
        {
         "name": "charttime",
         "rawType": "object",
         "type": "string"
        },
        {
         "name": "storetime",
         "rawType": "object",
         "type": "string"
        },
        {
         "name": "text",
         "rawType": "object",
         "type": "string"
        }
       ],
       "ref": "b4f3dd7a-365e-4c27-ac13-4031552793d2",
       "rows": [
        [
         "0",
         "10000032-DS-21",
         "10000032",
         "22595853",
         "DS",
         "21",
         "2180-05-07 00:00:00",
         "2180-05-09 15:26:00",
         " \nName:  ___                     Unit No:   ___\n \nAdmission Date:  ___              Discharge Date:   ___\n \nDate of Birth:  ___             Sex:   F\n \nService: MEDICINE\n \nAllergies: \nNo Known Allergies / Adverse Drug Reactions\n \nAttending: ___\n \nChief Complaint:\nWorsening ABD distension and pain \n \nMajor Surgical or Invasive Procedure:\nParacentesis\n\n \nHistory of Present Illness:\n___ HCV cirrhosis c/b ascites, hiv on ART, h/o IVDU, COPD, \nbioplar, PTSD, presented from OSH ED with worsening abd \ndistension over past week.  \nPt reports self-discontinuing lasix and spirnolactone ___ weeks \nago, because she feels like \"they don't do anything\" and that \nshe \"doesn't want to put more chemicals in her.\" She does not \nfollow Na-restricted diets. In the past week, she notes that she \nhas been having worsening abd distension and discomfort. She \ndenies ___ edema, or SOB, or orthopnea. She denies f/c/n/v, d/c, \ndysuria. She had food poisoning a week ago from eating stale \ncake (n/v 20 min after food ingestion), which resolved the same \nday. She denies other recent illness or sick contacts. She notes \nthat she has been noticing gum bleeding while brushing her teeth \nin recent weeks. she denies easy bruising, melena, BRBPR, \nhemetesis, hemoptysis, or hematuria.  \nBecause of her abd pain, she went to OSH ED and was transferred \nto ___ for further care. Per ED report, pt has brief period of \nconfusion - she did not recall the ultrasound or bloodwork at \nosh. She denies recent drug use or alcohol use. She denies \nfeeling confused, but reports that she is forgetful at times.  \nIn the ED, initial vitals were 98.4 70 106/63 16 97%RA  \nLabs notable for ALT/AST/AP ___ ___: ___, \nTbili1.6, WBC 5K, platelet 77, INR 1.6  \n\n \nPast Medical History:\n1. HCV Cirrhosis  \n2. No history of abnormal Pap smears.  \n3. She had calcification in her breast, which was removed  \npreviously and per patient not, it was benign.  \n4. For HIV disease, she is being followed by Dr. ___ Dr.  \n___.  \n5. COPD  \n6. Past history of smoking.  \n7. She also had a skin lesion, which was biopsied and showed  \nskin cancer per patient report and is scheduled for a complete  \nremoval of the skin lesion in ___ of this year.  \n8. She also had another lesion in her forehead with purple  \ndiscoloration. It was biopsied to exclude the possibility of  \n___'s sarcoma, the results is pending.  \n9. A 15 mm hypoechoic lesion on her ultrasound on ___  \nand is being monitored by an MRI.  \n10. History of dysplasia of anus in ___.  \n11. Bipolar affective disorder, currently manic, mild, and PTSD. \n \n12. History of cocaine and heroin use.  \n\n \nSocial History:\n___\nFamily History:\nShe a total of five siblings, but she is not  \ntalking to most of them. She only has one brother that she is in \n \ntouch with and lives in ___. She is not aware of any  \nknown GI or liver disease in her family.  \nHer last alcohol consumption was one drink two months ago. No  \nregular alcohol consumption. Last drug use ___ years ago. She  \nquit smoking a couple of years ago.  \n\n \nPhysical Exam:\nVS: 98.1 107/61 78 18 97RA  \nGeneral: in NAD  \nHEENT: CTAB, anicteric sclera, OP clear  \nNeck: supple, no LAD  \nCV: RRR,S1S2, no m/r/g  \nLungs: CTAb, prolonged expiratory phase, no w/r/r  \nAbdomen: distended, mild diffuse tenderness, +flank dullness, \ncannot percuss liver/spleen edge ___ distension  \nGU: no foley  \nExt: wwp, no c/e/e, + clubbing  \nNeuro: AAO3, converse normally, able to recall 3 times after 5 \nminutes, CN II-XII intact  \n\nDischarge:\n\nPHYSICAL EXAMINATION:  \nVS: 98 105/70 95\nGeneral: in NAD  \nHEENT: anicteric sclera, OP clear  \nNeck: supple, no LAD  \nCV: RRR,S1S2, no m/r/g  \nLungs: CTAb, prolonged expiratory phase, no w/r/r  \nAbdomen: distended but improved, TTP in RUQ, \nGU: no foley  \nExt: wwp, no c/e/e, + clubbing  \nNeuro: AAO3,  CN II-XII intact  \n\n \nPertinent Results:\n___ 10:25PM   GLUCOSE-109* UREA N-25* CREAT-0.3* SODIUM-138 \nPOTASSIUM-3.4 CHLORIDE-105 TOTAL CO2-27 ANION GAP-9\n___ 10:25PM   estGFR-Using this\n___ 10:25PM   ALT(SGPT)-100* AST(SGOT)-114* ALK PHOS-114* \nTOT BILI-1.6*\n___ 10:25PM   LIPASE-77*\n___ 10:25PM   ALBUMIN-3.3*\n___ 10:25PM   WBC-5.0# RBC-4.29 HGB-14.3 HCT-42.6 MCV-99* \nMCH-33.3* MCHC-33.5 RDW-15.7*\n___ 10:25PM   NEUTS-70.3* LYMPHS-16.5* MONOS-8.1 EOS-4.2* \nBASOS-0.8\n___ 10:25PM   PLT COUNT-71*\n___ 10:25PM   ___ PTT-30.9 ___\n___ 10:25PM   ___\n.\n\nCXR: No acute cardiopulmonary process.  \nU/S:  \n1. Nodular appearance of the liver compatible with cirrhosis. \nSigns of portal  \nhypertension including small amount of ascites and splenomegaly. \n \n2. Cholelithiasis.  \n3. Patent portal veins with normal hepatopetal flow.  \nDiagnostic para attempted in the ED, unsuccessful.  \nOn the floor, pt c/o abd distension and discomfort.\n \nBrief Hospital Course:\n___ HCV cirrhosis c/b ascites, hiv on ART, h/o IVDU, COPD, \nbioplar, PTSD, presented from OSH ED with worsening abd \ndistension over past week and confusion.  \n\n# Ascites - p/w worsening abd distension and discomfort for last \nweek. likely ___ portal HTN given underlying liver disease, \nthough no ascitic fluid available on night of admission. No \nsigns of heart failure noted on exam. This was ___ to med \nnon-compliance and lack of diet restriction. SBP negative\ndiuretics:  \n> Furosemide 40 mg PO DAILY  \n> Spironolactone 50 mg PO DAILY, chosen over the usual 100mg \ndose d/t K+ of 4.5.   \n CXR was wnl, UA negative, Urine culture blood culture negative. \n \nPt was losing excess fluid appropriately with stable lytes on \nthe above regimen. Pt was scheduled with current PCP for \n___ check upon discharge.   \nPt was scheduled for new PCP with Dr. ___ at ___ and \nfollow up in Liver clinic to schedule outpatient screening EGD \nand ___.   \n \n\n \nMedications on Admission:\nThe Preadmission Medication list is accurate and complete.\n1. Furosemide 20 mg PO DAILY \n2. Spironolactone 50 mg PO DAILY \n3. Albuterol Inhaler 2 PUFF IH Q4H:PRN wheezing, SOB \n4. Raltegravir 400 mg PO BID \n5. Emtricitabine-Tenofovir (Truvada) 1 TAB PO DAILY \n6. Nicotine Patch 14 mg TD DAILY \n7. Ipratropium Bromide Neb 1 NEB IH Q6H SOB \n\n \nDischarge Medications:\n1. Albuterol Inhaler 2 PUFF IH Q4H:PRN wheezing, SOB \n2. Emtricitabine-Tenofovir (Truvada) 1 TAB PO DAILY \n3. Furosemide 40 mg PO DAILY \nRX *furosemide 40 mg 1 tablet(s) by mouth Daily Disp #*30 Tablet \nRefills:*3\n4. Ipratropium Bromide Neb 1 NEB IH Q6H SOB \n5. Nicotine Patch 14 mg TD DAILY \n6. Raltegravir 400 mg PO BID \n7. Spironolactone 50 mg PO DAILY \n8. Acetaminophen 500 mg PO Q6H:PRN pain \n\n \nDischarge Disposition:\nHome\n \nDischarge Diagnosis:\nAscites from Portal HTN\n\n \nDischarge Condition:\nMental Status: Clear and coherent.\nLevel of Consciousness: Alert and interactive.\nActivity Status: Ambulatory - Independent.\n\n \nDischarge Instructions:\nDear Ms. ___,\nIt was a pleasure taking care of you! You came to us with \nstomach pain and worsening distension. While you were here we \ndid a paracentesis to remove 1.5L of fluid from your belly. We \nalso placed you on you 40 mg of Lasix and 50 mg of Aldactone to \nhelp you urinate the excess fluid still in your belly. As we \ndiscussed, everyone has a different dose of lasix required to \nmake them urinate and it's likely that you weren't taking a high \nenough dose. Please take these medications daily to keep excess \nfluid off and eat a low salt diet. You will follow up with Dr. \n___ in liver clinic and from there have your colonoscopy \nand EGD scheduled. Of course, we are always here if you need us. \nWe wish you all the best!\nYour ___ Team.  \n \nFollowup Instructions:\n___\n"
        ],
        [
         "1",
         "10000032-DS-22",
         "10000032",
         "22841357",
         "DS",
         "22",
         "2180-06-27 00:00:00",
         "2180-07-01 10:15:00",
         " \nName:  ___                     Unit No:   ___\n \nAdmission Date:  ___              Discharge Date:   ___\n \nDate of Birth:  ___             Sex:   F\n \nService: MEDICINE\n \nAllergies: \nPercocet\n \nAttending: ___.\n \nChief Complaint:\nabdominal fullness and discomfort\n \nMajor Surgical or Invasive Procedure:\n___ diagnostic paracentesis\n___ therapeutic paracentesis\n\n \nHistory of Present Illness:\n___ with HIV on HAART, COPD, HCV cirrhosis complicated by \nascites and HE admitted with abdominal distention and pain. She \nwas admitted to ___ for the same symptoms \nrecently and had 3L fluid removed (no SBP) three days ago and \nfelt better. Since discharge, her abdomen has become \nincreasingly distended with pain. This feels similar to prior \nepisodes of ascites.  \nHer diuretics were recently decreased on ___ due to worsening \nhyponatremia 128 and hyperkalemia 5.1. Patient states she has \nbeen compliant with her HIV and diuretic medications but never \nfilled out the lactulose prescription. She states she has had \n___ BMs daily at home. She has had some visual hallucinations \nand forgetfulness. Her appetite has been poor.  \nIn the ED, initial vitals were 98.9 88 116/88 18 97% RA. CBC \nnear baseline, INR 1.4, Na 125, Cr 0.6. AST and ALT mildly above \nbaseline 182 and 126 and albumin 2.8. Diagnostic para with 225 \nWBC, 7% PMN, total protein 0.3. UA with few bact, 6 WBC, mod \nleuk, neg nitr, but contaminated with 6 epi. CXR clear. RUQ US \nwith no PV thrombus, moderate ascites. She was given ondansetron \n4mg IV and morphine 2.5mg IV x1 in the ED.  \nOn the floor, she is feeling improved but still has abdominal \ndistention and discomfort.  \nROS: +Abdominal distention and pain. No black/bloody stools. No \n___ pain or swelling. No fevers or chills. Denies chest pain, \nnausea, vomiting. No dysuria or frequency. \n \nPast Medical History:\n1. HCV Cirrhosis  \n2. No history of abnormal Pap smears.  \n3. She had calcification in her breast, which was removed  \npreviously and per patient not, it was benign.  \n4. For HIV disease, she is being followed by Dr. ___ Dr.  \n___.  \n5. COPD  \n6. Past history of smoking.  \n7. She also had a skin lesion, which was biopsied and showed  \nskin cancer per patient report and is scheduled for a complete  \nremoval of the skin lesion in ___ of this year.  \n8. She also had another lesion in her forehead with purple  \ndiscoloration. It was biopsied to exclude the possibility of  \n___'s sarcoma, the results is pending.  \n9. A 15 mm hypoechoic lesion on her ultrasound on ___  \nand is being monitored by an MRI.  \n10. History of dysplasia of anus in ___.  \n11. Bipolar affective disorder, currently manic, mild, and PTSD. \n \n12. History of cocaine and heroin use.  \n\n \nSocial History:\n___\nFamily History:\nShe a total of five siblings, but she is not  talking to most of \nthem. She only has one brother that she is in  touch with and \nlives in ___. She is not aware of any known GI or liver \ndisease in her family.  \n \nPhysical Exam:\nADMISSION PHYSICAL EXAM:  \nVS: T98.1 105/57 79 20 97RA 44.6kg  \nGENERAL: Thin chronically ill appearing woman in no acute \ndistress  \nHEENT: Sclera anicteric, MMM, no oral lesions  \nHEART: RRR, normal S1 S2, no murmurs  \nLUNGS: Clear, no wheezes, rales, or rhonchi  \nABD: Significant distention with visible veins, bulging flanks, \nnontender to palpation, tympanitic on percussion, normal bowel \nsounds  \nEXT: no ___ edema, 2+ DP and ___ pulses  \nNEURO: alert and oriented, not confused, no asterixis\n\nDISCHARGE PE:\nVS: T 98.4 BP 95/55 (SBP ___ HR 80 RR 18 O2 95RA  \nI/O 240/150 this am  \nGENERAL: Thin chronically ill appearing woman in no acute \ndistress  \nHEENT: Sclera anicteric, MMM, no oral lesions  \nHEART: RRR, normal S1 S2, no murmurs  \nLUNGS: Clear, no wheezes, rales, or rhonchi  \nABD: Significant distention with visible veins, bulging flanks, \nnontender to palpation, tympanitic on percussion, normal bowel \nsounds  \nEXT: no ___ edema, 2+ DP and ___ pulses  \nNEURO: alert and oriented, not confused, no asterixis\n \nPertinent Results:\nLABS ON ADMISSION:\n___ 04:10PM BLOOD ___ \n___ Plt ___\n___ 04:10PM BLOOD ___ \n___\n___ 04:10PM BLOOD ___ \n___\n___ 04:10PM BLOOD ___ \n___\n___ 04:10PM BLOOD ___\n___ 04:39PM BLOOD ___\n\nLABS ON DISCHARGE:\n___ 05:10AM BLOOD ___ \n___ Plt ___\n___ 05:10AM BLOOD ___ ___\n___ 05:10AM BLOOD ___ \n___\n___ 05:10AM BLOOD ___ \n___\n___ 05:10AM BLOOD ___\n\nMICRO:\n___ 10:39 pm URINE      Source: ___. \n\n                            **FINAL REPORT ___\n\n   URINE CULTURE (Final ___: \n      MIXED BACTERIAL FLORA ( >= 3 COLONY TYPES), CONSISTENT \nWITH SKIN\n      AND/OR GENITAL CONTAMINATION. \n\n___ 7:00 pm PERITONEAL FLUID      PERITONEAL FLUID. \n\n   GRAM STAIN (Final ___: \n      1+    (<1 per 1000X FIELD):   POLYMORPHONUCLEAR \nLEUKOCYTES. \n      NO MICROORGANISMS SEEN. \n      This is a concentrated smear made by cytospin method, \nplease refer to\n      hematology for a quantitative white blood cell count.. \n\n   FLUID CULTURE (Final ___:    NO GROWTH. \n\n   ANAEROBIC CULTURE (Preliminary):    NO GROWTH.\n\n___ 7:00 pm PERITONEAL FLUID      PERITONEAL FLUID. \n\n   GRAM STAIN (Final ___: \n      1+    (<1 per 1000X FIELD):   POLYMORPHONUCLEAR \nLEUKOCYTES. \n      NO MICROORGANISMS SEEN. \n      This is a concentrated smear made by cytospin method, \nplease refer to\n      hematology for a quantitative white blood cell count.. \n\n   FLUID CULTURE (Final ___:    NO GROWTH. \n\n   ANAEROBIC CULTURE (Preliminary):    NO GROWTH. \n\nDiagnositc Para:\n___ 07:00PM ASCITES ___ \n___\n___ 07:00PM ASCITES ___\n\nIMAGING:\n___ CXR- No acute cardiopulmonary abnormality.  \n___ RUQ US-  \n1. Extremely coarse and nodular liver echotexture consistent \nwith a history of cirrhosis.  \n2. Moderate ascites.  \n3. Patent portal vein.\n \nBrief Hospital Course:\n___ with HIV on HAART, HCV cirrhosis with ascites and HE, h/o \nIVDU, COPD, bipolar disorder presents with abdominal discomfort \ndue to ___ ascites.  \n \n# ASCITES. Now diuretic refractory given last tap was three days \nago with 3L removed and she has already built up moderate \nascites. Infectious workup negative, with CXR clear, UA \ncontaminated but not grossly positive so will f/u culture, \ndiagnostic para with only 225 WBC, RUQ US with no PV thrombus. \nCompliant with diuretics but not following low sodium diet or \nfluid restriction. Dr. ___ discussed possible TIPS in \nthe office but due to lung disease, that was on hold pending \nfurther cardiac evaluation. Diuretics were recently decreased \ndue to hyponatremia and hyperkalemia. Held spironolactone for \nnow due to K 5.2 and increased lasix 20 -> 40. No evidence of \nsevere hyponatremia (Na<120) or renal failure Cr>2.0 to stop \ndiuretics at present. Diagnostic paracentesis negative for \ninfection. Ascitic total protein 0.3 so warrants SBP prophylaxis \n(<1.0) and fortunately already on Bactrim for PCP prophylaxis \nwhich would be appropriate for SBP ppx also. Patient did admit \nto eating pizza and some ___ food prior to \nadmission. She had therapeutic paracentesis with 4.3L removed \nand received 37.5G albumin IV post procedure. She felt much \nbetter with resolution of abdominal discomfort. Patient is \nscheduled for repeat paracentesis as outpatient on ___.  \n\n# HEPATIC ENCEPHALOPATHY. History of HE from Hep C cirrhosis. \nNow with mild encephalopathy (hallucinations and forgetfulness) \ndue to medication noncompliance, but not acutely encephalopathic \nand without asterixis on exam. Infectious workup negative thus \nfar. Continue lactulose 30mL TID and titrate to 3 BMs daily and \ncontinue rifaximin 550mg BID. \n \n# HYPONATREMIA. Na 125 on admission, 128 four days ago, and 135 \none month ago. Likely due to third spacing from worsening \nascites and fluid overload. 1.5L fluid restriction, low salt \ndiet. S/p therapeutic paracentesis with albumin replacement.\n\n# CIRRHOSIS, HEPATITIS C. MELD score of 10 and Child's ___ \nclass B on this admission. Now decompensated due to ascites. \nHepatitis C genotype IIIB. Dr. ___ starting \n___ and ___ with patient in clinic and the \ninsurance process was started by her office. No history of EGD, \nneeds this as outpatient for varices screening.  \n \n# NUTRITION. Unclear if truly compliant with low salt diet. Poor \noral intake. Low albumin 2.8 on admission. Met with nutrition. \n \n# COAGULOPATHY. INR 1.4 four days ago. No evidence of active \nbleeding. Very mild thrombocytopenia with plts 143.  \n \n# HIV. Most recent CD4 173. On HAART. No established ID \nprovider. Continue Truvada and Isentress, Bactrim DS daily for \nPCP ___. Needs outpatient ID appointment  \n\n# COPD. Stable. States she is on intermittent home O2 for \ncomfort at night and with abdominal distentiom. Continued home \nCOPD meds and home O2 as needed \n\n**Transitional Issues**\n- Discontinued spironolactone ___ elevated potassium\n- Increased furosemide to 40mg daily\n- Please recheck electrolytes at next visit\n- Had paracentesis ___ with 4.3 L removed, received 37.5G \nalbumin\n- Needs outpatient ID provider\n- ___ needs more frequent paracentesis\n \nMedications on Admission:\nThe Preadmission Medication list is accurate and complete.\n1. Albuterol Inhaler 2 PUFF IH Q6H:PRN wheezing, SOB \n2. ___ (Truvada) 1 TAB PO DAILY \n3. Furosemide 20 mg PO DAILY \n4. Raltegravir 400 mg PO BID \n5. Spironolactone 50 mg PO DAILY \n6. Acetaminophen 500 mg PO Q6H:PRN pain,fever \n7. Tiotropium Bromide 1 CAP IH DAILY \n8. Rifaximin 550 mg PO BID \n9. Calcium Carbonate 1250 mg PO BID \n10. Lactulose 15 mL PO TID \n11. Sulfameth/Trimethoprim DS 1 TAB PO DAILY \n\n \nDischarge Medications:\n1. Acetaminophen 500 mg PO Q6H:PRN pain,fever \n2. Albuterol Inhaler 2 PUFF IH Q6H:PRN wheezing, SOB \n3. Calcium Carbonate 1250 mg PO BID \n4. ___ (Truvada) 1 TAB PO DAILY \n5. Furosemide 40 mg PO DAILY \n6. Lactulose 15 mL PO TID \n7. Raltegravir 400 mg PO BID \n8. Rifaximin 550 mg PO BID \n9. Sulfameth/Trimethoprim DS 1 TAB PO DAILY \n10. Tiotropium Bromide 1 CAP IH DAILY \n\n \nDischarge Disposition:\nHome\n \nDischarge Diagnosis:\nPrimary:  diuretic refractory ascites\nSecondary: HCV cirrhosis, HIV, hyponatremia, COPD\n\n \nDischarge Condition:\nMental Status: Clear and coherent.\nLevel of Consciousness: Alert and interactive.\nActivity Status: Ambulatory - Independent.\n\n \nDischarge Instructions:\nDear ___,\n\n___ was a pleasure to take care of you at ___ \n___. You were admitted with abdominal fullness and \npain from your ascites. You had a diagnostic and therapeutic \nparacentesis with 4.3 L removed. Your spironolactone was \ndiscontinued because your potassium was high. Your lasix was \nincreased to 40mg daily. You are scheduled for another \nparacentesis on ___ prior to your other appointments that day. \nPlease call tomorrow to find out the time of the paracentesis. \nPlease continue to follow a low sodium diet and fluid \nrestriction. You should call your liver doctor or return to the \nemergency room if you have abdominal pain, fever, chills, \nconfusion, or other concerning symptoms.\n\nSincerely,\nYour ___ medical team\n \nFollowup Instructions:\n___\n"
        ],
        [
         "2",
         "10000032-DS-23",
         "10000032",
         "29079034",
         "DS",
         "23",
         "2180-07-25 00:00:00",
         "2180-07-25 21:42:00",
         " \nName:  ___                     Unit No:   ___\n \nAdmission Date:  ___              Discharge Date:   ___\n \nDate of Birth:  ___             Sex:   F\n \nService: MEDICINE\n \nAllergies: \nPercocet / Vicodin\n \nAttending: ___\n \nChief Complaint:\naltered mental status\n \nMajor Surgical or Invasive Procedure:\nnone\n \nHistory of Present Illness:\nMrs. ___ is a ___ female with HIV on HAART, COPD, HCV \ncirrhosis complicated by ascites and hepatic encephalopathy who \ninitially presented to the ED yesterday with hypotension after a \nparacentesis.  \nThe patient has had accelerated decompensation of her cirrhosis \nrecently with worsening ascites, and she is maintained on twice \nweekly paracentesis. She was at her regular session yesterday \nwhen she had hypotension to SBP ___ and felt lightheadedness. \nPer the patient, that's when her memory started to get fuzzy. \nShe does not have much recollection of what happened since then. \nHer outpatient hepatologist saw her and recommended that she go \nto the ED. In the ED, she was evaluated and deemed to have \nstable blood pressure. She was discharged home. At home, she had \nworsening mental status with her daughter getting concerned, and \nshe returned to the ED.  \nIn the ED, initial vitals were 98.7 77 96/50 16 98% RA. The \npatient was only oriented to person. Her labs were notable for \nNa 126, K 6.7, Cr 0.7 (baseline 0.4), ALT 153, AST 275, TBili \n1.9, Lip 66, INR 1.5. Initial EKG showed sinus rhythm with \npeaked T waves. Her head CT was negative for any acute \nprocesses. She received ceftriaxone 2gm x1, regular insulin 10U, \ncalcium gluconate 1g, lactulose 30 mL x2, and 25g 5% albumin.  \nOn transfer, vitals were 99.0 93 84/40 16 95% NC. On arrival to \nthe MICU, patient was more alert and conversant. She has no \nabdominal pain, nausea, vomiting, chest pain, or difficulty \nbreathing. She has a chronic cough that is not much changed. She \nhas not had any fever or chills. She reports taking all of her \nmedications except for lactulose, which she thinks taste \ndisgusting.  \n \nPast Medical History:\n- HCV Cirrhosis: genotype 3a  \n- HIV: on HAART, ___ CD4 count 173, ___ HIV viral load \nundetectable  \n- COPD: ___ PFT showed FVC 1.95 (65%), FEV1 0.88 (37%), \nFEFmax 2.00 (33%)  \n- Bipolar Affective Disorder  \n- PTSD  \n- Hx of cocaine and heroin abuse  \n- Hx of skin cancer per patient report  \n \nSocial History:\n___\nFamily History:\nShe a total of five siblings, but she is not  talking to most of \nthem. She only has one brother that she is in  touch with and \nlives in ___. She is not aware of any known GI or liver \ndisease in her family.  \n \nPhysical Exam:\nADMISSION PHYSICAL EXAM:\nVitals T: 98.7 BP: 84/48 P: 91 R: 24 O2: 98% NC on 2L  \nGENERAL: Alert, oriented, no acute distress  \nLUNGS: Decreased air movement on both sides, scattered \nexpiratory wheezes  \nCV: Regular rate and rhythm, normal S1 S2, no murmurs, rubs, \ngallops  \nABD: Soft, non-tender, distended, flank dullness bilaterally, \nbowel sounds present  \nEXT: Warm, well perfused, 2+ pulses, no cyanosis or edema  \n\nDISCHARGE PHYSICAL EXAM:\nVitals- Tm 99.5, Tc 98.7, ___ 79-96/43-58 20 95% on 3L NC, \n7BM.  \nGeneral- Cachectic-appearing woman, alert, oriented, no acute \ndistress  \nHEENT- Sclera anicteric, MMM, oropharynx clear, poor dentition \nwith partial dentures  \nNeck- supple, JVP not elevated, no LAD  \nLungs- Clear to auscultation bilaterally, no wheezes, rales, \nronchi  \nCV- Regular rate and rhythm, normal S1 + S2, no murmurs, rubs, \ngallops  \nAbdomen- Mildly distended and firm, non-tender, bowel sounds \npresent, no rebound tenderness or guarding  \nGU- no foley  \nExt- warm, well perfused, 2+ pulses, no clubbing, cyanosis or \nedema  \nNeuro- AOx3, No asterixis.  \n \nPertinent Results:\nADMISSION LABS:\n=================\n___ 06:39AM BLOOD WBC-6.9 RBC-3.98* Hgb-14.1 Hct-41.1 \nMCV-103* MCH-35.4* MCHC-34.3 RDW-15.8* Plt ___\n___ 06:39AM BLOOD Neuts-72.7* Lymphs-14.7* Monos-9.8 \nEos-2.5 Baso-0.3\n___ 06:39AM BLOOD ___ PTT-32.4 ___\n___ 06:39AM BLOOD Glucose-102* UreaN-49* Creat-0.7 Na-126* \nK-6.7* Cl-95* HCO3-25 AnGap-13\n___ 06:39AM BLOOD ALT-153* AST-275* AlkPhos-114* \nTotBili-1.9*\n___ 06:39AM BLOOD Albumin-3.6\n\nIMAGING/STUDIES:\n================\n___ CT HEAD:\nNo evidence of acute intracranial process.\nThe left zygomatic arch deformity is probably chronic as there \nis no\nassociated soft tissue swelling.\n\n___ CXR:\nNo acute intrathoracic process.\n\nDISCHARGE LABS:\n===============\n___ 04:45AM BLOOD WBC-4.8 RBC-3.15* Hgb-11.2* Hct-32.1* \nMCV-102* MCH-35.4* MCHC-34.8 RDW-15.8* Plt Ct-95*\n___ 04:45AM BLOOD ___ PTT-37.6* ___\n___ 04:45AM BLOOD Glucose-121* UreaN-35* Creat-0.4 Na-130* \nK-5.2* Cl-97 HCO3-27 AnGap-11\n___ 04:45AM BLOOD ALT-96* AST-168* AlkPhos-69 TotBili-1.7*\n___ 04:45AM BLOOD Calcium-8.6 Phos-2.4* Mg-2.___ w/ HIV on HAART, COPD on 3L home O2, HCV cirrhosis \ndecompensated (ascites requiring biweekly therapeutic \nparacenteses, hepatic encephalopathy; not on transplant list ___ \ncomorbidities) w/ AMS, hypotension, ___, and hyperkalemia. \nAltered mental status improved with lactulose. Hypotension was \nfelt to be due to fluid shifts from paracentesis on the day \nprior to admission as well as low PO intake in the setting of \nAMS. Hypotension and ___ resolved with IV albumin. Hyperkalemia \nresolved with insulin and kayexalate.\n\n# Hypotension: Patient presented with SBP in ___ and improved \nwith albumin in the ED to ___. It was felt to be due to \nfluid shifts from paracentesis on ___, as well as likely \nhypovolemia given AMS and decreased PO intake. No concern for \nbleeding or sepsis with baseline CBC and lack of fever. She \ncontinued to received IV albumin during her hospital course, \nwith which her SBP improved to ___ and patient remained \nasymptomatic.  \n\n# Hyperkalemia: Patient presented with K 6.7 with EKG changes. \nGiven low Na, likely the result of low effective arterial volume \nleading to poor K excretion, with likely exacerbation from ___. \nAM cortisol was normal. K improved with insulin and kayexalate \nand K was 5.2 on day of discharge. Bactrim was held during \nhospital course. \n\n# ___: Patient presented with Cr 0.7 from baseline Cr is \n0.3-0.4. It was felt to be likely due to volume shift from her \nparacentesis on the day prior to admission as well as now low \neffective arterial volume, likely ___ poor PO intake ___ AMS. Cr \nimproved to 0.4 with albumin administration. Furosemide and \nBactrim were held during hospital course.   \n\n#GOC: The ___ son (HCP) met with Dr. ___ \noutpatient hepatologist) during ___ hospital course. They \ndiscussed that the patient is not a transplant candidate \ngivenevere underlying lung disease (FEV1 ~0.8), hypoxia, RV \ndilation and very low BMI. A more conservative approach was \nrecommended and the patient was transitioned to DNR/DNI. The \npatient agreed with this plan. She was treated with the goal of \ntreating any any correctable issues. Social work met with the \npatient prior to discharge. The patient was interested in \nfollowing up with palliative care, for which an outpatient \nreferral was made. \n \n# Altered Mental Status: Patient presented with confusion that \nwas most likely secondary to hepatic encephalopathy. Based on \noutpatient records, patient has had steady decline in \ndecompensated cirrhosis and mental status. No signs of infection \nand head CT was negative as well. Mental status improved with \nlactulose in the ED and patient reports that she has not been \ntaking lactulose regularly at home. Patient was also continued \non rifaximin.   \n\n# HCV Cirrhosis: Genotype 3a. Patient is decompensated with \nincreasing ascites and worsening hepatic encephalopathy. She is \ndependent on twice weekly paracentesis. Spironolactone was \nrecently stopped due to hyperkalemia. Patient is not a \ntransplant candidate given her comorbidities COPD per outpatient \nhepatologist. The patient would like to continue biweekly \nparacenteses as an outpatient.\n\n# HIV: Most recent CD4 count 173 on ___. HIV viral load on \n___ was undetectable. She was continued on her home regimen \nof raltegravir, emtricitabine, and tenofovir. Bactrim \nprophylaxis was held during admission because of hyperkalemia.   \n\n\n# COPD: Patient on 3L NC at home. She was continued on her home \nregimen.\n\nTRANSITIONAL ISSUES:\n-Follow up with Palliative Care as outpatient\n-Bactrim prophylaxis (HIV+) was held during hospital course due \nto ___. Consider restarting as outpatient.\n-Furosemide was held due to ___, consider restarting as \noutpatient\n-Follow up with hepatology\n-Continue biweekly therapeurtic paracenteses\n-Code status: DNR/DNI\n \nMedications on Admission:\nThe Preadmission Medication list is accurate and complete.\n1. Lactulose 15 mL PO TID \n2. Tiotropium Bromide 1 CAP IH DAILY \n3. Raltegravir 400 mg PO BID \n4. Emtricitabine-Tenofovir (Truvada) 1 TAB PO DAILY \n5. Furosemide 40 mg PO DAILY \n6. TraMADOL (Ultram) 50 mg PO Q8H:PRN Pain \n7. Fluticasone Propionate 110mcg 1 PUFF IH BID \n8. Calcium Carbonate 500 mg PO BID \n9. Rifaximin 550 mg PO BID \n10. albuterol sulfate 90 mcg/actuation inhalation Q6H:PRN \nWheezing \n11. Sulfameth/Trimethoprim DS 1 TAB PO DAILY \n\n \nDischarge Medications:\n1. Calcium Carbonate 500 mg PO BID \n2. Emtricitabine-Tenofovir (Truvada) 1 TAB PO DAILY \n3. Fluticasone Propionate 110mcg 1 PUFF IH BID \n4. Lactulose 30 mL PO TID \n5. Raltegravir 400 mg PO BID \n6. Rifaximin 550 mg PO BID \n7. TraMADOL (Ultram) ___ mg PO Q6H:PRN pain \n8. albuterol sulfate 90 mcg/actuation inhalation Q6H:PRN \nWheezing \n9. Tiotropium Bromide 1 CAP IH DAILY \n\n \nDischarge Disposition:\nHome\n \nDischarge Diagnosis:\nPrimary:\nHypotension\nHyperkalemia\nAcute Kidney Injury\n\nSecondary:\nHIV\nCirrhosis\nCOPD\n \nDischarge Condition:\nMental Status: Clear and coherent.\nLevel of Consciousness: Alert and interactive.\nActivity Status: Ambulatory - Independent.\n \nDischarge Instructions:\nDear Ms. ___,\n\nYou were admitted to ___ because of confusion, low blood \npressure, and a high potassium value. Your confusion improved \nwith lactulose. Your blood pressure improved with extra fluids \nand your potassium improved as well. You also had small degree \nof kidney injury when you came to the hospital, and this also \nimproved with fluids. While you were here, you discussed \nchanging your goals of care to focusing on symptom management \nand treatment of reversible processes, such as an infection. \nWhile you were in the hospital, you were seen by one of our \nsocial workers. You will also follow up with Palliative Care in \ntheir clinic and will continue to have therapeutic paracenteses.\n\nIt has been a pleasure taking care of you and we wish you all \nthe best,\nYour ___ Care team\n \nFollowup Instructions:\n___\n"
        ],
        [
         "3",
         "10000032-DS-24",
         "10000032",
         "25742920",
         "DS",
         "24",
         "2180-08-07 00:00:00",
         "2180-08-10 05:43:00",
         " \nName:  ___                     Unit No:   ___\n \nAdmission Date:  ___              Discharge Date:   ___\n \nDate of Birth:  ___             Sex:   F\n \nService: MEDICINE\n \nAllergies: \nPercocet / Vicodin\n \nAttending: ___.\n \nChief Complaint:\nAbdominal pain\n \nMajor Surgical or Invasive Procedure:\n___ Paracentesis\n\n \nHistory of Present Illness:\n___ w/ HIV on HAART, COPD on 3L home O2 (though sat'ing fine on \nRA on admission), HCV cirrhosis c/b ascites requiring biweekly \ntherapeutic paracenteses, hepatic encephalopathy; not on \ntransplant list ___ comorbidities) p/w worsening girth and abd \npain. She'd been having pain from her ascites, and felt overdue \nfor a paracentesis. She last had paracentesis on the ___. \nShe reported that she began feeling worsening abdominal pain \n(constant, epigastric and radiates to back, not a/w food) on \n___, which increased in severity throughout the course of the \nday. She was brought to the ED by her son because of this pain. \nShe had no confusion and was alert and oriented x3. The patient \nalso reported she recently ran out of most of her home \nmedications. She denied any fever, chills, shortness of breath, \ncough, dysuria. She reported loose stool a bit more than usual, \nbut attributed it to lactulose use. In the ED, vitals were: 99.4 \n105 106/57 18 96% ra. Labs were significant for Na 127 K 5.3 \nlactate 2.1 INR 1.7. ALT 135 AST 244 AP 123. no leukocytosis. \nAscitic fluid showed 220 WBC. She was given Morphine Sulfate 5 \nmg IV ONCE MR1, and a GI cocktail.\n \nPast Medical History:\n- HCV Cirrhosis: genotype 3a  \n- HIV: on HAART, ___ CD4 count 173, ___ HIV viral load \nundetectable  \n- COPD: ___ PFT showed FVC 1.95 (65%), FEV1 0.88 (37%), \nFEFmax 2.00 (33%)  \n- Bipolar Affective Disorder  \n- PTSD  \n- Hx of cocaine and heroin abuse  \n- Hx of skin cancer per patient report  \n \nSocial History:\n___\nFamily History:\nShe a total of five siblings, but she is not  talking to most of \nthem. She only has one brother that she is in touch with and \nlives in ___. She is not aware of any known GI or liver \ndisease in her family.  \n \nPhysical Exam:\nADMISSION PHYSICAL EXAM\n=======================\nVitals - T 97, BP 98/65, HR 103, RR 18, O2 94RA, Glucose 128.  \nGENERAL: NAD, lying on her right side.\nHEENT: AT/NC, EOMI, PERRL, anicteric sclera, pink conjunctiva, \nMMM, good dentition  \nNECK: nontender supple neck, no LAD, no JVD  \nCARDIAC: RRR, S1/S2, no murmurs, gallops, or rubs  \nLUNG: CTAB, no wheezes, rales, rhonchi, breathing comfortably \nwithout use of accessory muscles  \nABDOMEN: distended, + fluid wave, not tense. NABS, nontender  \nEXTREMITIES: no cyanosis, clubbing or edema, moving all 4 \nextremities with purpose\nPULSES: 2+ DP pulses bilaterally  \nNEURO: CN II-XII intact, AAO3, no asterxis  \nSKIN: warm and well perfused, no excoriations or lesions, no \nrashes\n\nDISCHARGE PHYSICAL EXAM\n=======================\nVitals - Tm 98.6, Tc 98.2, BP 82-98/42-68, HR 80-95, RR ___, \nO2 91-99% RA.\nGENERAL: NAD, lying on her right side.\nHEENT: AT/NC, EOMI, PERRL, anicteric sclera, pink conjunctiva, \nMMM, good dentition  \nNECK: nontender supple neck, no LAD, no JVD  \nCARDIAC: RRR, S1/S2, no murmurs, gallops, or rubs  \nLUNG: CTAB, no wheezes, rales, rhonchi, breathing comfortably \nwithout use of accessory muscles  \nABDOMEN: soft, decreased distension, not tense. NABS, nontender  \n\nEXTREMITIES: no cyanosis, clubbing or edema, moving all 4 \nextremities with purpose\nPULSES: 2+ DP pulses bilaterally  \nNEURO: CN II-XII intact, AAO3, no asterxis  \nSKIN: warm and well perfused, no excoriations or lesions, no \nrashes\n \nPertinent Results:\nADMISSION LABS\n==============\n___ 09:20PM BLOOD WBC-8.2# RBC-3.48* Hgb-12.3 Hct-36.7 \nMCV-106* MCH-35.5* MCHC-33.6 RDW-16.5* Plt ___\n___ 09:28PM BLOOD ___ PTT-31.8 ___\n___ 09:20PM BLOOD Glucose-118* UreaN-33* Creat-0.6 Na-127* \nK-5.3* Cl-97 HCO3-24 AnGap-11\n___ 09:20PM BLOOD ALT-135* AST-244* AlkPhos-123* \nTotBili-1.3\n___ 09:20PM BLOOD Albumin-3.5 Calcium-8.3* Phos-3.3 Mg-2.3\n___ 09:27PM BLOOD Lactate-2.1*\n\nNOTABLE LABS\n============\n___ 12:30AM ASCITES WBC-220* ___ Polys-17* \nLymphs-48* Monos-19* Mesothe-2* Macroph-12* Other-2*\n___ 12:30AM ASCITES TotPro-0.7 Glucose-129\n\nMICROBIOLOGY\n============\n___ 12:30 am PERITONEAL FLUID\n\n   GRAM STAIN (Final ___: \n      NO POLYMORPHONUCLEAR LEUKOCYTES SEEN. \n      NO MICROORGANISMS SEEN. \n\n   FLUID CULTURE (Final ___:    NO GROWTH. \n\n   ANAEROBIC CULTURE (Preliminary):    NO GROWTH.\n\n___ VRE screen: No VRE isolated.\n\nIMAGING/STUDIES\n===============\nCXR ___\nNo acute cardiopulmonary process.\n\nRUQUS ___\nCirrhotic, mild splenomegaly and ascites.  A solid 3cm nodule in \nthe left lobe of the liver is stable in size and appearance. \n\nDISCHARGE LABS\n==============\n___ 06:15AM BLOOD WBC-5.6 RBC-3.27* Hgb-11.6* Hct-33.5* \nMCV-103* MCH-35.5* MCHC-34.5 RDW-16.1* Plt ___\n___ 06:15AM BLOOD ___ PTT-36.0 ___\n___ 06:15AM BLOOD Glucose-87 UreaN-29* Creat-0.4 Na-123* \nK-5.4* Cl-93* HCO3-24 AnGap-11\n___ 06:15AM BLOOD ALT-112* AST-176* AlkPhos-101 \nTotBili-2.8*\n___ 06:15AM BLOOD Albumin-3.5 Calcium-8.8 Phos-3.4 Mg-2.___ w/ HIV on HAART, COPD on 3L home O2, HCV cirrhosis \ndecompensated (ascites requiring biweekly therapeutic \nparacenteses, hepatic encephalopathy; not on transplant list ___ \n \ncomorbidities) p/w worsening abd girth and pain.\n\n# Goals of care:  The patient expressed that her desire to \"let \ngo\" and be at peace. She is tired of \"fighting\" her end stage \nliver disease and does not feel that she has a good quality of \nlife. She wished to meet with a representative from hospice, \nwhich we were able to arrange, and she decided that she would \nlike to go home with hospice. A conversation was held with the \npatient regarding code status. She noted that she would probably \nbe DNR/DNI, but would like to discuss it with her son (HCP). \nTherefore, at this time, she remains full code. We also \ndiscussed the possibility of her getting a pleurex catheter \nplaced because of her repeated paracenteses. She was discharged \nto home with hospice on ___.\n\n# Decompensated HCV cirrhosis with ascites: The patient \npresented with worsening ascites. Her pain was initially managed \nwith tramadol and morphine. She underwent ___ paracentesis \non ___ with removal of 3.5L and she received albumin. Studies \non the fluid were negative, and she reported a significant \nimprovement in her pain.\n \n# Hyperkalemia: During her hospitalization, it was noted that \nshe had hyperkalemia 5.3 -> 5.9 -> 6.9 without EKG changes. \nAfter treatment with calcium gluconate 2gm x2, insulin and D50 x \n2, and kayexelate, her K downtrended to 5.4. Her K has been \npersistently elevated in the past and should continue to be \nmonitored.\n\n# Hepatic encephalopathy: The patient's mental status was A+Ox3 \non admission. She was continued on rifaximin and lactulose \nin-house and at discharge.\n\nCHRONIC ISSUES\n==============\n\n# Hyponatremia - The patient has a history of asymptomatic \nhyponatremia. It is most likely hypervolemic hyponatremia \nrelated to underlying liver disease as well as aldosterone axis \ndysfunction related to liver disease. She remained asymptomatic \nthrough her hospitalization. Because she was also started on \n10mg of furosemide to help prevent fluid re-accumulation, she \nwill require BMPs twice weekly in the outpatient setting.\n\n# HIV: Emtricitabine-Tenofovir (Truvada) and Raltegravir were \ncontinued in-house and at discharge.  \n\n# COPD: fluticasone, tiotropium and albuterol were continued \nin-house and at discharge.\n\nTRANSITIONAL ISSUES\n===================\n[ ] Follow-up peritoneal fluid culture\n[ ] New/changed medications: Furosemide 10mg daily (new)\n[ ] For hyperkalemia and hyponatremia, the patient should have \nbiweekly BMPs (script written). If K > 5.3, she should be given \nkayexelate once weekly. Lab results will be faxed/sent to Dr. \n___.\n[ ] Continue conversation regarding pleurex catheter placement \nand code status.\n[ ] She will continue to have twice weekly paracenteses\n\n# Code: full  \n# Emergency Contact: ___ ___ \n \n___ on Admission:\nThe Preadmission Medication list is accurate and complete.\n1. Calcium Carbonate 500 mg PO BID \n2. Emtricitabine-Tenofovir (Truvada) 1 TAB PO DAILY \n3. Fluticasone Propionate 110mcg 1 PUFF IH BID \n4. Lactulose 30 mL PO TID \n5. Raltegravir 400 mg PO BID \n6. Rifaximin 550 mg PO BID \n7. TraMADOL (Ultram) ___ mg PO Q6H:PRN pain \n8. albuterol sulfate 90 mcg/actuation inhalation Q6H:PRN \nWheezing \n9. Tiotropium Bromide 1 CAP IH DAILY \n\n \nDischarge Medications:\n1. albuterol sulfate 90 mcg/actuation inhalation Q6H:PRN \nWheezing \n2. Calcium Carbonate 500 mg PO BID \n3. Emtricitabine-Tenofovir (Truvada) 1 TAB PO DAILY \n4. Fluticasone Propionate 110mcg 1 PUFF IH BID \n5. Lactulose 30 mL PO TID \n6. Raltegravir 400 mg PO BID \n7. Rifaximin 550 mg PO BID \n8. Tiotropium Bromide 1 CAP IH DAILY \n9. TraMADOL (Ultram) ___ mg PO Q6H:PRN pain \n10. Furosemide 10 mg PO DAILY \nRX *furosemide 20 mg 0.5 (One half) tablet(s) by mouth Please \ntake 1 tablet daily. Disp #*15 Tablet Refills:*0\n11. Outpatient Lab Work\nPlease obtain biweekly BMP to monitor K and Na. Please fax \nresults to Dr. ___ at the ___ at ___.\n\n \nDischarge Disposition:\nHome With Service\n \nFacility:\n___\n \nDischarge Diagnosis:\nPRIMARY DIAGNOSIS\n=================\n-Decompensated HCV cirrhosis\n-Hyperkalemia\n\nSECONDARY DIAGNOSES\n===================\n-HIV\n-COPD\n-Hyponatremia\n\n \nDischarge Condition:\nMental Status: Clear and coherent.\nLevel of Consciousness: Alert and interactive.\nActivity Status: Ambulatory - Independent.\n\n \nDischarge Instructions:\nDear Ms. ___,\n\nIt was a pleasure caring for you during your stay at ___. You \nwere admitted because of worsening abdominal pain. It is likely \nthat this pain was due to increasing fluid in the abdomen from \nyour cirrhosis. After a paracentesis in which much of this fluid \nwas removed, your pain improved significantly. You were noted to \nhave a high potassium during your hospitalization, which came \ndown with treatment but this should continue to be followed as \nan outpatient. You also emphasized your desire to speak with a \nrepresentative from hospice. Because of your repeated \nparacenteses, we also discussed the possibility of a pleurex \ncatheter placement. We arranged for you to meet with hospice \ncoordinators, and you will be discharged home with hospice.\n\nWe wish you all the best!\n\nYour ___ care team\n \nFollowup Instructions:\n___\n"
        ],
        [
         "4",
         "10000084-DS-17",
         "10000084",
         "23052089",
         "DS",
         "17",
         "2160-11-25 00:00:00",
         "2160-11-25 15:09:00",
         " \nName:  ___                    Unit No:   ___\n \nAdmission Date:  ___              Discharge Date:   ___\n \nDate of Birth:  ___             Sex:   M\n \nService: MEDICINE\n \nAllergies: \nNo Known Allergies / Adverse Drug Reactions\n \nAttending: ___.\n \nChief Complaint:\nVisual hallucinations\n \nMajor Surgical or Invasive Procedure:\nN/A\n\n \nHistory of Present Illness:\n___ male with ___ disease, dyslipidemia, and a\nhistory of prostate cancer (s/p prostatectomy) who was referred\nto the ED by his neurologist for worsening gait, falls, and\nvisual hallucinations. \n\nThe following history is taken from chart review: \n\nThe patient was seen by his neurologist on ___ at which time he\nwas noted to have visual hallucinations and worsening gait\nfreezing. For his gait freezing, his mirapex was increased by\n0.125 mg every week to a goal dose of 0.75 mg t.i.d. He\nsuccessfully up-titrated the medicine to 0.75/0.625/0.625 but\nbegan to have visual hallucinations and confusion so on ___ his\nneurologist recommended decreasing the dose to 0.625 TID. \nDespite\nthe changes to his Mirapex, the patient's daughter has noted\nprogressive gait stiffness and increased difficulty standing.\nThis has resulted in difficulty with simply getting to the\nbathroom leading to episodes of incontinence. A UA performed on\n___ was reassuring. \n\nOn the day of presentation to the hospital, the patient began to\nexperience visual hallucinations of a motor cross race in his\nbackyard. He subsequently had a fall while transferring from the\ncouch to a chair. His wife was unable to get him off the floor.\nThe fall was witnessed and there was no head strike. Per the\npatient's wife, his gait has acutely worsened over the past 24\nhours to the point where he has been unable to ambulate on his\nown. The patient's daughter called his neurologist who\nrecommended presentation to the ED. \n\nIn the ED, the patient was afebrile, HRs ___, normotensive, and\nSpO2 100% RA. On exam he was noted to have cogwheeling of upper\nextremities and decrease ___ strength. Labs were remarkable for a\nnegative urine and serum tox, Na 132, K 5.8 (hemolyzed and no \nEKG\nchanges), negative troponin, normal LFTs, unremarkable CBC. \nChest\nXray showed no acute process and CTH was reassuring. He was\nevaluated by neurology who recommended admission to medicine for\nfailure to thrive, to continue the patient's home medications,\nand complete a toxo-metabolic workup. The patient was given his\nhome pramipexole and pravastatin before he was admitted.  \n\nOn arrival to the floor, the patient is comfortable in bed. He \nis\nnot accompanied by family on my interview. He knows that he is \nin\nthe hospital and that it is ___. He is not sure why he is here\nand begins to tell me about a party in his house with a motor\ncross race in his backyard. When I asked him about his fall, he\nmentions that he has not had a fall for ___ years. He denies any\nfevers, chills, cough, chest pain, abdominal pain, nausea,\ndiarrhea, or dysuria. \n\nREVIEW OF SYSTEMS:\n==================\nPer HPI, otherwise, 10-point review of systems was within normal\nlimits.\n\n \nPast Medical History:\n___ disease\n___ Body Dementia \ndyslipidemia \nprostate cancer (s/p prostatectomy)\n \nSocial History:\n___\nFamily History:\nHis mother died at age ___ of \"old age.\"\nHis father died of prostate cancer at ___.  He has an older \nsister\n(age ___ and a younger sister (age ___.  He has a younger \nbrother\n(age ___.  As noted, he has 2 daughters.  There is no family\nhistory of neurologic illness or dementia.  There is no family\nhistory of neurodevelopmental mental disorders such as learning\ndisability or ADHD.  There is no family history of psychiatric\nproblems.\n \nPhysical Exam:\nADMISSION PHYSICAL EXAM:\n========================\nVITALS: reviewed in OMR \nGENERAL: Alert and interactive. In no acute distress.\nHEENT: PERRL, EOMI. Sclera anicteric and without injection. MMM.\nNECK: No cervical lymphadenopathy. No JVD.\nCARDIAC: Regular rhythm, normal rate. Audible S1 and S2. No\nmurmurs/rubs/gallops.\nLUNGS: Clear to auscultation bilaterally. No wheezes, rhonchi or\nrales. No increased work of breathing.\nBACK: No CVA tenderness.\nABDOMEN: Normal bowels sounds, non distended, non-tender to deep\npalpation in all four quadrants. No organomegaly.\nEXTREMITIES: No clubbing, cyanosis, or edema. Pulses DP/Radial \n2+\nbilaterally.\nSKIN: Warm. Cap refill <2s. No rashes.\nNEUROLOGIC: AOx3. CN2-12 intact. cogwheel UE b/l. Increased tone\nin LEs, ___ strength b/l ___. Normal sensation.\n\nDISCHARGE PHYSICAL EXAM\n======================\n24 HR Data (last updated ___ @ 2340)\n    Temp: 97.7 (Tm 98.4), BP: 130/80 (130-153/80-90), HR: 80\n(80-104), RR: 18 (___), O2 sat: 100% (95-100), O2 delivery: Ra \n\n\nGENERAL: In no acute distress. Talking very quietly.\nCARDIAC: Regular rhythm, normal rate. Audible S1 and S2. No\nmurmurs/rubs/gallops.\nLUNGS: Clear to auscultation bilaterally. No wheezes, rhonchi or\nrales. No increased work of breathing.\nABDOMEN: Normal bowels sounds, non distended, non-tender to deep\npalpation in all four quadrants.\nEXTREMITIES: No clubbing, cyanosis, or edema. Pulses DP/Radial \n2+\nbilaterally.\nSKIN: Warm.\nNEUROLOGIC: AOx3. CN2-12 intact. cogwheel UE b/l. Increased tone\nin LEs, ___ strength b/l ___. Normal sensation.\n\n \nPertinent Results:\nADMISSION LABS:\n===============\n___ 10:30PM BLOOD WBC-8.6 RBC-4.03* Hgb-12.8* Hct-38.2* \nMCV-95 MCH-31.8 MCHC-33.5 RDW-13.0 RDWSD-45.2 Plt ___\n___ 10:30PM BLOOD Neuts-48.1 ___ Monos-15.9* \nEos-2.0 Baso-0.6 Im ___ AbsNeut-4.13 AbsLymp-2.86 \nAbsMono-1.36* AbsEos-0.17 AbsBaso-0.05\n___ 10:30PM BLOOD ___ PTT-23.4* ___\n___ 10:30PM BLOOD Glucose-100 UreaN-17 Creat-0.8 Na-132* \nK-5.8* Cl-98 HCO3-19* AnGap-15\n___ 10:30PM BLOOD ALT-18 AST-38 AlkPhos-39* TotBili-0.4\n___ 10:30PM BLOOD Lipase-47\n___ 10:30PM BLOOD cTropnT-<0.01\n___ 10:30PM BLOOD Albumin-4.0 Calcium-9.9 Phos-3.7 Mg-2.0\n___ 10:30PM BLOOD VitB12-570\n___ 10:30PM BLOOD TSH-1.4\n___ 07:00AM BLOOD Trep Ab-NEG\n___ 10:30PM BLOOD ASA-NEG Ethanol-NEG Acetmnp-NEG \nTricycl-NEG\n\nIMAGING:\n========\n___ Imaging CT HEAD W/O CONTRAST  \nFINDINGS:  \nThere is no evidence of infarction, hemorrhage, edema, or mass.  \nThere is \nprominence of the ventricles and sulci suggestive of \ninvolutional changes. \nThere is no evidence of fracture.  The visualized portion of the \nremaining \nparanasal sinuses and middle ear cavities are clear.  The \nvisualized portion of the orbits are unremarkable apart from \nbilateral lens replacements. \nIMPRESSION: \n1. No acute intracranial abnormality.  No hydrocephalus. \n\n___ Imaging CHEST (PA & LAT) \nIMPRESSION:  \nMild atelectasis in the lung bases without focal consolidation.  \n\nAge-indeterminate moderate to severe compression deformity of a \nlow thoracic vertebral body. \n\nDISCHARGE LABS:\n===============\n___ 06:21AM BLOOD WBC-7.0 RBC-4.02* Hgb-12.9* Hct-38.1* \nMCV-95 MCH-32.1* MCHC-33.9 RDW-12.8 RDWSD-44.4 Plt ___\n___ 06:21AM BLOOD Glucose-88 UreaN-10 Creat-0.7 Na-140 \nK-4.0 Cl-104 HCO3-24 AnGap-12\n___ 06:21AM BLOOD Calcium-9.5 Phos-3.2 Mg-1.___ male with ___ disease, dyslipidemia, and a\nhistory of prostate cancer (s/p prostatectomy) who was referred\nto the ED by his neurologist for worsening gait, falls, and\nvisual hallucinations concerning for progression of his\nneurologic disorder. \n\nACUTE/ACTIVE ISSUES:\n====================\n___ disease\n___ Body Dementia \n#Visual Hallucinations \nThe patient appears to have acute on chronic progression of his\n___ disease. Unclear if this is disease progression or\nunderlying medical cause. Continued mirapex, rasagiline, and \nrivastigmine. Neurology recommended started Seroquel for his \nhallucinations.\n\nHe was evaluated by physical therapy who recommended rehab. This \nrecommendation was discussed with the family who opted for \ndischarge to home with home physical therapy as this was in line \nwith the patient's goals of care.\n\nTRANSITIONAL ISSUES:\n[] f/u visual hallucination symptoms on Seroquel\n[] f/u physical therapy at home\n \nMedications on Admission:\nThe Preadmission Medication list may be inaccurate and requires \nfuther investigation.\n1. Rasagiline 1 mg PO DAILY \n2. Pramipexole 0.625 mg PO TID \n3. rivastigmine 9.5 mg/24 hr transdermal DAILY \n4. Pravastatin 40 mg PO QPM \n5. Cyanocobalamin Dose is Unknown  PO DAILY \n6. Loratadine 10 mg PO DAILY \n\n \nDischarge Medications:\n1.  QUEtiapine Fumarate 25 mg PO QHS \nRX *quetiapine 25 mg 1 tablet(s) by mouth AT NIGHT Disp #*30 \nTablet Refills:*0 \n2.  Loratadine 10 mg PO DAILY  \n3.  Pramipexole 0.625 mg PO TID  \n4.  Pravastatin 40 mg PO QPM  \n5.  Rasagiline 1 mg PO DAILY  \n6.  rivastigmine 9.5 mg/24 hr transdermal DAILY  \n\n \nDischarge Disposition:\nHome With Service\n \nFacility:\n___\n \nDischarge Diagnosis:\n___ Dementia\n \nDischarge Condition:\nMental Status: Confused - sometimes.\nLevel of Consciousness: Alert and interactive.\n\n \nDischarge Instructions:\nDear Mr. ___, \n\nIt was a privilege caring for you at ___. \n\nWHY WAS I IN THE HOSPITAL? \n- You were sent to the emergency room by your neurologist who \nwas concerned that you were having visual hallucinations.\n\nWHAT HAPPENED TO ME IN THE HOSPITAL? \n- You were started on a new medication to help treat your \nsymptoms.\n\nWHAT SHOULD I DO AFTER I LEAVE THE HOSPITAL? \n- Continue to take all your medicines and keep your \nappointments. \n\nWe wish you the best! \n\nSincerely, \nYour ___ Team \n \nFollowup Instructions:\n___\n"
        ]
       ],
       "shape": {
        "columns": 8,
        "rows": 5
       }
      },
      "text/html": [
       "<div>\n",
       "<style scoped>\n",
       "    .dataframe tbody tr th:only-of-type {\n",
       "        vertical-align: middle;\n",
       "    }\n",
       "\n",
       "    .dataframe tbody tr th {\n",
       "        vertical-align: top;\n",
       "    }\n",
       "\n",
       "    .dataframe thead th {\n",
       "        text-align: right;\n",
       "    }\n",
       "</style>\n",
       "<table border=\"1\" class=\"dataframe\">\n",
       "  <thead>\n",
       "    <tr style=\"text-align: right;\">\n",
       "      <th></th>\n",
       "      <th>note_id</th>\n",
       "      <th>subject_id</th>\n",
       "      <th>hadm_id</th>\n",
       "      <th>note_type</th>\n",
       "      <th>note_seq</th>\n",
       "      <th>charttime</th>\n",
       "      <th>storetime</th>\n",
       "      <th>text</th>\n",
       "    </tr>\n",
       "  </thead>\n",
       "  <tbody>\n",
       "    <tr>\n",
       "      <th>0</th>\n",
       "      <td>10000032-DS-21</td>\n",
       "      <td>10000032</td>\n",
       "      <td>22595853</td>\n",
       "      <td>DS</td>\n",
       "      <td>21</td>\n",
       "      <td>2180-05-07 00:00:00</td>\n",
       "      <td>2180-05-09 15:26:00</td>\n",
       "      <td>\\nName:  ___                     Unit No:   _...</td>\n",
       "    </tr>\n",
       "    <tr>\n",
       "      <th>1</th>\n",
       "      <td>10000032-DS-22</td>\n",
       "      <td>10000032</td>\n",
       "      <td>22841357</td>\n",
       "      <td>DS</td>\n",
       "      <td>22</td>\n",
       "      <td>2180-06-27 00:00:00</td>\n",
       "      <td>2180-07-01 10:15:00</td>\n",
       "      <td>\\nName:  ___                     Unit No:   _...</td>\n",
       "    </tr>\n",
       "    <tr>\n",
       "      <th>2</th>\n",
       "      <td>10000032-DS-23</td>\n",
       "      <td>10000032</td>\n",
       "      <td>29079034</td>\n",
       "      <td>DS</td>\n",
       "      <td>23</td>\n",
       "      <td>2180-07-25 00:00:00</td>\n",
       "      <td>2180-07-25 21:42:00</td>\n",
       "      <td>\\nName:  ___                     Unit No:   _...</td>\n",
       "    </tr>\n",
       "    <tr>\n",
       "      <th>3</th>\n",
       "      <td>10000032-DS-24</td>\n",
       "      <td>10000032</td>\n",
       "      <td>25742920</td>\n",
       "      <td>DS</td>\n",
       "      <td>24</td>\n",
       "      <td>2180-08-07 00:00:00</td>\n",
       "      <td>2180-08-10 05:43:00</td>\n",
       "      <td>\\nName:  ___                     Unit No:   _...</td>\n",
       "    </tr>\n",
       "    <tr>\n",
       "      <th>4</th>\n",
       "      <td>10000084-DS-17</td>\n",
       "      <td>10000084</td>\n",
       "      <td>23052089</td>\n",
       "      <td>DS</td>\n",
       "      <td>17</td>\n",
       "      <td>2160-11-25 00:00:00</td>\n",
       "      <td>2160-11-25 15:09:00</td>\n",
       "      <td>\\nName:  ___                    Unit No:   __...</td>\n",
       "    </tr>\n",
       "  </tbody>\n",
       "</table>\n",
       "</div>"
      ],
      "text/plain": [
       "          note_id  subject_id   hadm_id note_type  note_seq  \\\n",
       "0  10000032-DS-21    10000032  22595853        DS        21   \n",
       "1  10000032-DS-22    10000032  22841357        DS        22   \n",
       "2  10000032-DS-23    10000032  29079034        DS        23   \n",
       "3  10000032-DS-24    10000032  25742920        DS        24   \n",
       "4  10000084-DS-17    10000084  23052089        DS        17   \n",
       "\n",
       "             charttime            storetime  \\\n",
       "0  2180-05-07 00:00:00  2180-05-09 15:26:00   \n",
       "1  2180-06-27 00:00:00  2180-07-01 10:15:00   \n",
       "2  2180-07-25 00:00:00  2180-07-25 21:42:00   \n",
       "3  2180-08-07 00:00:00  2180-08-10 05:43:00   \n",
       "4  2160-11-25 00:00:00  2160-11-25 15:09:00   \n",
       "\n",
       "                                                text  \n",
       "0   \\nName:  ___                     Unit No:   _...  \n",
       "1   \\nName:  ___                     Unit No:   _...  \n",
       "2   \\nName:  ___                     Unit No:   _...  \n",
       "3   \\nName:  ___                     Unit No:   _...  \n",
       "4   \\nName:  ___                    Unit No:   __...  "
      ]
     },
     "execution_count": 5,
     "metadata": {},
     "output_type": "execute_result"
    }
   ],
   "source": [
    "discharge.head()"
   ]
  },
  {
   "cell_type": "code",
   "execution_count": 6,
   "id": "c94ccbd8",
   "metadata": {},
   "outputs": [
    {
     "data": {
      "application/vnd.microsoft.datawrangler.viewer.v0+json": {
       "columns": [
        {
         "name": "index",
         "rawType": "int64",
         "type": "integer"
        },
        {
         "name": "text",
         "rawType": "object",
         "type": "string"
        }
       ],
       "ref": "956f503c-e58e-48a1-a0a6-8aa8afde7094",
       "rows": [
        [
         "0",
         " \nName:  ___                     Unit No:   ___\n \nAdmission Date:  ___              Discharge Date:   ___\n \nDate of Birth:  ___             Sex:   F\n \nService: MEDICINE\n \nAllergies: \nNo Known Allergies / Adverse Drug Reactions\n \nAttending: ___\n \nChief Complaint:\nWorsening ABD distension and pain \n \nMajor Surgical or Invasive Procedure:\nParacentesis\n\n \nHistory of Present Illness:\n___ HCV cirrhosis c/b ascites, hiv on ART, h/o IVDU, COPD, \nbioplar, PTSD, presented from OSH ED with worsening abd \ndistension over past week.  \nPt reports self-discontinuing lasix and spirnolactone ___ weeks \nago, because she feels like \"they don't do anything\" and that \nshe \"doesn't want to put more chemicals in her.\" She does not \nfollow Na-restricted diets. In the past week, she notes that she \nhas been having worsening abd distension and discomfort. She \ndenies ___ edema, or SOB, or orthopnea. She denies f/c/n/v, d/c, \ndysuria. She had food poisoning a week ago from eating stale \ncake (n/v 20 min after food ingestion), which resolved the same \nday. She denies other recent illness or sick contacts. She notes \nthat she has been noticing gum bleeding while brushing her teeth \nin recent weeks. she denies easy bruising, melena, BRBPR, \nhemetesis, hemoptysis, or hematuria.  \nBecause of her abd pain, she went to OSH ED and was transferred \nto ___ for further care. Per ED report, pt has brief period of \nconfusion - she did not recall the ultrasound or bloodwork at \nosh. She denies recent drug use or alcohol use. She denies \nfeeling confused, but reports that she is forgetful at times.  \nIn the ED, initial vitals were 98.4 70 106/63 16 97%RA  \nLabs notable for ALT/AST/AP ___ ___: ___, \nTbili1.6, WBC 5K, platelet 77, INR 1.6  \n\n \nPast Medical History:\n1. HCV Cirrhosis  \n2. No history of abnormal Pap smears.  \n3. She had calcification in her breast, which was removed  \npreviously and per patient not, it was benign.  \n4. For HIV disease, she is being followed by Dr. ___ Dr.  \n___.  \n5. COPD  \n6. Past history of smoking.  \n7. She also had a skin lesion, which was biopsied and showed  \nskin cancer per patient report and is scheduled for a complete  \nremoval of the skin lesion in ___ of this year.  \n8. She also had another lesion in her forehead with purple  \ndiscoloration. It was biopsied to exclude the possibility of  \n___'s sarcoma, the results is pending.  \n9. A 15 mm hypoechoic lesion on her ultrasound on ___  \nand is being monitored by an MRI.  \n10. History of dysplasia of anus in ___.  \n11. Bipolar affective disorder, currently manic, mild, and PTSD. \n \n12. History of cocaine and heroin use.  \n\n \nSocial History:\n___\nFamily History:\nShe a total of five siblings, but she is not  \ntalking to most of them. She only has one brother that she is in \n \ntouch with and lives in ___. She is not aware of any  \nknown GI or liver disease in her family.  \nHer last alcohol consumption was one drink two months ago. No  \nregular alcohol consumption. Last drug use ___ years ago. She  \nquit smoking a couple of years ago.  \n\n \nPhysical Exam:\nVS: 98.1 107/61 78 18 97RA  \nGeneral: in NAD  \nHEENT: CTAB, anicteric sclera, OP clear  \nNeck: supple, no LAD  \nCV: RRR,S1S2, no m/r/g  \nLungs: CTAb, prolonged expiratory phase, no w/r/r  \nAbdomen: distended, mild diffuse tenderness, +flank dullness, \ncannot percuss liver/spleen edge ___ distension  \nGU: no foley  \nExt: wwp, no c/e/e, + clubbing  \nNeuro: AAO3, converse normally, able to recall 3 times after 5 \nminutes, CN II-XII intact  \n\nDischarge:\n\nPHYSICAL EXAMINATION:  \nVS: 98 105/70 95\nGeneral: in NAD  \nHEENT: anicteric sclera, OP clear  \nNeck: supple, no LAD  \nCV: RRR,S1S2, no m/r/g  \nLungs: CTAb, prolonged expiratory phase, no w/r/r  \nAbdomen: distended but improved, TTP in RUQ, \nGU: no foley  \nExt: wwp, no c/e/e, + clubbing  \nNeuro: AAO3,  CN II-XII intact  \n\n \nPertinent Results:\n___ 10:25PM   GLUCOSE-109* UREA N-25* CREAT-0.3* SODIUM-138 \nPOTASSIUM-3.4 CHLORIDE-105 TOTAL CO2-27 ANION GAP-9\n___ 10:25PM   estGFR-Using this\n___ 10:25PM   ALT(SGPT)-100* AST(SGOT)-114* ALK PHOS-114* \nTOT BILI-1.6*\n___ 10:25PM   LIPASE-77*\n___ 10:25PM   ALBUMIN-3.3*\n___ 10:25PM   WBC-5.0# RBC-4.29 HGB-14.3 HCT-42.6 MCV-99* \nMCH-33.3* MCHC-33.5 RDW-15.7*\n___ 10:25PM   NEUTS-70.3* LYMPHS-16.5* MONOS-8.1 EOS-4.2* \nBASOS-0.8\n___ 10:25PM   PLT COUNT-71*\n___ 10:25PM   ___ PTT-30.9 ___\n___ 10:25PM   ___\n.\n\nCXR: No acute cardiopulmonary process.  \nU/S:  \n1. Nodular appearance of the liver compatible with cirrhosis. \nSigns of portal  \nhypertension including small amount of ascites and splenomegaly. \n \n2. Cholelithiasis.  \n3. Patent portal veins with normal hepatopetal flow.  \nDiagnostic para attempted in the ED, unsuccessful.  \nOn the floor, pt c/o abd distension and discomfort.\n \nBrief Hospital Course:\n___ HCV cirrhosis c/b ascites, hiv on ART, h/o IVDU, COPD, \nbioplar, PTSD, presented from OSH ED with worsening abd \ndistension over past week and confusion.  \n\n# Ascites - p/w worsening abd distension and discomfort for last \nweek. likely ___ portal HTN given underlying liver disease, \nthough no ascitic fluid available on night of admission. No \nsigns of heart failure noted on exam. This was ___ to med \nnon-compliance and lack of diet restriction. SBP negative\ndiuretics:  \n> Furosemide 40 mg PO DAILY  \n> Spironolactone 50 mg PO DAILY, chosen over the usual 100mg \ndose d/t K+ of 4.5.   \n CXR was wnl, UA negative, Urine culture blood culture negative. \n \nPt was losing excess fluid appropriately with stable lytes on \nthe above regimen. Pt was scheduled with current PCP for \n___ check upon discharge.   \nPt was scheduled for new PCP with Dr. ___ at ___ and \nfollow up in Liver clinic to schedule outpatient screening EGD \nand ___.   \n \n\n \nMedications on Admission:\nThe Preadmission Medication list is accurate and complete.\n1. Furosemide 20 mg PO DAILY \n2. Spironolactone 50 mg PO DAILY \n3. Albuterol Inhaler 2 PUFF IH Q4H:PRN wheezing, SOB \n4. Raltegravir 400 mg PO BID \n5. Emtricitabine-Tenofovir (Truvada) 1 TAB PO DAILY \n6. Nicotine Patch 14 mg TD DAILY \n7. Ipratropium Bromide Neb 1 NEB IH Q6H SOB \n\n \nDischarge Medications:\n1. Albuterol Inhaler 2 PUFF IH Q4H:PRN wheezing, SOB \n2. Emtricitabine-Tenofovir (Truvada) 1 TAB PO DAILY \n3. Furosemide 40 mg PO DAILY \nRX *furosemide 40 mg 1 tablet(s) by mouth Daily Disp #*30 Tablet \nRefills:*3\n4. Ipratropium Bromide Neb 1 NEB IH Q6H SOB \n5. Nicotine Patch 14 mg TD DAILY \n6. Raltegravir 400 mg PO BID \n7. Spironolactone 50 mg PO DAILY \n8. Acetaminophen 500 mg PO Q6H:PRN pain \n\n \nDischarge Disposition:\nHome\n \nDischarge Diagnosis:\nAscites from Portal HTN\n\n \nDischarge Condition:\nMental Status: Clear and coherent.\nLevel of Consciousness: Alert and interactive.\nActivity Status: Ambulatory - Independent.\n\n \nDischarge Instructions:\nDear Ms. ___,\nIt was a pleasure taking care of you! You came to us with \nstomach pain and worsening distension. While you were here we \ndid a paracentesis to remove 1.5L of fluid from your belly. We \nalso placed you on you 40 mg of Lasix and 50 mg of Aldactone to \nhelp you urinate the excess fluid still in your belly. As we \ndiscussed, everyone has a different dose of lasix required to \nmake them urinate and it's likely that you weren't taking a high \nenough dose. Please take these medications daily to keep excess \nfluid off and eat a low salt diet. You will follow up with Dr. \n___ in liver clinic and from there have your colonoscopy \nand EGD scheduled. Of course, we are always here if you need us. \nWe wish you all the best!\nYour ___ Team.  \n \nFollowup Instructions:\n___\n"
        ],
        [
         "1",
         " \nName:  ___                     Unit No:   ___\n \nAdmission Date:  ___              Discharge Date:   ___\n \nDate of Birth:  ___             Sex:   F\n \nService: MEDICINE\n \nAllergies: \nPercocet\n \nAttending: ___.\n \nChief Complaint:\nabdominal fullness and discomfort\n \nMajor Surgical or Invasive Procedure:\n___ diagnostic paracentesis\n___ therapeutic paracentesis\n\n \nHistory of Present Illness:\n___ with HIV on HAART, COPD, HCV cirrhosis complicated by \nascites and HE admitted with abdominal distention and pain. She \nwas admitted to ___ for the same symptoms \nrecently and had 3L fluid removed (no SBP) three days ago and \nfelt better. Since discharge, her abdomen has become \nincreasingly distended with pain. This feels similar to prior \nepisodes of ascites.  \nHer diuretics were recently decreased on ___ due to worsening \nhyponatremia 128 and hyperkalemia 5.1. Patient states she has \nbeen compliant with her HIV and diuretic medications but never \nfilled out the lactulose prescription. She states she has had \n___ BMs daily at home. She has had some visual hallucinations \nand forgetfulness. Her appetite has been poor.  \nIn the ED, initial vitals were 98.9 88 116/88 18 97% RA. CBC \nnear baseline, INR 1.4, Na 125, Cr 0.6. AST and ALT mildly above \nbaseline 182 and 126 and albumin 2.8. Diagnostic para with 225 \nWBC, 7% PMN, total protein 0.3. UA with few bact, 6 WBC, mod \nleuk, neg nitr, but contaminated with 6 epi. CXR clear. RUQ US \nwith no PV thrombus, moderate ascites. She was given ondansetron \n4mg IV and morphine 2.5mg IV x1 in the ED.  \nOn the floor, she is feeling improved but still has abdominal \ndistention and discomfort.  \nROS: +Abdominal distention and pain. No black/bloody stools. No \n___ pain or swelling. No fevers or chills. Denies chest pain, \nnausea, vomiting. No dysuria or frequency. \n \nPast Medical History:\n1. HCV Cirrhosis  \n2. No history of abnormal Pap smears.  \n3. She had calcification in her breast, which was removed  \npreviously and per patient not, it was benign.  \n4. For HIV disease, she is being followed by Dr. ___ Dr.  \n___.  \n5. COPD  \n6. Past history of smoking.  \n7. She also had a skin lesion, which was biopsied and showed  \nskin cancer per patient report and is scheduled for a complete  \nremoval of the skin lesion in ___ of this year.  \n8. She also had another lesion in her forehead with purple  \ndiscoloration. It was biopsied to exclude the possibility of  \n___'s sarcoma, the results is pending.  \n9. A 15 mm hypoechoic lesion on her ultrasound on ___  \nand is being monitored by an MRI.  \n10. History of dysplasia of anus in ___.  \n11. Bipolar affective disorder, currently manic, mild, and PTSD. \n \n12. History of cocaine and heroin use.  \n\n \nSocial History:\n___\nFamily History:\nShe a total of five siblings, but she is not  talking to most of \nthem. She only has one brother that she is in  touch with and \nlives in ___. She is not aware of any known GI or liver \ndisease in her family.  \n \nPhysical Exam:\nADMISSION PHYSICAL EXAM:  \nVS: T98.1 105/57 79 20 97RA 44.6kg  \nGENERAL: Thin chronically ill appearing woman in no acute \ndistress  \nHEENT: Sclera anicteric, MMM, no oral lesions  \nHEART: RRR, normal S1 S2, no murmurs  \nLUNGS: Clear, no wheezes, rales, or rhonchi  \nABD: Significant distention with visible veins, bulging flanks, \nnontender to palpation, tympanitic on percussion, normal bowel \nsounds  \nEXT: no ___ edema, 2+ DP and ___ pulses  \nNEURO: alert and oriented, not confused, no asterixis\n\nDISCHARGE PE:\nVS: T 98.4 BP 95/55 (SBP ___ HR 80 RR 18 O2 95RA  \nI/O 240/150 this am  \nGENERAL: Thin chronically ill appearing woman in no acute \ndistress  \nHEENT: Sclera anicteric, MMM, no oral lesions  \nHEART: RRR, normal S1 S2, no murmurs  \nLUNGS: Clear, no wheezes, rales, or rhonchi  \nABD: Significant distention with visible veins, bulging flanks, \nnontender to palpation, tympanitic on percussion, normal bowel \nsounds  \nEXT: no ___ edema, 2+ DP and ___ pulses  \nNEURO: alert and oriented, not confused, no asterixis\n \nPertinent Results:\nLABS ON ADMISSION:\n___ 04:10PM BLOOD ___ \n___ Plt ___\n___ 04:10PM BLOOD ___ \n___\n___ 04:10PM BLOOD ___ \n___\n___ 04:10PM BLOOD ___ \n___\n___ 04:10PM BLOOD ___\n___ 04:39PM BLOOD ___\n\nLABS ON DISCHARGE:\n___ 05:10AM BLOOD ___ \n___ Plt ___\n___ 05:10AM BLOOD ___ ___\n___ 05:10AM BLOOD ___ \n___\n___ 05:10AM BLOOD ___ \n___\n___ 05:10AM BLOOD ___\n\nMICRO:\n___ 10:39 pm URINE      Source: ___. \n\n                            **FINAL REPORT ___\n\n   URINE CULTURE (Final ___: \n      MIXED BACTERIAL FLORA ( >= 3 COLONY TYPES), CONSISTENT \nWITH SKIN\n      AND/OR GENITAL CONTAMINATION. \n\n___ 7:00 pm PERITONEAL FLUID      PERITONEAL FLUID. \n\n   GRAM STAIN (Final ___: \n      1+    (<1 per 1000X FIELD):   POLYMORPHONUCLEAR \nLEUKOCYTES. \n      NO MICROORGANISMS SEEN. \n      This is a concentrated smear made by cytospin method, \nplease refer to\n      hematology for a quantitative white blood cell count.. \n\n   FLUID CULTURE (Final ___:    NO GROWTH. \n\n   ANAEROBIC CULTURE (Preliminary):    NO GROWTH.\n\n___ 7:00 pm PERITONEAL FLUID      PERITONEAL FLUID. \n\n   GRAM STAIN (Final ___: \n      1+    (<1 per 1000X FIELD):   POLYMORPHONUCLEAR \nLEUKOCYTES. \n      NO MICROORGANISMS SEEN. \n      This is a concentrated smear made by cytospin method, \nplease refer to\n      hematology for a quantitative white blood cell count.. \n\n   FLUID CULTURE (Final ___:    NO GROWTH. \n\n   ANAEROBIC CULTURE (Preliminary):    NO GROWTH. \n\nDiagnositc Para:\n___ 07:00PM ASCITES ___ \n___\n___ 07:00PM ASCITES ___\n\nIMAGING:\n___ CXR- No acute cardiopulmonary abnormality.  \n___ RUQ US-  \n1. Extremely coarse and nodular liver echotexture consistent \nwith a history of cirrhosis.  \n2. Moderate ascites.  \n3. Patent portal vein.\n \nBrief Hospital Course:\n___ with HIV on HAART, HCV cirrhosis with ascites and HE, h/o \nIVDU, COPD, bipolar disorder presents with abdominal discomfort \ndue to ___ ascites.  \n \n# ASCITES. Now diuretic refractory given last tap was three days \nago with 3L removed and she has already built up moderate \nascites. Infectious workup negative, with CXR clear, UA \ncontaminated but not grossly positive so will f/u culture, \ndiagnostic para with only 225 WBC, RUQ US with no PV thrombus. \nCompliant with diuretics but not following low sodium diet or \nfluid restriction. Dr. ___ discussed possible TIPS in \nthe office but due to lung disease, that was on hold pending \nfurther cardiac evaluation. Diuretics were recently decreased \ndue to hyponatremia and hyperkalemia. Held spironolactone for \nnow due to K 5.2 and increased lasix 20 -> 40. No evidence of \nsevere hyponatremia (Na<120) or renal failure Cr>2.0 to stop \ndiuretics at present. Diagnostic paracentesis negative for \ninfection. Ascitic total protein 0.3 so warrants SBP prophylaxis \n(<1.0) and fortunately already on Bactrim for PCP prophylaxis \nwhich would be appropriate for SBP ppx also. Patient did admit \nto eating pizza and some ___ food prior to \nadmission. She had therapeutic paracentesis with 4.3L removed \nand received 37.5G albumin IV post procedure. She felt much \nbetter with resolution of abdominal discomfort. Patient is \nscheduled for repeat paracentesis as outpatient on ___.  \n\n# HEPATIC ENCEPHALOPATHY. History of HE from Hep C cirrhosis. \nNow with mild encephalopathy (hallucinations and forgetfulness) \ndue to medication noncompliance, but not acutely encephalopathic \nand without asterixis on exam. Infectious workup negative thus \nfar. Continue lactulose 30mL TID and titrate to 3 BMs daily and \ncontinue rifaximin 550mg BID. \n \n# HYPONATREMIA. Na 125 on admission, 128 four days ago, and 135 \none month ago. Likely due to third spacing from worsening \nascites and fluid overload. 1.5L fluid restriction, low salt \ndiet. S/p therapeutic paracentesis with albumin replacement.\n\n# CIRRHOSIS, HEPATITIS C. MELD score of 10 and Child's ___ \nclass B on this admission. Now decompensated due to ascites. \nHepatitis C genotype IIIB. Dr. ___ starting \n___ and ___ with patient in clinic and the \ninsurance process was started by her office. No history of EGD, \nneeds this as outpatient for varices screening.  \n \n# NUTRITION. Unclear if truly compliant with low salt diet. Poor \noral intake. Low albumin 2.8 on admission. Met with nutrition. \n \n# COAGULOPATHY. INR 1.4 four days ago. No evidence of active \nbleeding. Very mild thrombocytopenia with plts 143.  \n \n# HIV. Most recent CD4 173. On HAART. No established ID \nprovider. Continue Truvada and Isentress, Bactrim DS daily for \nPCP ___. Needs outpatient ID appointment  \n\n# COPD. Stable. States she is on intermittent home O2 for \ncomfort at night and with abdominal distentiom. Continued home \nCOPD meds and home O2 as needed \n\n**Transitional Issues**\n- Discontinued spironolactone ___ elevated potassium\n- Increased furosemide to 40mg daily\n- Please recheck electrolytes at next visit\n- Had paracentesis ___ with 4.3 L removed, received 37.5G \nalbumin\n- Needs outpatient ID provider\n- ___ needs more frequent paracentesis\n \nMedications on Admission:\nThe Preadmission Medication list is accurate and complete.\n1. Albuterol Inhaler 2 PUFF IH Q6H:PRN wheezing, SOB \n2. ___ (Truvada) 1 TAB PO DAILY \n3. Furosemide 20 mg PO DAILY \n4. Raltegravir 400 mg PO BID \n5. Spironolactone 50 mg PO DAILY \n6. Acetaminophen 500 mg PO Q6H:PRN pain,fever \n7. Tiotropium Bromide 1 CAP IH DAILY \n8. Rifaximin 550 mg PO BID \n9. Calcium Carbonate 1250 mg PO BID \n10. Lactulose 15 mL PO TID \n11. Sulfameth/Trimethoprim DS 1 TAB PO DAILY \n\n \nDischarge Medications:\n1. Acetaminophen 500 mg PO Q6H:PRN pain,fever \n2. Albuterol Inhaler 2 PUFF IH Q6H:PRN wheezing, SOB \n3. Calcium Carbonate 1250 mg PO BID \n4. ___ (Truvada) 1 TAB PO DAILY \n5. Furosemide 40 mg PO DAILY \n6. Lactulose 15 mL PO TID \n7. Raltegravir 400 mg PO BID \n8. Rifaximin 550 mg PO BID \n9. Sulfameth/Trimethoprim DS 1 TAB PO DAILY \n10. Tiotropium Bromide 1 CAP IH DAILY \n\n \nDischarge Disposition:\nHome\n \nDischarge Diagnosis:\nPrimary:  diuretic refractory ascites\nSecondary: HCV cirrhosis, HIV, hyponatremia, COPD\n\n \nDischarge Condition:\nMental Status: Clear and coherent.\nLevel of Consciousness: Alert and interactive.\nActivity Status: Ambulatory - Independent.\n\n \nDischarge Instructions:\nDear ___,\n\n___ was a pleasure to take care of you at ___ \n___. You were admitted with abdominal fullness and \npain from your ascites. You had a diagnostic and therapeutic \nparacentesis with 4.3 L removed. Your spironolactone was \ndiscontinued because your potassium was high. Your lasix was \nincreased to 40mg daily. You are scheduled for another \nparacentesis on ___ prior to your other appointments that day. \nPlease call tomorrow to find out the time of the paracentesis. \nPlease continue to follow a low sodium diet and fluid \nrestriction. You should call your liver doctor or return to the \nemergency room if you have abdominal pain, fever, chills, \nconfusion, or other concerning symptoms.\n\nSincerely,\nYour ___ medical team\n \nFollowup Instructions:\n___\n"
        ],
        [
         "2",
         " \nName:  ___                     Unit No:   ___\n \nAdmission Date:  ___              Discharge Date:   ___\n \nDate of Birth:  ___             Sex:   F\n \nService: MEDICINE\n \nAllergies: \nPercocet / Vicodin\n \nAttending: ___\n \nChief Complaint:\naltered mental status\n \nMajor Surgical or Invasive Procedure:\nnone\n \nHistory of Present Illness:\nMrs. ___ is a ___ female with HIV on HAART, COPD, HCV \ncirrhosis complicated by ascites and hepatic encephalopathy who \ninitially presented to the ED yesterday with hypotension after a \nparacentesis.  \nThe patient has had accelerated decompensation of her cirrhosis \nrecently with worsening ascites, and she is maintained on twice \nweekly paracentesis. She was at her regular session yesterday \nwhen she had hypotension to SBP ___ and felt lightheadedness. \nPer the patient, that's when her memory started to get fuzzy. \nShe does not have much recollection of what happened since then. \nHer outpatient hepatologist saw her and recommended that she go \nto the ED. In the ED, she was evaluated and deemed to have \nstable blood pressure. She was discharged home. At home, she had \nworsening mental status with her daughter getting concerned, and \nshe returned to the ED.  \nIn the ED, initial vitals were 98.7 77 96/50 16 98% RA. The \npatient was only oriented to person. Her labs were notable for \nNa 126, K 6.7, Cr 0.7 (baseline 0.4), ALT 153, AST 275, TBili \n1.9, Lip 66, INR 1.5. Initial EKG showed sinus rhythm with \npeaked T waves. Her head CT was negative for any acute \nprocesses. She received ceftriaxone 2gm x1, regular insulin 10U, \ncalcium gluconate 1g, lactulose 30 mL x2, and 25g 5% albumin.  \nOn transfer, vitals were 99.0 93 84/40 16 95% NC. On arrival to \nthe MICU, patient was more alert and conversant. She has no \nabdominal pain, nausea, vomiting, chest pain, or difficulty \nbreathing. She has a chronic cough that is not much changed. She \nhas not had any fever or chills. She reports taking all of her \nmedications except for lactulose, which she thinks taste \ndisgusting.  \n \nPast Medical History:\n- HCV Cirrhosis: genotype 3a  \n- HIV: on HAART, ___ CD4 count 173, ___ HIV viral load \nundetectable  \n- COPD: ___ PFT showed FVC 1.95 (65%), FEV1 0.88 (37%), \nFEFmax 2.00 (33%)  \n- Bipolar Affective Disorder  \n- PTSD  \n- Hx of cocaine and heroin abuse  \n- Hx of skin cancer per patient report  \n \nSocial History:\n___\nFamily History:\nShe a total of five siblings, but she is not  talking to most of \nthem. She only has one brother that she is in  touch with and \nlives in ___. She is not aware of any known GI or liver \ndisease in her family.  \n \nPhysical Exam:\nADMISSION PHYSICAL EXAM:\nVitals T: 98.7 BP: 84/48 P: 91 R: 24 O2: 98% NC on 2L  \nGENERAL: Alert, oriented, no acute distress  \nLUNGS: Decreased air movement on both sides, scattered \nexpiratory wheezes  \nCV: Regular rate and rhythm, normal S1 S2, no murmurs, rubs, \ngallops  \nABD: Soft, non-tender, distended, flank dullness bilaterally, \nbowel sounds present  \nEXT: Warm, well perfused, 2+ pulses, no cyanosis or edema  \n\nDISCHARGE PHYSICAL EXAM:\nVitals- Tm 99.5, Tc 98.7, ___ 79-96/43-58 20 95% on 3L NC, \n7BM.  \nGeneral- Cachectic-appearing woman, alert, oriented, no acute \ndistress  \nHEENT- Sclera anicteric, MMM, oropharynx clear, poor dentition \nwith partial dentures  \nNeck- supple, JVP not elevated, no LAD  \nLungs- Clear to auscultation bilaterally, no wheezes, rales, \nronchi  \nCV- Regular rate and rhythm, normal S1 + S2, no murmurs, rubs, \ngallops  \nAbdomen- Mildly distended and firm, non-tender, bowel sounds \npresent, no rebound tenderness or guarding  \nGU- no foley  \nExt- warm, well perfused, 2+ pulses, no clubbing, cyanosis or \nedema  \nNeuro- AOx3, No asterixis.  \n \nPertinent Results:\nADMISSION LABS:\n=================\n___ 06:39AM BLOOD WBC-6.9 RBC-3.98* Hgb-14.1 Hct-41.1 \nMCV-103* MCH-35.4* MCHC-34.3 RDW-15.8* Plt ___\n___ 06:39AM BLOOD Neuts-72.7* Lymphs-14.7* Monos-9.8 \nEos-2.5 Baso-0.3\n___ 06:39AM BLOOD ___ PTT-32.4 ___\n___ 06:39AM BLOOD Glucose-102* UreaN-49* Creat-0.7 Na-126* \nK-6.7* Cl-95* HCO3-25 AnGap-13\n___ 06:39AM BLOOD ALT-153* AST-275* AlkPhos-114* \nTotBili-1.9*\n___ 06:39AM BLOOD Albumin-3.6\n\nIMAGING/STUDIES:\n================\n___ CT HEAD:\nNo evidence of acute intracranial process.\nThe left zygomatic arch deformity is probably chronic as there \nis no\nassociated soft tissue swelling.\n\n___ CXR:\nNo acute intrathoracic process.\n\nDISCHARGE LABS:\n===============\n___ 04:45AM BLOOD WBC-4.8 RBC-3.15* Hgb-11.2* Hct-32.1* \nMCV-102* MCH-35.4* MCHC-34.8 RDW-15.8* Plt Ct-95*\n___ 04:45AM BLOOD ___ PTT-37.6* ___\n___ 04:45AM BLOOD Glucose-121* UreaN-35* Creat-0.4 Na-130* \nK-5.2* Cl-97 HCO3-27 AnGap-11\n___ 04:45AM BLOOD ALT-96* AST-168* AlkPhos-69 TotBili-1.7*\n___ 04:45AM BLOOD Calcium-8.6 Phos-2.4* Mg-2.___ w/ HIV on HAART, COPD on 3L home O2, HCV cirrhosis \ndecompensated (ascites requiring biweekly therapeutic \nparacenteses, hepatic encephalopathy; not on transplant list ___ \ncomorbidities) w/ AMS, hypotension, ___, and hyperkalemia. \nAltered mental status improved with lactulose. Hypotension was \nfelt to be due to fluid shifts from paracentesis on the day \nprior to admission as well as low PO intake in the setting of \nAMS. Hypotension and ___ resolved with IV albumin. Hyperkalemia \nresolved with insulin and kayexalate.\n\n# Hypotension: Patient presented with SBP in ___ and improved \nwith albumin in the ED to ___. It was felt to be due to \nfluid shifts from paracentesis on ___, as well as likely \nhypovolemia given AMS and decreased PO intake. No concern for \nbleeding or sepsis with baseline CBC and lack of fever. She \ncontinued to received IV albumin during her hospital course, \nwith which her SBP improved to ___ and patient remained \nasymptomatic.  \n\n# Hyperkalemia: Patient presented with K 6.7 with EKG changes. \nGiven low Na, likely the result of low effective arterial volume \nleading to poor K excretion, with likely exacerbation from ___. \nAM cortisol was normal. K improved with insulin and kayexalate \nand K was 5.2 on day of discharge. Bactrim was held during \nhospital course. \n\n# ___: Patient presented with Cr 0.7 from baseline Cr is \n0.3-0.4. It was felt to be likely due to volume shift from her \nparacentesis on the day prior to admission as well as now low \neffective arterial volume, likely ___ poor PO intake ___ AMS. Cr \nimproved to 0.4 with albumin administration. Furosemide and \nBactrim were held during hospital course.   \n\n#GOC: The ___ son (HCP) met with Dr. ___ \noutpatient hepatologist) during ___ hospital course. They \ndiscussed that the patient is not a transplant candidate \ngivenevere underlying lung disease (FEV1 ~0.8), hypoxia, RV \ndilation and very low BMI. A more conservative approach was \nrecommended and the patient was transitioned to DNR/DNI. The \npatient agreed with this plan. She was treated with the goal of \ntreating any any correctable issues. Social work met with the \npatient prior to discharge. The patient was interested in \nfollowing up with palliative care, for which an outpatient \nreferral was made. \n \n# Altered Mental Status: Patient presented with confusion that \nwas most likely secondary to hepatic encephalopathy. Based on \noutpatient records, patient has had steady decline in \ndecompensated cirrhosis and mental status. No signs of infection \nand head CT was negative as well. Mental status improved with \nlactulose in the ED and patient reports that she has not been \ntaking lactulose regularly at home. Patient was also continued \non rifaximin.   \n\n# HCV Cirrhosis: Genotype 3a. Patient is decompensated with \nincreasing ascites and worsening hepatic encephalopathy. She is \ndependent on twice weekly paracentesis. Spironolactone was \nrecently stopped due to hyperkalemia. Patient is not a \ntransplant candidate given her comorbidities COPD per outpatient \nhepatologist. The patient would like to continue biweekly \nparacenteses as an outpatient.\n\n# HIV: Most recent CD4 count 173 on ___. HIV viral load on \n___ was undetectable. She was continued on her home regimen \nof raltegravir, emtricitabine, and tenofovir. Bactrim \nprophylaxis was held during admission because of hyperkalemia.   \n\n\n# COPD: Patient on 3L NC at home. She was continued on her home \nregimen.\n\nTRANSITIONAL ISSUES:\n-Follow up with Palliative Care as outpatient\n-Bactrim prophylaxis (HIV+) was held during hospital course due \nto ___. Consider restarting as outpatient.\n-Furosemide was held due to ___, consider restarting as \noutpatient\n-Follow up with hepatology\n-Continue biweekly therapeurtic paracenteses\n-Code status: DNR/DNI\n \nMedications on Admission:\nThe Preadmission Medication list is accurate and complete.\n1. Lactulose 15 mL PO TID \n2. Tiotropium Bromide 1 CAP IH DAILY \n3. Raltegravir 400 mg PO BID \n4. Emtricitabine-Tenofovir (Truvada) 1 TAB PO DAILY \n5. Furosemide 40 mg PO DAILY \n6. TraMADOL (Ultram) 50 mg PO Q8H:PRN Pain \n7. Fluticasone Propionate 110mcg 1 PUFF IH BID \n8. Calcium Carbonate 500 mg PO BID \n9. Rifaximin 550 mg PO BID \n10. albuterol sulfate 90 mcg/actuation inhalation Q6H:PRN \nWheezing \n11. Sulfameth/Trimethoprim DS 1 TAB PO DAILY \n\n \nDischarge Medications:\n1. Calcium Carbonate 500 mg PO BID \n2. Emtricitabine-Tenofovir (Truvada) 1 TAB PO DAILY \n3. Fluticasone Propionate 110mcg 1 PUFF IH BID \n4. Lactulose 30 mL PO TID \n5. Raltegravir 400 mg PO BID \n6. Rifaximin 550 mg PO BID \n7. TraMADOL (Ultram) ___ mg PO Q6H:PRN pain \n8. albuterol sulfate 90 mcg/actuation inhalation Q6H:PRN \nWheezing \n9. Tiotropium Bromide 1 CAP IH DAILY \n\n \nDischarge Disposition:\nHome\n \nDischarge Diagnosis:\nPrimary:\nHypotension\nHyperkalemia\nAcute Kidney Injury\n\nSecondary:\nHIV\nCirrhosis\nCOPD\n \nDischarge Condition:\nMental Status: Clear and coherent.\nLevel of Consciousness: Alert and interactive.\nActivity Status: Ambulatory - Independent.\n \nDischarge Instructions:\nDear Ms. ___,\n\nYou were admitted to ___ because of confusion, low blood \npressure, and a high potassium value. Your confusion improved \nwith lactulose. Your blood pressure improved with extra fluids \nand your potassium improved as well. You also had small degree \nof kidney injury when you came to the hospital, and this also \nimproved with fluids. While you were here, you discussed \nchanging your goals of care to focusing on symptom management \nand treatment of reversible processes, such as an infection. \nWhile you were in the hospital, you were seen by one of our \nsocial workers. You will also follow up with Palliative Care in \ntheir clinic and will continue to have therapeutic paracenteses.\n\nIt has been a pleasure taking care of you and we wish you all \nthe best,\nYour ___ Care team\n \nFollowup Instructions:\n___\n"
        ],
        [
         "3",
         " \nName:  ___                     Unit No:   ___\n \nAdmission Date:  ___              Discharge Date:   ___\n \nDate of Birth:  ___             Sex:   F\n \nService: MEDICINE\n \nAllergies: \nPercocet / Vicodin\n \nAttending: ___.\n \nChief Complaint:\nAbdominal pain\n \nMajor Surgical or Invasive Procedure:\n___ Paracentesis\n\n \nHistory of Present Illness:\n___ w/ HIV on HAART, COPD on 3L home O2 (though sat'ing fine on \nRA on admission), HCV cirrhosis c/b ascites requiring biweekly \ntherapeutic paracenteses, hepatic encephalopathy; not on \ntransplant list ___ comorbidities) p/w worsening girth and abd \npain. She'd been having pain from her ascites, and felt overdue \nfor a paracentesis. She last had paracentesis on the ___. \nShe reported that she began feeling worsening abdominal pain \n(constant, epigastric and radiates to back, not a/w food) on \n___, which increased in severity throughout the course of the \nday. She was brought to the ED by her son because of this pain. \nShe had no confusion and was alert and oriented x3. The patient \nalso reported she recently ran out of most of her home \nmedications. She denied any fever, chills, shortness of breath, \ncough, dysuria. She reported loose stool a bit more than usual, \nbut attributed it to lactulose use. In the ED, vitals were: 99.4 \n105 106/57 18 96% ra. Labs were significant for Na 127 K 5.3 \nlactate 2.1 INR 1.7. ALT 135 AST 244 AP 123. no leukocytosis. \nAscitic fluid showed 220 WBC. She was given Morphine Sulfate 5 \nmg IV ONCE MR1, and a GI cocktail.\n \nPast Medical History:\n- HCV Cirrhosis: genotype 3a  \n- HIV: on HAART, ___ CD4 count 173, ___ HIV viral load \nundetectable  \n- COPD: ___ PFT showed FVC 1.95 (65%), FEV1 0.88 (37%), \nFEFmax 2.00 (33%)  \n- Bipolar Affective Disorder  \n- PTSD  \n- Hx of cocaine and heroin abuse  \n- Hx of skin cancer per patient report  \n \nSocial History:\n___\nFamily History:\nShe a total of five siblings, but she is not  talking to most of \nthem. She only has one brother that she is in touch with and \nlives in ___. She is not aware of any known GI or liver \ndisease in her family.  \n \nPhysical Exam:\nADMISSION PHYSICAL EXAM\n=======================\nVitals - T 97, BP 98/65, HR 103, RR 18, O2 94RA, Glucose 128.  \nGENERAL: NAD, lying on her right side.\nHEENT: AT/NC, EOMI, PERRL, anicteric sclera, pink conjunctiva, \nMMM, good dentition  \nNECK: nontender supple neck, no LAD, no JVD  \nCARDIAC: RRR, S1/S2, no murmurs, gallops, or rubs  \nLUNG: CTAB, no wheezes, rales, rhonchi, breathing comfortably \nwithout use of accessory muscles  \nABDOMEN: distended, + fluid wave, not tense. NABS, nontender  \nEXTREMITIES: no cyanosis, clubbing or edema, moving all 4 \nextremities with purpose\nPULSES: 2+ DP pulses bilaterally  \nNEURO: CN II-XII intact, AAO3, no asterxis  \nSKIN: warm and well perfused, no excoriations or lesions, no \nrashes\n\nDISCHARGE PHYSICAL EXAM\n=======================\nVitals - Tm 98.6, Tc 98.2, BP 82-98/42-68, HR 80-95, RR ___, \nO2 91-99% RA.\nGENERAL: NAD, lying on her right side.\nHEENT: AT/NC, EOMI, PERRL, anicteric sclera, pink conjunctiva, \nMMM, good dentition  \nNECK: nontender supple neck, no LAD, no JVD  \nCARDIAC: RRR, S1/S2, no murmurs, gallops, or rubs  \nLUNG: CTAB, no wheezes, rales, rhonchi, breathing comfortably \nwithout use of accessory muscles  \nABDOMEN: soft, decreased distension, not tense. NABS, nontender  \n\nEXTREMITIES: no cyanosis, clubbing or edema, moving all 4 \nextremities with purpose\nPULSES: 2+ DP pulses bilaterally  \nNEURO: CN II-XII intact, AAO3, no asterxis  \nSKIN: warm and well perfused, no excoriations or lesions, no \nrashes\n \nPertinent Results:\nADMISSION LABS\n==============\n___ 09:20PM BLOOD WBC-8.2# RBC-3.48* Hgb-12.3 Hct-36.7 \nMCV-106* MCH-35.5* MCHC-33.6 RDW-16.5* Plt ___\n___ 09:28PM BLOOD ___ PTT-31.8 ___\n___ 09:20PM BLOOD Glucose-118* UreaN-33* Creat-0.6 Na-127* \nK-5.3* Cl-97 HCO3-24 AnGap-11\n___ 09:20PM BLOOD ALT-135* AST-244* AlkPhos-123* \nTotBili-1.3\n___ 09:20PM BLOOD Albumin-3.5 Calcium-8.3* Phos-3.3 Mg-2.3\n___ 09:27PM BLOOD Lactate-2.1*\n\nNOTABLE LABS\n============\n___ 12:30AM ASCITES WBC-220* ___ Polys-17* \nLymphs-48* Monos-19* Mesothe-2* Macroph-12* Other-2*\n___ 12:30AM ASCITES TotPro-0.7 Glucose-129\n\nMICROBIOLOGY\n============\n___ 12:30 am PERITONEAL FLUID\n\n   GRAM STAIN (Final ___: \n      NO POLYMORPHONUCLEAR LEUKOCYTES SEEN. \n      NO MICROORGANISMS SEEN. \n\n   FLUID CULTURE (Final ___:    NO GROWTH. \n\n   ANAEROBIC CULTURE (Preliminary):    NO GROWTH.\n\n___ VRE screen: No VRE isolated.\n\nIMAGING/STUDIES\n===============\nCXR ___\nNo acute cardiopulmonary process.\n\nRUQUS ___\nCirrhotic, mild splenomegaly and ascites.  A solid 3cm nodule in \nthe left lobe of the liver is stable in size and appearance. \n\nDISCHARGE LABS\n==============\n___ 06:15AM BLOOD WBC-5.6 RBC-3.27* Hgb-11.6* Hct-33.5* \nMCV-103* MCH-35.5* MCHC-34.5 RDW-16.1* Plt ___\n___ 06:15AM BLOOD ___ PTT-36.0 ___\n___ 06:15AM BLOOD Glucose-87 UreaN-29* Creat-0.4 Na-123* \nK-5.4* Cl-93* HCO3-24 AnGap-11\n___ 06:15AM BLOOD ALT-112* AST-176* AlkPhos-101 \nTotBili-2.8*\n___ 06:15AM BLOOD Albumin-3.5 Calcium-8.8 Phos-3.4 Mg-2.___ w/ HIV on HAART, COPD on 3L home O2, HCV cirrhosis \ndecompensated (ascites requiring biweekly therapeutic \nparacenteses, hepatic encephalopathy; not on transplant list ___ \n \ncomorbidities) p/w worsening abd girth and pain.\n\n# Goals of care:  The patient expressed that her desire to \"let \ngo\" and be at peace. She is tired of \"fighting\" her end stage \nliver disease and does not feel that she has a good quality of \nlife. She wished to meet with a representative from hospice, \nwhich we were able to arrange, and she decided that she would \nlike to go home with hospice. A conversation was held with the \npatient regarding code status. She noted that she would probably \nbe DNR/DNI, but would like to discuss it with her son (HCP). \nTherefore, at this time, she remains full code. We also \ndiscussed the possibility of her getting a pleurex catheter \nplaced because of her repeated paracenteses. She was discharged \nto home with hospice on ___.\n\n# Decompensated HCV cirrhosis with ascites: The patient \npresented with worsening ascites. Her pain was initially managed \nwith tramadol and morphine. She underwent ___ paracentesis \non ___ with removal of 3.5L and she received albumin. Studies \non the fluid were negative, and she reported a significant \nimprovement in her pain.\n \n# Hyperkalemia: During her hospitalization, it was noted that \nshe had hyperkalemia 5.3 -> 5.9 -> 6.9 without EKG changes. \nAfter treatment with calcium gluconate 2gm x2, insulin and D50 x \n2, and kayexelate, her K downtrended to 5.4. Her K has been \npersistently elevated in the past and should continue to be \nmonitored.\n\n# Hepatic encephalopathy: The patient's mental status was A+Ox3 \non admission. She was continued on rifaximin and lactulose \nin-house and at discharge.\n\nCHRONIC ISSUES\n==============\n\n# Hyponatremia - The patient has a history of asymptomatic \nhyponatremia. It is most likely hypervolemic hyponatremia \nrelated to underlying liver disease as well as aldosterone axis \ndysfunction related to liver disease. She remained asymptomatic \nthrough her hospitalization. Because she was also started on \n10mg of furosemide to help prevent fluid re-accumulation, she \nwill require BMPs twice weekly in the outpatient setting.\n\n# HIV: Emtricitabine-Tenofovir (Truvada) and Raltegravir were \ncontinued in-house and at discharge.  \n\n# COPD: fluticasone, tiotropium and albuterol were continued \nin-house and at discharge.\n\nTRANSITIONAL ISSUES\n===================\n[ ] Follow-up peritoneal fluid culture\n[ ] New/changed medications: Furosemide 10mg daily (new)\n[ ] For hyperkalemia and hyponatremia, the patient should have \nbiweekly BMPs (script written). If K > 5.3, she should be given \nkayexelate once weekly. Lab results will be faxed/sent to Dr. \n___.\n[ ] Continue conversation regarding pleurex catheter placement \nand code status.\n[ ] She will continue to have twice weekly paracenteses\n\n# Code: full  \n# Emergency Contact: ___ ___ \n \n___ on Admission:\nThe Preadmission Medication list is accurate and complete.\n1. Calcium Carbonate 500 mg PO BID \n2. Emtricitabine-Tenofovir (Truvada) 1 TAB PO DAILY \n3. Fluticasone Propionate 110mcg 1 PUFF IH BID \n4. Lactulose 30 mL PO TID \n5. Raltegravir 400 mg PO BID \n6. Rifaximin 550 mg PO BID \n7. TraMADOL (Ultram) ___ mg PO Q6H:PRN pain \n8. albuterol sulfate 90 mcg/actuation inhalation Q6H:PRN \nWheezing \n9. Tiotropium Bromide 1 CAP IH DAILY \n\n \nDischarge Medications:\n1. albuterol sulfate 90 mcg/actuation inhalation Q6H:PRN \nWheezing \n2. Calcium Carbonate 500 mg PO BID \n3. Emtricitabine-Tenofovir (Truvada) 1 TAB PO DAILY \n4. Fluticasone Propionate 110mcg 1 PUFF IH BID \n5. Lactulose 30 mL PO TID \n6. Raltegravir 400 mg PO BID \n7. Rifaximin 550 mg PO BID \n8. Tiotropium Bromide 1 CAP IH DAILY \n9. TraMADOL (Ultram) ___ mg PO Q6H:PRN pain \n10. Furosemide 10 mg PO DAILY \nRX *furosemide 20 mg 0.5 (One half) tablet(s) by mouth Please \ntake 1 tablet daily. Disp #*15 Tablet Refills:*0\n11. Outpatient Lab Work\nPlease obtain biweekly BMP to monitor K and Na. Please fax \nresults to Dr. ___ at the ___ at ___.\n\n \nDischarge Disposition:\nHome With Service\n \nFacility:\n___\n \nDischarge Diagnosis:\nPRIMARY DIAGNOSIS\n=================\n-Decompensated HCV cirrhosis\n-Hyperkalemia\n\nSECONDARY DIAGNOSES\n===================\n-HIV\n-COPD\n-Hyponatremia\n\n \nDischarge Condition:\nMental Status: Clear and coherent.\nLevel of Consciousness: Alert and interactive.\nActivity Status: Ambulatory - Independent.\n\n \nDischarge Instructions:\nDear Ms. ___,\n\nIt was a pleasure caring for you during your stay at ___. You \nwere admitted because of worsening abdominal pain. It is likely \nthat this pain was due to increasing fluid in the abdomen from \nyour cirrhosis. After a paracentesis in which much of this fluid \nwas removed, your pain improved significantly. You were noted to \nhave a high potassium during your hospitalization, which came \ndown with treatment but this should continue to be followed as \nan outpatient. You also emphasized your desire to speak with a \nrepresentative from hospice. Because of your repeated \nparacenteses, we also discussed the possibility of a pleurex \ncatheter placement. We arranged for you to meet with hospice \ncoordinators, and you will be discharged home with hospice.\n\nWe wish you all the best!\n\nYour ___ care team\n \nFollowup Instructions:\n___\n"
        ],
        [
         "4",
         " \nName:  ___                    Unit No:   ___\n \nAdmission Date:  ___              Discharge Date:   ___\n \nDate of Birth:  ___             Sex:   M\n \nService: MEDICINE\n \nAllergies: \nNo Known Allergies / Adverse Drug Reactions\n \nAttending: ___.\n \nChief Complaint:\nVisual hallucinations\n \nMajor Surgical or Invasive Procedure:\nN/A\n\n \nHistory of Present Illness:\n___ male with ___ disease, dyslipidemia, and a\nhistory of prostate cancer (s/p prostatectomy) who was referred\nto the ED by his neurologist for worsening gait, falls, and\nvisual hallucinations. \n\nThe following history is taken from chart review: \n\nThe patient was seen by his neurologist on ___ at which time he\nwas noted to have visual hallucinations and worsening gait\nfreezing. For his gait freezing, his mirapex was increased by\n0.125 mg every week to a goal dose of 0.75 mg t.i.d. He\nsuccessfully up-titrated the medicine to 0.75/0.625/0.625 but\nbegan to have visual hallucinations and confusion so on ___ his\nneurologist recommended decreasing the dose to 0.625 TID. \nDespite\nthe changes to his Mirapex, the patient's daughter has noted\nprogressive gait stiffness and increased difficulty standing.\nThis has resulted in difficulty with simply getting to the\nbathroom leading to episodes of incontinence. A UA performed on\n___ was reassuring. \n\nOn the day of presentation to the hospital, the patient began to\nexperience visual hallucinations of a motor cross race in his\nbackyard. He subsequently had a fall while transferring from the\ncouch to a chair. His wife was unable to get him off the floor.\nThe fall was witnessed and there was no head strike. Per the\npatient's wife, his gait has acutely worsened over the past 24\nhours to the point where he has been unable to ambulate on his\nown. The patient's daughter called his neurologist who\nrecommended presentation to the ED. \n\nIn the ED, the patient was afebrile, HRs ___, normotensive, and\nSpO2 100% RA. On exam he was noted to have cogwheeling of upper\nextremities and decrease ___ strength. Labs were remarkable for a\nnegative urine and serum tox, Na 132, K 5.8 (hemolyzed and no \nEKG\nchanges), negative troponin, normal LFTs, unremarkable CBC. \nChest\nXray showed no acute process and CTH was reassuring. He was\nevaluated by neurology who recommended admission to medicine for\nfailure to thrive, to continue the patient's home medications,\nand complete a toxo-metabolic workup. The patient was given his\nhome pramipexole and pravastatin before he was admitted.  \n\nOn arrival to the floor, the patient is comfortable in bed. He \nis\nnot accompanied by family on my interview. He knows that he is \nin\nthe hospital and that it is ___. He is not sure why he is here\nand begins to tell me about a party in his house with a motor\ncross race in his backyard. When I asked him about his fall, he\nmentions that he has not had a fall for ___ years. He denies any\nfevers, chills, cough, chest pain, abdominal pain, nausea,\ndiarrhea, or dysuria. \n\nREVIEW OF SYSTEMS:\n==================\nPer HPI, otherwise, 10-point review of systems was within normal\nlimits.\n\n \nPast Medical History:\n___ disease\n___ Body Dementia \ndyslipidemia \nprostate cancer (s/p prostatectomy)\n \nSocial History:\n___\nFamily History:\nHis mother died at age ___ of \"old age.\"\nHis father died of prostate cancer at ___.  He has an older \nsister\n(age ___ and a younger sister (age ___.  He has a younger \nbrother\n(age ___.  As noted, he has 2 daughters.  There is no family\nhistory of neurologic illness or dementia.  There is no family\nhistory of neurodevelopmental mental disorders such as learning\ndisability or ADHD.  There is no family history of psychiatric\nproblems.\n \nPhysical Exam:\nADMISSION PHYSICAL EXAM:\n========================\nVITALS: reviewed in OMR \nGENERAL: Alert and interactive. In no acute distress.\nHEENT: PERRL, EOMI. Sclera anicteric and without injection. MMM.\nNECK: No cervical lymphadenopathy. No JVD.\nCARDIAC: Regular rhythm, normal rate. Audible S1 and S2. No\nmurmurs/rubs/gallops.\nLUNGS: Clear to auscultation bilaterally. No wheezes, rhonchi or\nrales. No increased work of breathing.\nBACK: No CVA tenderness.\nABDOMEN: Normal bowels sounds, non distended, non-tender to deep\npalpation in all four quadrants. No organomegaly.\nEXTREMITIES: No clubbing, cyanosis, or edema. Pulses DP/Radial \n2+\nbilaterally.\nSKIN: Warm. Cap refill <2s. No rashes.\nNEUROLOGIC: AOx3. CN2-12 intact. cogwheel UE b/l. Increased tone\nin LEs, ___ strength b/l ___. Normal sensation.\n\nDISCHARGE PHYSICAL EXAM\n======================\n24 HR Data (last updated ___ @ 2340)\n    Temp: 97.7 (Tm 98.4), BP: 130/80 (130-153/80-90), HR: 80\n(80-104), RR: 18 (___), O2 sat: 100% (95-100), O2 delivery: Ra \n\n\nGENERAL: In no acute distress. Talking very quietly.\nCARDIAC: Regular rhythm, normal rate. Audible S1 and S2. No\nmurmurs/rubs/gallops.\nLUNGS: Clear to auscultation bilaterally. No wheezes, rhonchi or\nrales. No increased work of breathing.\nABDOMEN: Normal bowels sounds, non distended, non-tender to deep\npalpation in all four quadrants.\nEXTREMITIES: No clubbing, cyanosis, or edema. Pulses DP/Radial \n2+\nbilaterally.\nSKIN: Warm.\nNEUROLOGIC: AOx3. CN2-12 intact. cogwheel UE b/l. Increased tone\nin LEs, ___ strength b/l ___. Normal sensation.\n\n \nPertinent Results:\nADMISSION LABS:\n===============\n___ 10:30PM BLOOD WBC-8.6 RBC-4.03* Hgb-12.8* Hct-38.2* \nMCV-95 MCH-31.8 MCHC-33.5 RDW-13.0 RDWSD-45.2 Plt ___\n___ 10:30PM BLOOD Neuts-48.1 ___ Monos-15.9* \nEos-2.0 Baso-0.6 Im ___ AbsNeut-4.13 AbsLymp-2.86 \nAbsMono-1.36* AbsEos-0.17 AbsBaso-0.05\n___ 10:30PM BLOOD ___ PTT-23.4* ___\n___ 10:30PM BLOOD Glucose-100 UreaN-17 Creat-0.8 Na-132* \nK-5.8* Cl-98 HCO3-19* AnGap-15\n___ 10:30PM BLOOD ALT-18 AST-38 AlkPhos-39* TotBili-0.4\n___ 10:30PM BLOOD Lipase-47\n___ 10:30PM BLOOD cTropnT-<0.01\n___ 10:30PM BLOOD Albumin-4.0 Calcium-9.9 Phos-3.7 Mg-2.0\n___ 10:30PM BLOOD VitB12-570\n___ 10:30PM BLOOD TSH-1.4\n___ 07:00AM BLOOD Trep Ab-NEG\n___ 10:30PM BLOOD ASA-NEG Ethanol-NEG Acetmnp-NEG \nTricycl-NEG\n\nIMAGING:\n========\n___ Imaging CT HEAD W/O CONTRAST  \nFINDINGS:  \nThere is no evidence of infarction, hemorrhage, edema, or mass.  \nThere is \nprominence of the ventricles and sulci suggestive of \ninvolutional changes. \nThere is no evidence of fracture.  The visualized portion of the \nremaining \nparanasal sinuses and middle ear cavities are clear.  The \nvisualized portion of the orbits are unremarkable apart from \nbilateral lens replacements. \nIMPRESSION: \n1. No acute intracranial abnormality.  No hydrocephalus. \n\n___ Imaging CHEST (PA & LAT) \nIMPRESSION:  \nMild atelectasis in the lung bases without focal consolidation.  \n\nAge-indeterminate moderate to severe compression deformity of a \nlow thoracic vertebral body. \n\nDISCHARGE LABS:\n===============\n___ 06:21AM BLOOD WBC-7.0 RBC-4.02* Hgb-12.9* Hct-38.1* \nMCV-95 MCH-32.1* MCHC-33.9 RDW-12.8 RDWSD-44.4 Plt ___\n___ 06:21AM BLOOD Glucose-88 UreaN-10 Creat-0.7 Na-140 \nK-4.0 Cl-104 HCO3-24 AnGap-12\n___ 06:21AM BLOOD Calcium-9.5 Phos-3.2 Mg-1.___ male with ___ disease, dyslipidemia, and a\nhistory of prostate cancer (s/p prostatectomy) who was referred\nto the ED by his neurologist for worsening gait, falls, and\nvisual hallucinations concerning for progression of his\nneurologic disorder. \n\nACUTE/ACTIVE ISSUES:\n====================\n___ disease\n___ Body Dementia \n#Visual Hallucinations \nThe patient appears to have acute on chronic progression of his\n___ disease. Unclear if this is disease progression or\nunderlying medical cause. Continued mirapex, rasagiline, and \nrivastigmine. Neurology recommended started Seroquel for his \nhallucinations.\n\nHe was evaluated by physical therapy who recommended rehab. This \nrecommendation was discussed with the family who opted for \ndischarge to home with home physical therapy as this was in line \nwith the patient's goals of care.\n\nTRANSITIONAL ISSUES:\n[] f/u visual hallucination symptoms on Seroquel\n[] f/u physical therapy at home\n \nMedications on Admission:\nThe Preadmission Medication list may be inaccurate and requires \nfuther investigation.\n1. Rasagiline 1 mg PO DAILY \n2. Pramipexole 0.625 mg PO TID \n3. rivastigmine 9.5 mg/24 hr transdermal DAILY \n4. Pravastatin 40 mg PO QPM \n5. Cyanocobalamin Dose is Unknown  PO DAILY \n6. Loratadine 10 mg PO DAILY \n\n \nDischarge Medications:\n1.  QUEtiapine Fumarate 25 mg PO QHS \nRX *quetiapine 25 mg 1 tablet(s) by mouth AT NIGHT Disp #*30 \nTablet Refills:*0 \n2.  Loratadine 10 mg PO DAILY  \n3.  Pramipexole 0.625 mg PO TID  \n4.  Pravastatin 40 mg PO QPM  \n5.  Rasagiline 1 mg PO DAILY  \n6.  rivastigmine 9.5 mg/24 hr transdermal DAILY  \n\n \nDischarge Disposition:\nHome With Service\n \nFacility:\n___\n \nDischarge Diagnosis:\n___ Dementia\n \nDischarge Condition:\nMental Status: Confused - sometimes.\nLevel of Consciousness: Alert and interactive.\n\n \nDischarge Instructions:\nDear Mr. ___, \n\nIt was a privilege caring for you at ___. \n\nWHY WAS I IN THE HOSPITAL? \n- You were sent to the emergency room by your neurologist who \nwas concerned that you were having visual hallucinations.\n\nWHAT HAPPENED TO ME IN THE HOSPITAL? \n- You were started on a new medication to help treat your \nsymptoms.\n\nWHAT SHOULD I DO AFTER I LEAVE THE HOSPITAL? \n- Continue to take all your medicines and keep your \nappointments. \n\nWe wish you the best! \n\nSincerely, \nYour ___ Team \n \nFollowup Instructions:\n___\n"
        ]
       ],
       "shape": {
        "columns": 1,
        "rows": 5
       }
      },
      "text/plain": [
       "0     \\nName:  ___                     Unit No:   _...\n",
       "1     \\nName:  ___                     Unit No:   _...\n",
       "2     \\nName:  ___                     Unit No:   _...\n",
       "3     \\nName:  ___                     Unit No:   _...\n",
       "4     \\nName:  ___                    Unit No:   __...\n",
       "Name: text, dtype: object"
      ]
     },
     "execution_count": 6,
     "metadata": {},
     "output_type": "execute_result"
    }
   ],
   "source": [
    "discharge[\"text\"].head()"
   ]
  },
  {
   "cell_type": "code",
   "execution_count": 8,
   "id": "3e07ce23",
   "metadata": {},
   "outputs": [
    {
     "data": {
      "application/vnd.microsoft.datawrangler.viewer.v0+json": {
       "columns": [
        {
         "name": "index",
         "rawType": "int64",
         "type": "integer"
        },
        {
         "name": "note_id",
         "rawType": "object",
         "type": "string"
        },
        {
         "name": "subject_id",
         "rawType": "int64",
         "type": "integer"
        },
        {
         "name": "field_name",
         "rawType": "object",
         "type": "string"
        },
        {
         "name": "field_value",
         "rawType": "object",
         "type": "string"
        },
        {
         "name": "field_ordinal",
         "rawType": "int64",
         "type": "integer"
        }
       ],
       "ref": "22eb246b-3f2c-407a-9318-2b0093356c35",
       "rows": [
        [
         "0",
         "10000032-RR-14",
         "10000032",
         "exam_code",
         "C11",
         "1"
        ],
        [
         "1",
         "10000032-RR-14",
         "10000032",
         "exam_name",
         "CHEST (PA & LAT)",
         "1"
        ],
        [
         "2",
         "10000032-RR-15",
         "10000032",
         "exam_code",
         "U314",
         "1"
        ],
        [
         "3",
         "10000032-RR-15",
         "10000032",
         "exam_code",
         "U644",
         "3"
        ],
        [
         "4",
         "10000032-RR-15",
         "10000032",
         "exam_code",
         "W82",
         "2"
        ]
       ],
       "shape": {
        "columns": 5,
        "rows": 5
       }
      },
      "text/html": [
       "<div>\n",
       "<style scoped>\n",
       "    .dataframe tbody tr th:only-of-type {\n",
       "        vertical-align: middle;\n",
       "    }\n",
       "\n",
       "    .dataframe tbody tr th {\n",
       "        vertical-align: top;\n",
       "    }\n",
       "\n",
       "    .dataframe thead th {\n",
       "        text-align: right;\n",
       "    }\n",
       "</style>\n",
       "<table border=\"1\" class=\"dataframe\">\n",
       "  <thead>\n",
       "    <tr style=\"text-align: right;\">\n",
       "      <th></th>\n",
       "      <th>note_id</th>\n",
       "      <th>subject_id</th>\n",
       "      <th>field_name</th>\n",
       "      <th>field_value</th>\n",
       "      <th>field_ordinal</th>\n",
       "    </tr>\n",
       "  </thead>\n",
       "  <tbody>\n",
       "    <tr>\n",
       "      <th>0</th>\n",
       "      <td>10000032-RR-14</td>\n",
       "      <td>10000032</td>\n",
       "      <td>exam_code</td>\n",
       "      <td>C11</td>\n",
       "      <td>1</td>\n",
       "    </tr>\n",
       "    <tr>\n",
       "      <th>1</th>\n",
       "      <td>10000032-RR-14</td>\n",
       "      <td>10000032</td>\n",
       "      <td>exam_name</td>\n",
       "      <td>CHEST (PA &amp; LAT)</td>\n",
       "      <td>1</td>\n",
       "    </tr>\n",
       "    <tr>\n",
       "      <th>2</th>\n",
       "      <td>10000032-RR-15</td>\n",
       "      <td>10000032</td>\n",
       "      <td>exam_code</td>\n",
       "      <td>U314</td>\n",
       "      <td>1</td>\n",
       "    </tr>\n",
       "    <tr>\n",
       "      <th>3</th>\n",
       "      <td>10000032-RR-15</td>\n",
       "      <td>10000032</td>\n",
       "      <td>exam_code</td>\n",
       "      <td>U644</td>\n",
       "      <td>3</td>\n",
       "    </tr>\n",
       "    <tr>\n",
       "      <th>4</th>\n",
       "      <td>10000032-RR-15</td>\n",
       "      <td>10000032</td>\n",
       "      <td>exam_code</td>\n",
       "      <td>W82</td>\n",
       "      <td>2</td>\n",
       "    </tr>\n",
       "  </tbody>\n",
       "</table>\n",
       "</div>"
      ],
      "text/plain": [
       "          note_id  subject_id field_name       field_value  field_ordinal\n",
       "0  10000032-RR-14    10000032  exam_code               C11              1\n",
       "1  10000032-RR-14    10000032  exam_name  CHEST (PA & LAT)              1\n",
       "2  10000032-RR-15    10000032  exam_code              U314              1\n",
       "3  10000032-RR-15    10000032  exam_code              U644              3\n",
       "4  10000032-RR-15    10000032  exam_code               W82              2"
      ]
     },
     "execution_count": 8,
     "metadata": {},
     "output_type": "execute_result"
    }
   ],
   "source": [
    "radiology_detail.head()"
   ]
  },
  {
   "cell_type": "code",
   "execution_count": 9,
   "id": "841779e8",
   "metadata": {},
   "outputs": [
    {
     "data": {
      "application/vnd.microsoft.datawrangler.viewer.v0+json": {
       "columns": [
        {
         "name": "index",
         "rawType": "int64",
         "type": "integer"
        },
        {
         "name": "note_id",
         "rawType": "object",
         "type": "string"
        },
        {
         "name": "subject_id",
         "rawType": "int64",
         "type": "integer"
        },
        {
         "name": "hadm_id",
         "rawType": "float64",
         "type": "float"
        },
        {
         "name": "note_type",
         "rawType": "object",
         "type": "string"
        },
        {
         "name": "note_seq",
         "rawType": "int64",
         "type": "integer"
        },
        {
         "name": "charttime",
         "rawType": "object",
         "type": "string"
        },
        {
         "name": "storetime",
         "rawType": "object",
         "type": "string"
        },
        {
         "name": "text",
         "rawType": "object",
         "type": "string"
        }
       ],
       "ref": "81472110-dd35-4631-a4a9-d64ee550a008",
       "rows": [
        [
         "0",
         "10000032-RR-14",
         "10000032",
         "22595853.0",
         "RR",
         "14",
         "2180-05-06 21:19:00",
         "2180-05-06 23:32:00",
         "EXAMINATION:  CHEST (PA AND LAT)\n\nINDICATION:  ___ with new onset ascites  // eval for infection\n\nTECHNIQUE:  Chest PA and lateral\n\nCOMPARISON:  None.\n\nFINDINGS: \n\nThere is no focal consolidation, pleural effusion or pneumothorax.  Bilateral\nnodular opacities that most likely represent nipple shadows. The\ncardiomediastinal silhouette is normal.  Clips project over the left lung,\npotentially within the breast. The imaged upper abdomen is unremarkable.\nChronic deformity of the posterior left sixth and seventh ribs are noted.\n\nIMPRESSION: \n\nNo acute cardiopulmonary process.\n"
        ],
        [
         "1",
         "10000032-RR-15",
         "10000032",
         "22595853.0",
         "RR",
         "15",
         "2180-05-06 23:00:00",
         "2180-05-06 23:26:00",
         "EXAMINATION:  LIVER OR GALLBLADDER US (SINGLE ORGAN)\n\nINDICATION:  ___ year-old female with cirrhosis, jaundice.\n\nTECHNIQUE:  Grey scale and color Doppler ultrasound images of the abdomen were\nobtained.\n\nCOMPARISON:  None.\n\nFINDINGS: \n\nLIVER: The liver is coarsened and nodular in echotexture. There is no focal\nliver mass. Main portal vein and its major branches are patent with normal\nhepatopetal flow.  The main hepatic artery shows normal arterial waveform. \nThere is a small amount of ascites.\n\nBILE DUCTS: There is no intrahepatic biliary dilation. The CBD measures 4 mm.\n\nGALLBLADDER: The gallbladder is contracted with a shadowing gallstone.\n\nPANCREAS: Imaged portion of the pancreas appears within normal limits, without\nmasses or pancreatic ductal dilation, with portions of the pancreatic tail\nobscured by overlying bowel gas.\n\nSPLEEN: Normal echogenicity, measuring 13.5 cm.\n\nKIDNEYS: The right kidney measures 12.1 cm. The left kidney measures 13.4 cm.\nNormal cortical echogenicity and corticomedullary differentiation is seen\nbilaterally.\nRETROPERITONEUM: Visualized portions of aorta and IVC are within normal\nlimits.\n\nIMPRESSION: \n\n1. Nodular appearance of the liver compatible with cirrhosis. Signs of portal\nhypertension including small amount of ascites and splenomegaly.\n2.  Cholelithiasis.\n3.  Patent portal veins with normal hepatopetal flow.\n"
        ],
        [
         "2",
         "10000032-RR-16",
         "10000032",
         "22595853.0",
         "RR",
         "16",
         "2180-05-07 09:55:00",
         "2180-05-07 11:15:00",
         "INDICATION:  ___ HCV cirrhosis c/b ascites, hiv on ART, h/o IVDU, COPD,\nbioplar, PTSD, presented from OSH ED with worsening abd distension over past\nweek.  // SBP\n\nTECHNIQUE:  Ultrasound guided diagnostic and therapeutic paracentesis\n\nCOMPARISON:  Abdominal ultrasound ___\n\nFINDINGS: \n\nLimited grayscale ultrasound imaging of the abdomen demonstrated\nmoderateascites. A suitable target in the deepest pocket in the right lower\nquadrant was selected for paracentesis.\n\nPROCEDURE:  The procedure, risks, benefits and alternatives were discussed\nwith the patient and written informed consent was obtained.\n\nA preprocedure time-out was performed discussing the planned procedure,\nconfirming the patient's identity with 3 identifiers, and reviewing a\nchecklist per ___ protocol.\n\nUnder ultrasound guidance, an entrance site was selected and the skin was\nprepped and draped in the usual sterile fashion. 1% lidocaine was instilled\nfor local anesthesia.\n\nA 5 ___ catheter was advanced into the largest fluid pocket in the right\nlower quadrant and 1.5 L of serosanguinous fluid was removed.\n\nThe patient tolerated the procedure well without immediate complication.\nEstimated blood loss was minimal.  A sample of the fluid was sent to the lab\nas requested.\n\nDr. ___ attending radiologist, was present throughout the critical\nportions of the procedure.\n\nIMPRESSION: \n\nSuccessful uncomplicated ultrasound guided diagnostic and therapeutic\nparacentesis yielding 1.5 L of serosanguineous fluid from the right lower\nquadrant.  Sample was sent to the lab as requested.\n"
        ],
        [
         "3",
         "10000032-RR-18",
         "10000032",
         null,
         "RR",
         "18",
         "2180-06-03 12:46:00",
         "2180-06-03 14:01:00",
         "EXAMINATION:  Ultrasound-guided paracentesis.\n\nINDICATION:  ___ year old woman with cirrhosis, ascites despite diuretics  //\nPlease do LVP with albumin post per protocol\n\nTECHNIQUE:  Ultrasound guided therapeutic paracentesis\n\nCOMPARISON:  ___.\n\nFINDINGS: \n\nLimited grayscale ultrasound imaging of the abdomen demonstrated\nmoderateascites. A suitable target in the deepest pocket in the right lower\nquadrant was selected for paracentesis.\n\nPROCEDURE:  The procedure, risks, benefits and alternatives were discussed\nwith the patient and written informed consent was obtained.\n\nA preprocedure time-out was performed discussing the planned procedure,\nconfirming the patient's identity with 3 identifiers, and reviewing a\nchecklist per ___ protocol.\n\nUnder ultrasound guidance, an entrance site was selected and the skin was\nprepped and draped in the usual sterile fashion. 1% lidocaine was instilled\nfor local anesthesia.\n\nA 5 ___ catheter was advanced into the largest fluid pocket in the right\nlower quadrant and 1.75 L of clear, straw-coloredfluid was removed.\n\nThe patient tolerated the procedure well without immediate complication.\nEstimated blood loss was minimal.\n\nDr. ___ attending radiologist, personally supervised the procedure,\nsubsequently reviewing and has agreed with the preliminary findings.\n\nIMPRESSION: \n\nUneventful therapeutic paracentesis yielding 1.75 L of clear, straw-colored\nascitic fluid.\n"
        ],
        [
         "4",
         "10000032-RR-20",
         "10000032",
         null,
         "RR",
         "20",
         "2180-07-08 13:18:00",
         "2180-07-08 14:15:00",
         "EXAMINATION:  Paracentesis\n\nINDICATION:  ___ year old woman with cirrhosis, ascites despite diuretics  //\nPlease do LVP with albumin post per protocol\n\nTECHNIQUE:  Ultrasound guided therapeutic paracentesis\n\nCOMPARISON:  Paracentesis on ___\n\nFINDINGS: \n\nLimited grayscale ultrasound imaging of the abdomen demonstrated a large\namount of ascites. A suitable target in the deepest pocket in the right lower\nquadrant was selected for paracentesis.\n\nPROCEDURE:  The procedure, risks, benefits and alternatives were discussed\nwith the patient and written informed consent was obtained.\n\nA preprocedure time-out was performed discussing the planned procedure,\nconfirming the patient's identity with 3 identifiers, and reviewing a\nchecklist per ___ protocol.\n\nUnder ultrasound guidance, an entrance site was selected and the skin was\nprepped and draped in the usual sterile fashion. 1% lidocaine was instilled\nfor local anesthesia.\n\nA 5 ___ catheter was advanced into the largest fluid pocket in the right\nlower quadrant and 4.75 L of slightly cloudy, blood tinged, yellow fluid was\nremoved, similar to the prior exam in appearance.\n\nThe patient tolerated the procedure well without immediate complication.\nEstimated blood loss was minimal.\n\nDr. ___ supervised the trainee during the key components of the\nprocedure and reviewed and agrees with the trainee's findings.\n\nIMPRESSION: \n\n4.75 L of slightly cloudy, blood tinged fluid was removed from the right lower\nquadrant without complication.\n"
        ]
       ],
       "shape": {
        "columns": 8,
        "rows": 5
       }
      },
      "text/html": [
       "<div>\n",
       "<style scoped>\n",
       "    .dataframe tbody tr th:only-of-type {\n",
       "        vertical-align: middle;\n",
       "    }\n",
       "\n",
       "    .dataframe tbody tr th {\n",
       "        vertical-align: top;\n",
       "    }\n",
       "\n",
       "    .dataframe thead th {\n",
       "        text-align: right;\n",
       "    }\n",
       "</style>\n",
       "<table border=\"1\" class=\"dataframe\">\n",
       "  <thead>\n",
       "    <tr style=\"text-align: right;\">\n",
       "      <th></th>\n",
       "      <th>note_id</th>\n",
       "      <th>subject_id</th>\n",
       "      <th>hadm_id</th>\n",
       "      <th>note_type</th>\n",
       "      <th>note_seq</th>\n",
       "      <th>charttime</th>\n",
       "      <th>storetime</th>\n",
       "      <th>text</th>\n",
       "    </tr>\n",
       "  </thead>\n",
       "  <tbody>\n",
       "    <tr>\n",
       "      <th>0</th>\n",
       "      <td>10000032-RR-14</td>\n",
       "      <td>10000032</td>\n",
       "      <td>22595853.0</td>\n",
       "      <td>RR</td>\n",
       "      <td>14</td>\n",
       "      <td>2180-05-06 21:19:00</td>\n",
       "      <td>2180-05-06 23:32:00</td>\n",
       "      <td>EXAMINATION:  CHEST (PA AND LAT)\\n\\nINDICATION...</td>\n",
       "    </tr>\n",
       "    <tr>\n",
       "      <th>1</th>\n",
       "      <td>10000032-RR-15</td>\n",
       "      <td>10000032</td>\n",
       "      <td>22595853.0</td>\n",
       "      <td>RR</td>\n",
       "      <td>15</td>\n",
       "      <td>2180-05-06 23:00:00</td>\n",
       "      <td>2180-05-06 23:26:00</td>\n",
       "      <td>EXAMINATION:  LIVER OR GALLBLADDER US (SINGLE ...</td>\n",
       "    </tr>\n",
       "    <tr>\n",
       "      <th>2</th>\n",
       "      <td>10000032-RR-16</td>\n",
       "      <td>10000032</td>\n",
       "      <td>22595853.0</td>\n",
       "      <td>RR</td>\n",
       "      <td>16</td>\n",
       "      <td>2180-05-07 09:55:00</td>\n",
       "      <td>2180-05-07 11:15:00</td>\n",
       "      <td>INDICATION:  ___ HCV cirrhosis c/b ascites, hi...</td>\n",
       "    </tr>\n",
       "    <tr>\n",
       "      <th>3</th>\n",
       "      <td>10000032-RR-18</td>\n",
       "      <td>10000032</td>\n",
       "      <td>NaN</td>\n",
       "      <td>RR</td>\n",
       "      <td>18</td>\n",
       "      <td>2180-06-03 12:46:00</td>\n",
       "      <td>2180-06-03 14:01:00</td>\n",
       "      <td>EXAMINATION:  Ultrasound-guided paracentesis.\\...</td>\n",
       "    </tr>\n",
       "    <tr>\n",
       "      <th>4</th>\n",
       "      <td>10000032-RR-20</td>\n",
       "      <td>10000032</td>\n",
       "      <td>NaN</td>\n",
       "      <td>RR</td>\n",
       "      <td>20</td>\n",
       "      <td>2180-07-08 13:18:00</td>\n",
       "      <td>2180-07-08 14:15:00</td>\n",
       "      <td>EXAMINATION:  Paracentesis\\n\\nINDICATION:  ___...</td>\n",
       "    </tr>\n",
       "  </tbody>\n",
       "</table>\n",
       "</div>"
      ],
      "text/plain": [
       "          note_id  subject_id     hadm_id note_type  note_seq  \\\n",
       "0  10000032-RR-14    10000032  22595853.0        RR        14   \n",
       "1  10000032-RR-15    10000032  22595853.0        RR        15   \n",
       "2  10000032-RR-16    10000032  22595853.0        RR        16   \n",
       "3  10000032-RR-18    10000032         NaN        RR        18   \n",
       "4  10000032-RR-20    10000032         NaN        RR        20   \n",
       "\n",
       "             charttime            storetime  \\\n",
       "0  2180-05-06 21:19:00  2180-05-06 23:32:00   \n",
       "1  2180-05-06 23:00:00  2180-05-06 23:26:00   \n",
       "2  2180-05-07 09:55:00  2180-05-07 11:15:00   \n",
       "3  2180-06-03 12:46:00  2180-06-03 14:01:00   \n",
       "4  2180-07-08 13:18:00  2180-07-08 14:15:00   \n",
       "\n",
       "                                                text  \n",
       "0  EXAMINATION:  CHEST (PA AND LAT)\\n\\nINDICATION...  \n",
       "1  EXAMINATION:  LIVER OR GALLBLADDER US (SINGLE ...  \n",
       "2  INDICATION:  ___ HCV cirrhosis c/b ascites, hi...  \n",
       "3  EXAMINATION:  Ultrasound-guided paracentesis.\\...  \n",
       "4  EXAMINATION:  Paracentesis\\n\\nINDICATION:  ___...  "
      ]
     },
     "execution_count": 9,
     "metadata": {},
     "output_type": "execute_result"
    }
   ],
   "source": [
    "radiology.head()"
   ]
  },
  {
   "cell_type": "code",
   "execution_count": 10,
   "id": "a79977da",
   "metadata": {},
   "outputs": [
    {
     "data": {
      "application/vnd.microsoft.datawrangler.viewer.v0+json": {
       "columns": [
        {
         "name": "index",
         "rawType": "int64",
         "type": "integer"
        },
        {
         "name": "text",
         "rawType": "object",
         "type": "string"
        }
       ],
       "ref": "95698ca8-6300-4b5c-87c5-18a80417e9bb",
       "rows": [
        [
         "0",
         "EXAMINATION:  CHEST (PA AND LAT)\n\nINDICATION:  ___ with new onset ascites  // eval for infection\n\nTECHNIQUE:  Chest PA and lateral\n\nCOMPARISON:  None.\n\nFINDINGS: \n\nThere is no focal consolidation, pleural effusion or pneumothorax.  Bilateral\nnodular opacities that most likely represent nipple shadows. The\ncardiomediastinal silhouette is normal.  Clips project over the left lung,\npotentially within the breast. The imaged upper abdomen is unremarkable.\nChronic deformity of the posterior left sixth and seventh ribs are noted.\n\nIMPRESSION: \n\nNo acute cardiopulmonary process.\n"
        ],
        [
         "1",
         "EXAMINATION:  LIVER OR GALLBLADDER US (SINGLE ORGAN)\n\nINDICATION:  ___ year-old female with cirrhosis, jaundice.\n\nTECHNIQUE:  Grey scale and color Doppler ultrasound images of the abdomen were\nobtained.\n\nCOMPARISON:  None.\n\nFINDINGS: \n\nLIVER: The liver is coarsened and nodular in echotexture. There is no focal\nliver mass. Main portal vein and its major branches are patent with normal\nhepatopetal flow.  The main hepatic artery shows normal arterial waveform. \nThere is a small amount of ascites.\n\nBILE DUCTS: There is no intrahepatic biliary dilation. The CBD measures 4 mm.\n\nGALLBLADDER: The gallbladder is contracted with a shadowing gallstone.\n\nPANCREAS: Imaged portion of the pancreas appears within normal limits, without\nmasses or pancreatic ductal dilation, with portions of the pancreatic tail\nobscured by overlying bowel gas.\n\nSPLEEN: Normal echogenicity, measuring 13.5 cm.\n\nKIDNEYS: The right kidney measures 12.1 cm. The left kidney measures 13.4 cm.\nNormal cortical echogenicity and corticomedullary differentiation is seen\nbilaterally.\nRETROPERITONEUM: Visualized portions of aorta and IVC are within normal\nlimits.\n\nIMPRESSION: \n\n1. Nodular appearance of the liver compatible with cirrhosis. Signs of portal\nhypertension including small amount of ascites and splenomegaly.\n2.  Cholelithiasis.\n3.  Patent portal veins with normal hepatopetal flow.\n"
        ],
        [
         "2",
         "INDICATION:  ___ HCV cirrhosis c/b ascites, hiv on ART, h/o IVDU, COPD,\nbioplar, PTSD, presented from OSH ED with worsening abd distension over past\nweek.  // SBP\n\nTECHNIQUE:  Ultrasound guided diagnostic and therapeutic paracentesis\n\nCOMPARISON:  Abdominal ultrasound ___\n\nFINDINGS: \n\nLimited grayscale ultrasound imaging of the abdomen demonstrated\nmoderateascites. A suitable target in the deepest pocket in the right lower\nquadrant was selected for paracentesis.\n\nPROCEDURE:  The procedure, risks, benefits and alternatives were discussed\nwith the patient and written informed consent was obtained.\n\nA preprocedure time-out was performed discussing the planned procedure,\nconfirming the patient's identity with 3 identifiers, and reviewing a\nchecklist per ___ protocol.\n\nUnder ultrasound guidance, an entrance site was selected and the skin was\nprepped and draped in the usual sterile fashion. 1% lidocaine was instilled\nfor local anesthesia.\n\nA 5 ___ catheter was advanced into the largest fluid pocket in the right\nlower quadrant and 1.5 L of serosanguinous fluid was removed.\n\nThe patient tolerated the procedure well without immediate complication.\nEstimated blood loss was minimal.  A sample of the fluid was sent to the lab\nas requested.\n\nDr. ___ attending radiologist, was present throughout the critical\nportions of the procedure.\n\nIMPRESSION: \n\nSuccessful uncomplicated ultrasound guided diagnostic and therapeutic\nparacentesis yielding 1.5 L of serosanguineous fluid from the right lower\nquadrant.  Sample was sent to the lab as requested.\n"
        ],
        [
         "3",
         "EXAMINATION:  Ultrasound-guided paracentesis.\n\nINDICATION:  ___ year old woman with cirrhosis, ascites despite diuretics  //\nPlease do LVP with albumin post per protocol\n\nTECHNIQUE:  Ultrasound guided therapeutic paracentesis\n\nCOMPARISON:  ___.\n\nFINDINGS: \n\nLimited grayscale ultrasound imaging of the abdomen demonstrated\nmoderateascites. A suitable target in the deepest pocket in the right lower\nquadrant was selected for paracentesis.\n\nPROCEDURE:  The procedure, risks, benefits and alternatives were discussed\nwith the patient and written informed consent was obtained.\n\nA preprocedure time-out was performed discussing the planned procedure,\nconfirming the patient's identity with 3 identifiers, and reviewing a\nchecklist per ___ protocol.\n\nUnder ultrasound guidance, an entrance site was selected and the skin was\nprepped and draped in the usual sterile fashion. 1% lidocaine was instilled\nfor local anesthesia.\n\nA 5 ___ catheter was advanced into the largest fluid pocket in the right\nlower quadrant and 1.75 L of clear, straw-coloredfluid was removed.\n\nThe patient tolerated the procedure well without immediate complication.\nEstimated blood loss was minimal.\n\nDr. ___ attending radiologist, personally supervised the procedure,\nsubsequently reviewing and has agreed with the preliminary findings.\n\nIMPRESSION: \n\nUneventful therapeutic paracentesis yielding 1.75 L of clear, straw-colored\nascitic fluid.\n"
        ],
        [
         "4",
         "EXAMINATION:  Paracentesis\n\nINDICATION:  ___ year old woman with cirrhosis, ascites despite diuretics  //\nPlease do LVP with albumin post per protocol\n\nTECHNIQUE:  Ultrasound guided therapeutic paracentesis\n\nCOMPARISON:  Paracentesis on ___\n\nFINDINGS: \n\nLimited grayscale ultrasound imaging of the abdomen demonstrated a large\namount of ascites. A suitable target in the deepest pocket in the right lower\nquadrant was selected for paracentesis.\n\nPROCEDURE:  The procedure, risks, benefits and alternatives were discussed\nwith the patient and written informed consent was obtained.\n\nA preprocedure time-out was performed discussing the planned procedure,\nconfirming the patient's identity with 3 identifiers, and reviewing a\nchecklist per ___ protocol.\n\nUnder ultrasound guidance, an entrance site was selected and the skin was\nprepped and draped in the usual sterile fashion. 1% lidocaine was instilled\nfor local anesthesia.\n\nA 5 ___ catheter was advanced into the largest fluid pocket in the right\nlower quadrant and 4.75 L of slightly cloudy, blood tinged, yellow fluid was\nremoved, similar to the prior exam in appearance.\n\nThe patient tolerated the procedure well without immediate complication.\nEstimated blood loss was minimal.\n\nDr. ___ supervised the trainee during the key components of the\nprocedure and reviewed and agrees with the trainee's findings.\n\nIMPRESSION: \n\n4.75 L of slightly cloudy, blood tinged fluid was removed from the right lower\nquadrant without complication.\n"
        ]
       ],
       "shape": {
        "columns": 1,
        "rows": 5
       }
      },
      "text/plain": [
       "0    EXAMINATION:  CHEST (PA AND LAT)\\n\\nINDICATION...\n",
       "1    EXAMINATION:  LIVER OR GALLBLADDER US (SINGLE ...\n",
       "2    INDICATION:  ___ HCV cirrhosis c/b ascites, hi...\n",
       "3    EXAMINATION:  Ultrasound-guided paracentesis.\\...\n",
       "4    EXAMINATION:  Paracentesis\\n\\nINDICATION:  ___...\n",
       "Name: text, dtype: object"
      ]
     },
     "execution_count": 10,
     "metadata": {},
     "output_type": "execute_result"
    }
   ],
   "source": [
    "radiology[\"text\"].head()"
   ]
  },
  {
   "cell_type": "code",
   "execution_count": null,
   "id": "1e27b725",
   "metadata": {},
   "outputs": [],
   "source": []
  }
 ],
 "metadata": {
  "kernelspec": {
   "display_name": ".venv",
   "language": "python",
   "name": "python3"
  },
  "language_info": {
   "codemirror_mode": {
    "name": "ipython",
    "version": 3
   },
   "file_extension": ".py",
   "mimetype": "text/x-python",
   "name": "python",
   "nbconvert_exporter": "python",
   "pygments_lexer": "ipython3",
   "version": "3.11.9"
  }
 },
 "nbformat": 4,
 "nbformat_minor": 5
}
